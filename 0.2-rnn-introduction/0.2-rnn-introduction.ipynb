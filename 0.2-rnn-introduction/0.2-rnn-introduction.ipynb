{
 "cells": [
  {
   "cell_type": "markdown",
   "metadata": {
    "collapsed": true
   },
   "source": [
    "# What is Recurrent Neural Networks(RNN)?\n",
    "\n",
    "If we want to predict the next word in a sequence, we'd better know which words are in front of it. The RNN is circular because it performs the same operation for each element in the sequence. Each operation depends on the previous state of the calculation. Think of it in a different way. It can be assumed that the RNN has already remembered the information calculated until now.\n",
    "\n",
    "![](https://imgur.com/B04E6t1.png)\n",
    "\n",
    "In order to make the concept of these loops and states clearer, we use Numpy to implement a simple RNN. Suppose our RNN needs to accept a \"sequence of vectors\" as an input, and this \"sequence of vectors\" is represented as a two-dimensional tensor (timesteps, input_features).\n",
    "\n",
    "Our RNN will iterate over every \"timestep\" and then we will use \"t\" to mean \"timestep.\" The input of a particular \"time step (t)\" is \"X\" (input_feature)\n",
    "\n",
    "## A simple RNN pseudo-code:\n",
    "```\n",
    "# This is the internal state of a certain \"timestep\"\n",
    "state_t = 0 \n",
    "for input_t in input_sequence:\n",
    "    output_t = f(input_t, state_t)\n",
    "    \n",
    "    # The previously processed output becomes a new state\n",
    "    state_t = output_t \n",
    "    ```"
   ]
  },
  {
   "cell_type": "markdown",
   "metadata": {},
   "source": [
    "We can further subdivide the contents of the \"f\" function:\n",
    "> The \"f\" function: used to convert input and state to output. This function is parameterized by two matrices W and U and a bias.\n",
    "\n",
    "## A simple RNN more detailed pseudo-code:\n",
    "```\n",
    "state_t = 0 \n",
    "for input_t in input_sequence:\n",
    "    output_t = activation(dot(W, input_t) + dot(U, state_t) + b)\n",
    "    state_t = output_t \n",
    "    ```\n",
    "    \n",
    "## A simple RNN implemented with Numpy\n",
    "```\n",
    "timesteps = 100 # The number of time steps in the input sequence\n",
    "input_features = 32 # The dimension of the input feature space\n",
    "output_features = 64 # The dimension of the output feature space\n",
    "\n",
    "# input data\n",
    "inputs = np.random.random((timesteps, input_features))\n",
    "\n",
    "# \"initial state\": an all-zero vector\n",
    "state_t = np.zeros((output_features,))\n",
    "\n",
    "# Create a random weight matrix\n",
    "W = np.random.random((output_features, input_features))\n",
    "U = np.random.random((output_features, output_features))\n",
    "b = np.random.random((output_features,))\n",
    "\n",
    "successive_outputs = []\n",
    "for input_t in inputs: \n",
    "    # We combine the input with the current state (the previous output) to obtain the current output.\n",
    "    output_t = np.tanh(np.dot(W, input_t) + np.dot(U, state_t) + b)\n",
    "\n",
    "    # We store this output in a list.\n",
    "    successive_outputs.append(output_t)\n",
    "\n",
    "    # We update the network \"state\" of the next time step\n",
    "    state_t = output_t\n",
    "\n",
    "# The final output is 2D tensor (timesteps, output_features)\n",
    "final_output_sequence = np.concatenate(successive_outputs, axis=0)\n",
    "```"
   ]
  },
  {
   "cell_type": "markdown",
   "metadata": {},
   "source": [
    "![](https://imgur.com/HU65c0w.png)\n",
    "\n",
    "## A first recurrent layer in Keras\n",
    "The process we just naively implemented in Numpy corresponds to an actual Keras layer: the SimpleRNN layer:"
   ]
  },
  {
   "cell_type": "code",
   "execution_count": 1,
   "metadata": {},
   "outputs": [
    {
     "name": "stderr",
     "output_type": "stream",
     "text": [
      "Using TensorFlow backend.\n"
     ]
    },
    {
     "data": {
      "text/plain": [
       "'2.1.2'"
      ]
     },
     "execution_count": 1,
     "metadata": {},
     "output_type": "execute_result"
    }
   ],
   "source": [
    "import keras\n",
    "keras.__version__"
   ]
  },
  {
   "cell_type": "code",
   "execution_count": 2,
   "metadata": {
    "collapsed": true
   },
   "outputs": [],
   "source": [
    "from keras.layers import SimpleRNN"
   ]
  },
  {
   "cell_type": "markdown",
   "metadata": {},
   "source": [
    "There is just one minor difference: SimpleRNN processes batches of sequences, like all other Keras layers, not just a single sequence like in our Numpy example. This means that it takes inputs of shape `(batch_size, timesteps, input_features)`, rather than `(timesteps, input_features).`\n",
    "\n",
    "Like all recurrent layers in Keras, SimpleRNN can be run in two different modes: it can return either the full sequences of successive outputs for each timestep (a 3D tensor of shape `(batch_size, timesteps, output_features))`, or it can return only the last output for each input sequence (a 2D tensor of shape `(batch_size, output_features)`). These two modes are controlled by the `return_sequences` constructor argument. Let's take a look at an example:\n",
    "\n",
    "### Use SimpleRNN and return to the last state\n",
    "`return_sequences` defaults to `False`\n",
    "![](https://imgur.com/KAtwXV6.png)"
   ]
  },
  {
   "cell_type": "code",
   "execution_count": 3,
   "metadata": {},
   "outputs": [
    {
     "name": "stdout",
     "output_type": "stream",
     "text": [
      "_________________________________________________________________\n",
      "Layer (type)                 Output Shape              Param #   \n",
      "=================================================================\n",
      "embedding_1 (Embedding)      (None, None, 32)          320000    \n",
      "_________________________________________________________________\n",
      "simple_rnn_1 (SimpleRNN)     (None, 32)                2080      \n",
      "=================================================================\n",
      "Total params: 322,080\n",
      "Trainable params: 322,080\n",
      "Non-trainable params: 0\n",
      "_________________________________________________________________\n"
     ]
    }
   ],
   "source": [
    "from keras.models import Sequential\n",
    "from keras.layers import Embedding, SimpleRNN\n",
    "\n",
    "model = Sequential()\n",
    "model.add(Embedding(10000, 32))\n",
    "model.add(SimpleRNN(32)) # return_sequences defaults to False\n",
    "model.summary()"
   ]
  },
  {
   "cell_type": "markdown",
   "metadata": {},
   "source": [
    "### Use SimpleRNN and return the complete state sequence\n",
    "Set `return_sequences` to `True`\n",
    "![](https://imgur.com/niNFXit.png)"
   ]
  },
  {
   "cell_type": "code",
   "execution_count": 4,
   "metadata": {},
   "outputs": [
    {
     "name": "stdout",
     "output_type": "stream",
     "text": [
      "_________________________________________________________________\n",
      "Layer (type)                 Output Shape              Param #   \n",
      "=================================================================\n",
      "embedding_2 (Embedding)      (None, None, 32)          320000    \n",
      "_________________________________________________________________\n",
      "simple_rnn_2 (SimpleRNN)     (None, None, 32)          2080      \n",
      "=================================================================\n",
      "Total params: 322,080\n",
      "Trainable params: 322,080\n",
      "Non-trainable params: 0\n",
      "_________________________________________________________________\n"
     ]
    }
   ],
   "source": [
    "model = Sequential()\n",
    "model.add(Embedding(10000, 32))\n",
    "model.add(SimpleRNN(32, return_sequences=True)) # Set return_sequences to True\n",
    "model.summary()"
   ]
  },
  {
   "cell_type": "markdown",
   "metadata": {},
   "source": [
    "### Stack multiple RNN layers together\n",
    "\n",
    "It is sometimes useful to stack several recurrent layers one after the other in order to increase the representational power of a network. In such a setup, you have to get all intermediate layers to return full sequences:\n",
    "![](https://imgur.com/g04Ny5X.png)"
   ]
  },
  {
   "cell_type": "code",
   "execution_count": 5,
   "metadata": {},
   "outputs": [
    {
     "name": "stdout",
     "output_type": "stream",
     "text": [
      "_________________________________________________________________\n",
      "Layer (type)                 Output Shape              Param #   \n",
      "=================================================================\n",
      "embedding_3 (Embedding)      (None, None, 32)          320000    \n",
      "_________________________________________________________________\n",
      "simple_rnn_3 (SimpleRNN)     (None, None, 32)          2080      \n",
      "_________________________________________________________________\n",
      "simple_rnn_4 (SimpleRNN)     (None, None, 32)          2080      \n",
      "_________________________________________________________________\n",
      "simple_rnn_5 (SimpleRNN)     (None, None, 32)          2080      \n",
      "_________________________________________________________________\n",
      "simple_rnn_6 (SimpleRNN)     (None, 32)                2080      \n",
      "=================================================================\n",
      "Total params: 328,320\n",
      "Trainable params: 328,320\n",
      "Non-trainable params: 0\n",
      "_________________________________________________________________\n"
     ]
    }
   ],
   "source": [
    "model = Sequential()\n",
    "model.add(Embedding(10000, 32))\n",
    "model.add(SimpleRNN(32, return_sequences=True))\n",
    "model.add(SimpleRNN(32, return_sequences=True))\n",
    "model.add(SimpleRNN(32, return_sequences=True))\n",
    "model.add(SimpleRNN(32))  # This last layer only returns the last outputs.\n",
    "model.summary()"
   ]
  },
  {
   "cell_type": "markdown",
   "metadata": {},
   "source": [
    "Now let's try to use such a model on the IMDB movie review classification problem. First, let's preprocess the data:"
   ]
  },
  {
   "cell_type": "code",
   "execution_count": 6,
   "metadata": {},
   "outputs": [
    {
     "name": "stdout",
     "output_type": "stream",
     "text": [
      "Loading data...\n",
      "25000 train sequences\n",
      "25000 test sequences\n",
      "Pad sequences (samples x time)\n",
      "input_train shape: (25000, 500)\n",
      "input_test shape: (25000, 500)\n"
     ]
    }
   ],
   "source": [
    "from keras.datasets import imdb\n",
    "from keras.preprocessing import sequence\n",
    "\n",
    "max_features = 10000  # number of words to consider as features\n",
    "maxlen = 500  # cut texts after this number of words (among top max_features most common words)\n",
    "batch_size = 32\n",
    "\n",
    "print('Loading data...')\n",
    "(input_train, y_train), (input_test, y_test) = imdb.load_data(num_words=max_features)\n",
    "print(len(input_train), 'train sequences')\n",
    "print(len(input_test), 'test sequences')\n",
    "\n",
    "print('Pad sequences (samples x time)')\n",
    "input_train = sequence.pad_sequences(input_train, maxlen=maxlen)\n",
    "input_test = sequence.pad_sequences(input_test, maxlen=maxlen)\n",
    "print('input_train shape:', input_train.shape)\n",
    "print('input_test shape:', input_test.shape)"
   ]
  },
  {
   "cell_type": "markdown",
   "metadata": {},
   "source": [
    "Let's train a simple recurrent network using an Embedding layer and a SimpleRNN layer:"
   ]
  },
  {
   "cell_type": "code",
   "execution_count": 9,
   "metadata": {},
   "outputs": [
    {
     "name": "stdout",
     "output_type": "stream",
     "text": [
      "_________________________________________________________________\n",
      "Layer (type)                 Output Shape              Param #   \n",
      "=================================================================\n",
      "embedding_5 (Embedding)      (None, None, 32)          320000    \n",
      "_________________________________________________________________\n",
      "simple_rnn_8 (SimpleRNN)     (None, 32)                2080      \n",
      "_________________________________________________________________\n",
      "dense_2 (Dense)              (None, 1)                 33        \n",
      "=================================================================\n",
      "Total params: 322,113\n",
      "Trainable params: 322,113\n",
      "Non-trainable params: 0\n",
      "_________________________________________________________________\n",
      "Train on 20000 samples, validate on 5000 samples\n",
      "Epoch 1/10\n",
      "20000/20000 [==============================] - 33s 2ms/step - loss: 0.5649 - acc: 0.7116 - val_loss: 0.4154 - val_acc: 0.8422\n",
      "Epoch 2/10\n",
      "20000/20000 [==============================] - 34s 2ms/step - loss: 0.3403 - acc: 0.8660 - val_loss: 0.4315 - val_acc: 0.8312\n",
      "Epoch 3/10\n",
      "20000/20000 [==============================] - 32s 2ms/step - loss: 0.2780 - acc: 0.8927 - val_loss: 0.4053 - val_acc: 0.8182\n",
      "Epoch 4/10\n",
      "20000/20000 [==============================] - 32s 2ms/step - loss: 0.2172 - acc: 0.9172 - val_loss: 0.4051 - val_acc: 0.8060\n",
      "Epoch 5/10\n",
      "20000/20000 [==============================] - 34s 2ms/step - loss: 0.1846 - acc: 0.9304 - val_loss: 0.4933 - val_acc: 0.8370\n",
      "Epoch 6/10\n",
      "20000/20000 [==============================] - 32s 2ms/step - loss: 0.1474 - acc: 0.9460 - val_loss: 0.4022 - val_acc: 0.8482\n",
      "Epoch 7/10\n",
      "20000/20000 [==============================] - 32s 2ms/step - loss: 0.1119 - acc: 0.9603 - val_loss: 0.5255 - val_acc: 0.7852\n",
      "Epoch 8/10\n",
      "20000/20000 [==============================] - 31s 2ms/step - loss: 0.0794 - acc: 0.9734 - val_loss: 0.4780 - val_acc: 0.8078\n",
      "Epoch 9/10\n",
      "20000/20000 [==============================] - 31s 2ms/step - loss: 0.0581 - acc: 0.9814 - val_loss: 0.5093 - val_acc: 0.8576\n",
      "Epoch 10/10\n",
      "20000/20000 [==============================] - 32s 2ms/step - loss: 0.0435 - acc: 0.9858 - val_loss: 0.5593 - val_acc: 0.8506\n"
     ]
    }
   ],
   "source": [
    "from keras.layers import Dense\n",
    "\n",
    "model = Sequential()\n",
    "model.add(Embedding(max_features, 32))\n",
    "model.add(SimpleRNN(32))\n",
    "model.add(Dense(1, activation='sigmoid'))\n",
    "\n",
    "model.summary()\n",
    "\n",
    "model.compile(optimizer='rmsprop', loss='binary_crossentropy', metrics=['acc'])\n",
    "history = model.fit(input_train, y_train,\n",
    "                    epochs=10,\n",
    "                    batch_size=128,\n",
    "                    validation_split=0.2)"
   ]
  },
  {
   "cell_type": "code",
   "execution_count": 11,
   "metadata": {},
   "outputs": [
    {
     "data": {
      "image/png": "[encoded data removed]",
      "text/plain": [
       "<matplotlib.figure.Figure at 0x1701087a898>"
      ]
     },
     "metadata": {},
     "output_type": "display_data"
    },
    {
     "data": {
      "image/png": "[encoded data removed]",
      "text/plain": [
       "<matplotlib.figure.Figure at 0x1701069cac8>"
      ]
     },
     "metadata": {},
     "output_type": "display_data"
    }
   ],
   "source": [
    "import matplotlib.pyplot as plt\n",
    "\n",
    "acc = history.history['acc']\n",
    "val_acc = history.history['val_acc']\n",
    "loss = history.history['loss']\n",
    "val_loss = history.history['val_loss']\n",
    "\n",
    "epochs = range(len(acc))\n",
    "\n",
    "plt.plot(epochs, acc, label='Training acc')\n",
    "plt.plot(epochs, val_acc, label='Validation acc')\n",
    "plt.title('Training and validation accuracy')\n",
    "plt.legend()\n",
    "\n",
    "plt.figure()\n",
    "\n",
    "plt.plot(epochs, loss, label='Training loss')\n",
    "plt.plot(epochs, val_loss, label='Validation loss')\n",
    "plt.title('Training and validation loss')\n",
    "plt.legend()\n",
    "\n",
    "plt.show()"
   ]
  },
  {
   "cell_type": "markdown",
   "metadata": {},
   "source": [
    "Unfortunately, our small recurrent network doesn't perform very well at all compared to this baseline (only up to 85% validation accuracy). Part of the problem is that our inputs only consider the first 500 words rather the full sequences -- hence our RNN has access to less information than our earlier baseline model. The remainder of the problem is simply that SimpleRNN isn't very good at processing long sequences, like text. Other types of recurrent layers perform much better. Let's take a look at some more advanced layers."
   ]
  },
  {
   "cell_type": "markdown",
   "metadata": {},
   "source": [
    "## Learn about long short-term memory (LSTM) and GRU\n",
    "SimpleRNN is not the only available RNN layer for Keras: there are LSTM and GRU in Keras. In practice, you will always use one of them. SimpleRNN is generally too simple to use for any practical purpose.\n",
    "\n",
    "The LSTM (long short-term memory cell) uses input gates to forget the forget and output gates to resolve the phenomenon of gradient vanishing  or gradient exploding that the original RNN cell would face. \n",
    "\n",
    "![](https://imgur.com/Sn93XUl.png)\n",
    "Each of these gates has its own set of weight values. The entire LSTM cell is differential (meaning we calculate gradients and use them to update weights), so we can iteratively train it using back-propagation. Basically, LSTM units provide us with mechanisms for forget, memory and attention.\n",
    "![](https://imgur.com/rEaka4u.png)"
   ]
  },
  {
   "cell_type": "markdown",
   "metadata": {},
   "source": [
    "## A concrete LSTM example in Keras\n",
    "Now let's switch to more practical concerns: we will set up a model using a LSTM layer and train it on the IMDB data. Here's the network, similar to the one with SimpleRNN that we just presented. We only specify the output dimensionality of the LSTM layer, and leave every other argument (there are lots) to the Keras defaults. Keras has good defaults, and things will almost always \"just work\" without you having to spend time tuning parameters by hand."
   ]
  },
  {
   "cell_type": "code",
   "execution_count": 10,
   "metadata": {},
   "outputs": [
    {
     "name": "stdout",
     "output_type": "stream",
     "text": [
      "_________________________________________________________________\n",
      "Layer (type)                 Output Shape              Param #   \n",
      "=================================================================\n",
      "embedding_6 (Embedding)      (None, None, 32)          320000    \n",
      "_________________________________________________________________\n",
      "lstm_1 (LSTM)                (None, 32)                8320      \n",
      "_________________________________________________________________\n",
      "dense_3 (Dense)              (None, 1)                 33        \n",
      "=================================================================\n",
      "Total params: 328,353\n",
      "Trainable params: 328,353\n",
      "Non-trainable params: 0\n",
      "_________________________________________________________________\n",
      "Train on 20000 samples, validate on 5000 samples\n",
      "Epoch 1/10\n",
      "20000/20000 [==============================] - 144s 7ms/step - loss: 0.5152 - acc: 0.7499 - val_loss: 0.5077 - val_acc: 0.7926\n",
      "Epoch 2/10\n",
      "20000/20000 [==============================] - 143s 7ms/step - loss: 0.2994 - acc: 0.8831 - val_loss: 0.4810 - val_acc: 0.8442\n",
      "Epoch 3/10\n",
      "20000/20000 [==============================] - 133s 7ms/step - loss: 0.2413 - acc: 0.9082 - val_loss: 0.5433 - val_acc: 0.8282\n",
      "Epoch 4/10\n",
      "20000/20000 [==============================] - 132s 7ms/step - loss: 0.2021 - acc: 0.9234 - val_loss: 0.2998 - val_acc: 0.8830\n",
      "Epoch 5/10\n",
      "20000/20000 [==============================] - 133s 7ms/step - loss: 0.1759 - acc: 0.9352 - val_loss: 0.4273 - val_acc: 0.8368\n",
      "Epoch 6/10\n",
      "20000/20000 [==============================] - 140s 7ms/step - loss: 0.1608 - acc: 0.9407 - val_loss: 0.3807 - val_acc: 0.8760\n",
      "Epoch 7/10\n",
      "20000/20000 [==============================] - 139s 7ms/step - loss: 0.1420 - acc: 0.9500 - val_loss: 0.3276 - val_acc: 0.8570\n",
      "Epoch 8/10\n",
      "20000/20000 [==============================] - 140s 7ms/step - loss: 0.1341 - acc: 0.9532 - val_loss: 0.3389 - val_acc: 0.8680\n",
      "Epoch 9/10\n",
      "20000/20000 [==============================] - 141s 7ms/step - loss: 0.1198 - acc: 0.9583 - val_loss: 0.4225 - val_acc: 0.8344\n",
      "Epoch 10/10\n",
      "20000/20000 [==============================] - 136s 7ms/step - loss: 0.1165 - acc: 0.9618 - val_loss: 0.3636 - val_acc: 0.8704\n"
     ]
    }
   ],
   "source": [
    "from keras.layers import LSTM\n",
    "\n",
    "model = Sequential()\n",
    "model.add(Embedding(max_features, 32))\n",
    "model.add(LSTM(32))\n",
    "model.add(Dense(1, activation='sigmoid'))\n",
    "\n",
    "model.summary()\n",
    "\n",
    "model.compile(optimizer='rmsprop',\n",
    "              loss='binary_crossentropy',\n",
    "              metrics=['acc'])\n",
    "history = model.fit(input_train, y_train,\n",
    "                    epochs=10,\n",
    "                    batch_size=128,\n",
    "                    validation_split=0.2)"
   ]
  },
  {
   "cell_type": "code",
   "execution_count": 12,
   "metadata": {},
   "outputs": [
    {
     "data": {
      "image/png": "[encoded data removed]",
      "text/plain": [
       "<matplotlib.figure.Figure at 0x170107d94e0>"
      ]
     },
     "metadata": {},
     "output_type": "display_data"
    },
    {
     "data": {
      "image/png": "[encoded data removed]",
      "text/plain": [
       "<matplotlib.figure.Figure at 0x17010afc550>"
      ]
     },
     "metadata": {},
     "output_type": "display_data"
    }
   ],
   "source": [
    "acc = history.history['acc']\n",
    "val_acc = history.history['val_acc']\n",
    "loss = history.history['loss']\n",
    "val_loss = history.history['val_loss']\n",
    "\n",
    "epochs = range(len(acc))\n",
    "\n",
    "plt.plot(epochs, acc, label='Training acc')\n",
    "plt.plot(epochs, val_acc, label='Validation acc')\n",
    "plt.title('Training and validation accuracy')\n",
    "plt.legend()\n",
    "\n",
    "plt.figure()\n",
    "\n",
    "plt.plot(epochs, loss, label='Training loss')\n",
    "plt.plot(epochs, val_loss, label='Validation loss')\n",
    "plt.title('Training and validation loss')\n",
    "plt.legend()\n",
    "\n",
    "plt.show()"
   ]
  },
  {
   "cell_type": "markdown",
   "metadata": {},
   "source": [
    "# Reference:\n",
    "[fchollet: deep-learning-with-python-notebooks](https://github.com/fchollet/deep-learning-with-python-notebooks/blob/master/6.2-understanding-recurrent-neural-networks.ipynb)"
   ]
  },
  {
   "cell_type": "code",
   "execution_count": null,
   "metadata": {
    "collapsed": true
   },
   "outputs": [],
   "source": []
  }
 ],
 "metadata": {
  "kernelspec": {
   "display_name": "Python 3",
   "language": "python",
   "name": "python3"
  },
  "language_info": {
   "codemirror_mode": {
    "name": "ipython",
    "version": 3
   },
   "file_extension": ".py",
   "mimetype": "text/x-python",
   "name": "python",
   "nbconvert_exporter": "python",
   "pygments_lexer": "ipython3",
   "version": "3.6.2"
  }
 },
 "nbformat": 4,
 "nbformat_minor": 2
}
