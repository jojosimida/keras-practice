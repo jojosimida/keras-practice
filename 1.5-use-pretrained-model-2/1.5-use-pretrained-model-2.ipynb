{
 "cells": [
  {
   "cell_type": "markdown",
   "metadata": {},
   "source": [
    "# Use a preconditioned convolutional network model\n",
    "\n",
    "A common and efficient way to do deep learning on small image datasets is to use pre-trained network models.The pre-trained network model is just a network model that has been previously saved after training on a large data set, often with a large image classification task.\n",
    "\n",
    "If this raw dataset is large enough and universally adequate, then **the level of spatial features learned by trained networks can effectively serve as a universal model for our visual world **and therefore its characteristics prove to be useful for many different computer vision problems , Even though these new questions may involve completely different types from the original ones.\n",
    "\n",
    "For example, you can train a network on ImageNet, where images are primarily animal and everyday items, and then re-use this well-trained web model to identify the furniture in the image.Compared with many older shallow learning methods, this portability of learning features of different problems is one of the major advantages of deep learning, which makes deep learning very effective for small data image data problems.\n",
    "\n",
    "## Use VGG16 to pre-train\n",
    "\n",
    "There are two ways to use pre-trained network models: **feature extraction** and **fine-tuning**."
   ]
  },
  {
   "cell_type": "code",
   "execution_count": 1,
   "metadata": {},
   "outputs": [
    {
     "name": "stderr",
     "output_type": "stream",
     "text": [
      "Using TensorFlow backend.\n"
     ]
    },
    {
     "name": "stdout",
     "output_type": "stream",
     "text": [
      "Platform: Windows-10-10.0.16299-SP0\n",
      "Tensorflow version: 1.4.0\n",
      "Keras version: 2.1.2\n"
     ]
    }
   ],
   "source": [
    "import platform\n",
    "import tensorflow\n",
    "import keras\n",
    "print(\"Platform: {}\".format(platform.platform()))\n",
    "print(\"Tensorflow version: {}\".format(tensorflow.__version__))\n",
    "print(\"Keras version: {}\".format(keras.__version__))\n",
    "\n",
    "%matplotlib inline\n",
    "import matplotlib.pyplot as plt\n",
    "import matplotlib.image as mpimg\n",
    "import numpy as np\n",
    "from IPython.display import Image"
   ]
  },
  {
   "cell_type": "markdown",
   "metadata": {},
   "source": [
    "# Data set description\n",
    "\n",
    "Kaggle\n",
    "\n",
    "data set: Dogs vs. Cats [download](https://www.kaggle.com/c/dogs-vs-cats/data)\n",
    "\n",
    "![dataset](https://imgur.com/0Il4OZF.png)\n",
    "\n",
    "The original dataset contains images of 25,000 dogs and cats (12,500 per category) and a size of 543MB (compressed). \n",
    "\n",
    "After downloading and extracting, we will create a new data set containing three subsets: a set of **Training sets** containing **1000** samples per class, a **Validation set** of **500** samples per set, and the last one containing **500** for each class **Test set** of a sample.\n",
    "<br><br><br>\n",
    "### About the data prepare code is in 1.4-small-datasets-image-augmentation###"
   ]
  },
  {
   "cell_type": "code",
   "execution_count": 2,
   "metadata": {
    "collapsed": true
   },
   "outputs": [],
   "source": [
    "import os\n",
    "\n",
    "# ROOT_DIR = os.getcwd()\n",
    "original_dataset_dir = \"D:/Program/dataset/Dogs_vs_Cats\"\n",
    "\n",
    "def create_directory(datapath, subname):\n",
    "    child_datapath = os.path.join(datapath, subname)\n",
    "    if not os.path.exists(child_datapath): \n",
    "        os.mkdir(child_datapath)\n",
    "        \n",
    "    return child_datapath\n",
    "\n",
    "\n",
    "# Create a directory to store the data set\n",
    "base_dir = create_directory(original_dataset_dir, \"cats_and_dogs_small\")\n",
    "\n",
    "# Training materials directory\n",
    "train_dir = create_directory(base_dir, 'train')\n",
    "\n",
    "# Validation data directory\n",
    "validation_dir = create_directory(base_dir, 'validation')\n",
    "\n",
    "# Test data directory\n",
    "test_dir = create_directory(base_dir, 'test')\n",
    "\n",
    "\n",
    "# Cat's picture of the training information directory\n",
    "train_cats_dir = create_directory(train_dir, 'cats')\n",
    "\n",
    "# Dog pictures of training materials directory\n",
    "train_dogs_dir = create_directory(train_dir, 'dogs')\n",
    "\n",
    "# Cat's picture of the authentication data directory\n",
    "validation_cats_dir = create_directory(validation_dir, 'cats')\n",
    "\n",
    "# Dog's picture verification information directory\n",
    "validation_dogs_dir = create_directory(validation_dir, 'dogs')\n",
    "\n",
    "# Cat's picture of the test data directory\n",
    "test_cats_dir = create_directory(test_dir, 'cats')\n",
    "\n",
    "# Dog's picture of the test data directory\n",
    "test_dogs_dir = create_directory(test_dir, 'dogs')"
   ]
  },
  {
   "cell_type": "code",
   "execution_count": 3,
   "metadata": {},
   "outputs": [
    {
     "name": "stdout",
     "output_type": "stream",
     "text": [
      "total training cat images: 1000\n",
      "total training dog images: 1000\n",
      "total validation cat images: 500\n",
      "total validation dog images: 500\n",
      "total test cat images: 500\n",
      "total test dog images: 500\n"
     ]
    }
   ],
   "source": [
    "print('total training cat images:', len(os.listdir(train_cats_dir)))\n",
    "print('total training dog images:', len(os.listdir(train_dogs_dir)))\n",
    "print('total validation cat images:', len(os.listdir(validation_cats_dir)))\n",
    "print('total validation dog images:', len(os.listdir(validation_dogs_dir)))\n",
    "print('total test cat images:', len(os.listdir(test_cats_dir)))\n",
    "print('total test dog images:', len(os.listdir(test_dogs_dir)))"
   ]
  },
  {
   "cell_type": "markdown",
   "metadata": {},
   "source": [
    "# Feature Extraction\n",
    "\n",
    "Feature extraction involves the use of pre-trained network models to extract features from new samples. These features pass a \"new\" classifier (training from scratch).\n",
    "\n",
    "As mentioned earlier, the convolutional network architecture for image classification consists of two main parts: they start with a series of convolutional and pooling layers and end with a densely-connected classifier. The first part is called the \"convolution base\" of the model. In a convolutional network, \"feature extraction\" will simply include \"convolution base\" of a previously trained network, re-feed new data therethrough, and train one more according to the output of the \"convolution base\" New classifier.\n",
    "\n",
    "![feature extraction](https://s3.amazonaws.com/book.keras.io/img/ch5/swapping_fc_classifier.png)\n",
    "\n",
    "Why reuse **\"convolution base\"**? Can we reuse densely-connected classifiers? Generally, it should be avoided. The reason is simply that the features of \"convolution base\" learning may be more general and therefore more reusable: a convolutional network's feature maps are a mapping of common concepts to images. On the other hand, the features learned by the classifier will be very specific to the set of categories for which the model is trained. They will only contain information about the probability of existence of that class or classes in the whole picture.\n",
    "\n",
    "In addition, the representations found in densely connected layers no longer contain any information that \"space / position\" is in the input image: these layers have been freed from the notion of space. For the important and sensitive issue of object location, the functionality of Dense Hierarchy will be largely un-reusable.\n",
    "\n",
    "Note that the level of generality (and therefore reusability) of representation extracted by a particular convolution layer depends on the depth of the neural layer in the model. **Older layers in the model extract local, highly generic feature maps** (such as visual edges, colors and textures), while higher layers extract more abstract concepts (such as \"cat ears\" or \"dog eyes\"). ***So if your new dataset is very different from the dataset your original model was trained on, it's best to use only the first few layers of the model for feature extraction instead of using the entire Convolution Base.***\n",
    "\n",
    "In our case, it is likely that it would be beneficial to reuse the information contained in the original model's densely populated layer because the ImageNet class collection contains multiple dog and cat classes. However, to cover more generalities, we will not choose to use the original densely-connected layer because the new problem's category set does not overlap with the original model's category set.\n",
    "\n",
    "Apply the features extracted from our cat and dog images by using the \"Convolution Base\" of the **VGG16** network trained on ImageNet and then train a cat and dog classifier on top of these features."
   ]
  },
  {
   "cell_type": "code",
   "execution_count": 4,
   "metadata": {},
   "outputs": [
    {
     "name": "stdout",
     "output_type": "stream",
     "text": [
      "Downloading data from https://github.com/fchollet/deep-learning-models/releases/download/v0.1/vgg16_weights_tf_dim_ordering_tf_kernels_notop.h5\n",
      "58892288/58889256 [==============================] - 13s 0us/step\n"
     ]
    }
   ],
   "source": [
    "from keras.applications import VGG16\n",
    "\n",
    "conv_base = VGG16(weights='imagenet',\n",
    "                  include_top=False, \n",
    "                  input_shape=(150, 150, 3)) "
   ]
  },
  {
   "cell_type": "markdown",
   "metadata": {},
   "source": [
    "* weights: one of None (random initialization) or 'imagenet' (pre-training on ImageNet).\n",
    "* include_top: whether to include the 3 fully-connected layers at the top of the network.\n",
    "* input_shape: optional shape tuple, only to be specified if include_top is False"
   ]
  },
  {
   "cell_type": "code",
   "execution_count": 5,
   "metadata": {},
   "outputs": [
    {
     "name": "stdout",
     "output_type": "stream",
     "text": [
      "_________________________________________________________________\n",
      "Layer (type)                 Output Shape              Param #   \n",
      "=================================================================\n",
      "input_1 (InputLayer)         (None, 150, 150, 3)       0         \n",
      "_________________________________________________________________\n",
      "block1_conv1 (Conv2D)        (None, 150, 150, 64)      1792      \n",
      "_________________________________________________________________\n",
      "block1_conv2 (Conv2D)        (None, 150, 150, 64)      36928     \n",
      "_________________________________________________________________\n",
      "block1_pool (MaxPooling2D)   (None, 75, 75, 64)        0         \n",
      "_________________________________________________________________\n",
      "block2_conv1 (Conv2D)        (None, 75, 75, 128)       73856     \n",
      "_________________________________________________________________\n",
      "block2_conv2 (Conv2D)        (None, 75, 75, 128)       147584    \n",
      "_________________________________________________________________\n",
      "block2_pool (MaxPooling2D)   (None, 37, 37, 128)       0         \n",
      "_________________________________________________________________\n",
      "block3_conv1 (Conv2D)        (None, 37, 37, 256)       295168    \n",
      "_________________________________________________________________\n",
      "block3_conv2 (Conv2D)        (None, 37, 37, 256)       590080    \n",
      "_________________________________________________________________\n",
      "block3_conv3 (Conv2D)        (None, 37, 37, 256)       590080    \n",
      "_________________________________________________________________\n",
      "block3_pool (MaxPooling2D)   (None, 18, 18, 256)       0         \n",
      "_________________________________________________________________\n",
      "block4_conv1 (Conv2D)        (None, 18, 18, 512)       1180160   \n",
      "_________________________________________________________________\n",
      "block4_conv2 (Conv2D)        (None, 18, 18, 512)       2359808   \n",
      "_________________________________________________________________\n",
      "block4_conv3 (Conv2D)        (None, 18, 18, 512)       2359808   \n",
      "_________________________________________________________________\n",
      "block4_pool (MaxPooling2D)   (None, 9, 9, 512)         0         \n",
      "_________________________________________________________________\n",
      "block5_conv1 (Conv2D)        (None, 9, 9, 512)         2359808   \n",
      "_________________________________________________________________\n",
      "block5_conv2 (Conv2D)        (None, 9, 9, 512)         2359808   \n",
      "_________________________________________________________________\n",
      "block5_conv3 (Conv2D)        (None, 9, 9, 512)         2359808   \n",
      "_________________________________________________________________\n",
      "block5_pool (MaxPooling2D)   (None, 4, 4, 512)         0         \n",
      "=================================================================\n",
      "Total params: 14,714,688\n",
      "Trainable params: 14,714,688\n",
      "Non-trainable params: 0\n",
      "_________________________________________________________________\n"
     ]
    }
   ],
   "source": [
    "conv_base.summary()"
   ]
  },
  {
   "cell_type": "markdown",
   "metadata": {},
   "source": [
    "\n",
    "There are two ways to proceed:\n",
    "\n",
    "1. Run \"Convolution Base\" on our dataset, record its output as a Numpy array onto disk, and then use this as input for a densely-connected classifier. This solution is fast and easy because it only requires a \"convolution base\" that runs once for each input image, and \"convolution base\" is by far the most expensive part of the pipeline. However, because of the same reason, this practice does not allow us to use the **data augmentation** approach.\n",
    "\n",
    "\n",
    "2. Extend the model we own (conv_base) by continuing to add the Dense layer to the top of the trained model, and run the entire data input end-to-end across the input. This approach allows us to use **data augmentation** because every time the input image is seen by the model, it passes through the \"convolution base.\" However, this technique takes more computation and training time than the first technique.\n",
    "\n",
    "### Method 1: Convolution Substrate:Extract features + Concatenate a new dense classification layer: retraining\n",
    "\n",
    "Record the output of \"conv_base\" on our data and use these as input for the new model.\n"
   ]
  },
  {
   "cell_type": "code",
   "execution_count": 9,
   "metadata": {},
   "outputs": [
    {
     "name": "stdout",
     "output_type": "stream",
     "text": [
      "Found 2000 images belonging to 2 classes.\n",
      "extract_features complete!\n",
      "Found 1000 images belonging to 2 classes.\n",
      "extract_features complete!\n",
      "Found 1000 images belonging to 2 classes.\n",
      "extract_features complete!\n",
      "Wall time: 42.5 s\n"
     ]
    }
   ],
   "source": [
    "%%time\n",
    "import os\n",
    "import numpy as np\n",
    "from keras.preprocessing.image import ImageDataGenerator\n",
    "\n",
    "datagen = ImageDataGenerator(rescale=1./255)\n",
    "batch_size = 20 \n",
    "\n",
    "\n",
    "def extract_features(directory, sample_count): \n",
    "    \n",
    "    # According to the last layer of the VGG16 (convolution base) the turn-out tensor specification\n",
    "    features = np.zeros(shape=(sample_count, 4, 4, 512)) \n",
    "    \n",
    "    # The number of images to process\n",
    "    labels = np.zeros(shape=(sample_count)) \n",
    "    \n",
    "    # Produces an \"image data generator\" instance (the data is in the file directory) and \n",
    "    # calls it once, which create specific batch of image data\n",
    "    generator = datagen.flow_from_directory(\n",
    "        directory,\n",
    "        target_size=(150, 150),  \n",
    "        batch_size=batch_size,   \n",
    "        class_mode='binary')     \n",
    "    \n",
    "   \n",
    "    i = 0\n",
    "    for inputs_batch, labels_batch in generator:\n",
    "        # Extract image features through \"Convolution Base\"\n",
    "        features_batch = conv_base.predict(inputs_batch)\n",
    "        # store the feature\n",
    "        features[i * batch_size : (i + 1) * batch_size] = features_batch\n",
    "        # store the label\n",
    "        labels[i * batch_size : (i + 1) * batch_size] = labels_batch \n",
    "        i += 1\n",
    "            \n",
    "        if i * batch_size >= sample_count:\n",
    "            # Note that since generators yield data indefinitely in a loop,\n",
    "            # we must `break` after every image has been seen once.\n",
    "            break\n",
    "    \n",
    "    print('extract_features complete!')\n",
    "    return features, labels\n",
    "\n",
    "train_features, train_labels = extract_features(train_dir, 2000) \n",
    "validation_features, validation_labels = extract_features(validation_dir, 1000) \n",
    "test_features, test_labels = extract_features(test_dir, 1000) "
   ]
  },
  {
   "cell_type": "markdown",
   "metadata": {},
   "source": [
    "shape （sample，4，4，512） resize to （sample, 8192）\n",
    "to connect to the densely-connected Classifier"
   ]
  },
  {
   "cell_type": "code",
   "execution_count": 13,
   "metadata": {
    "collapsed": true
   },
   "outputs": [],
   "source": [
    "train_features = np.reshape(train_features, (2000, 4 * 4 * 512))\n",
    "validation_features = np.reshape(validation_features, (1000, 4 * 4 * 512))\n",
    "test_features = np.reshape(test_features, (1000, 4 * 4 * 512))"
   ]
  },
  {
   "cell_type": "markdown",
   "metadata": {},
   "source": [
    "Define our densely-connected classifier (note the use of dropout for normalization) and train the data and labels we just recorded"
   ]
  },
  {
   "cell_type": "code",
   "execution_count": 14,
   "metadata": {},
   "outputs": [
    {
     "name": "stdout",
     "output_type": "stream",
     "text": [
      "Train on 2000 samples, validate on 1000 samples\n",
      "Epoch 1/30\n",
      "2000/2000 [==============================] - 2s 1ms/step - loss: 0.6122 - acc: 0.6635 - val_loss: 0.4522 - val_acc: 0.8290\n",
      "Epoch 2/30\n",
      "2000/2000 [==============================] - 1s 672us/step - loss: 0.4339 - acc: 0.8110 - val_loss: 0.3645 - val_acc: 0.8640\n",
      "Epoch 3/30\n",
      "2000/2000 [==============================] - 1s 527us/step - loss: 0.3589 - acc: 0.8530 - val_loss: 0.3305 - val_acc: 0.8610\n",
      "Epoch 4/30\n",
      "2000/2000 [==============================] - 1s 511us/step - loss: 0.3128 - acc: 0.8815 - val_loss: 0.2986 - val_acc: 0.8800\n",
      "Epoch 5/30\n",
      "2000/2000 [==============================] - 1s 567us/step - loss: 0.2873 - acc: 0.8820 - val_loss: 0.2816 - val_acc: 0.8870\n",
      "Epoch 6/30\n",
      "2000/2000 [==============================] - 1s 497us/step - loss: 0.2593 - acc: 0.9015 - val_loss: 0.2843 - val_acc: 0.8800\n",
      "Epoch 7/30\n",
      "2000/2000 [==============================] - 1s 504us/step - loss: 0.2498 - acc: 0.9045 - val_loss: 0.2619 - val_acc: 0.8950\n",
      "Epoch 8/30\n",
      "2000/2000 [==============================] - 1s 511us/step - loss: 0.2318 - acc: 0.9090 - val_loss: 0.2587 - val_acc: 0.8900\n",
      "Epoch 9/30\n",
      "2000/2000 [==============================] - 1s 613us/step - loss: 0.2226 - acc: 0.9145 - val_loss: 0.2502 - val_acc: 0.9020\n",
      "Epoch 10/30\n",
      "2000/2000 [==============================] - 1s 527us/step - loss: 0.2108 - acc: 0.9165 - val_loss: 0.2493 - val_acc: 0.8940\n",
      "Epoch 11/30\n",
      "2000/2000 [==============================] - 1s 516us/step - loss: 0.1961 - acc: 0.9330 - val_loss: 0.2429 - val_acc: 0.8980\n",
      "Epoch 12/30\n",
      "2000/2000 [==============================] - 1s 512us/step - loss: 0.1891 - acc: 0.9325 - val_loss: 0.2459 - val_acc: 0.8970\n",
      "Epoch 13/30\n",
      "2000/2000 [==============================] - 1s 511us/step - loss: 0.1787 - acc: 0.9335 - val_loss: 0.2392 - val_acc: 0.9060\n",
      "Epoch 14/30\n",
      "2000/2000 [==============================] - 1s 500us/step - loss: 0.1725 - acc: 0.9360 - val_loss: 0.2405 - val_acc: 0.8950\n",
      "Epoch 15/30\n",
      "2000/2000 [==============================] - 1s 553us/step - loss: 0.1602 - acc: 0.9485 - val_loss: 0.2560 - val_acc: 0.8920\n",
      "Epoch 16/30\n",
      "2000/2000 [==============================] - 1s 592us/step - loss: 0.1580 - acc: 0.9430 - val_loss: 0.2440 - val_acc: 0.8990\n",
      "Epoch 17/30\n",
      "2000/2000 [==============================] - 1s 564us/step - loss: 0.1581 - acc: 0.9420 - val_loss: 0.2366 - val_acc: 0.8990\n",
      "Epoch 18/30\n",
      "2000/2000 [==============================] - 1s 562us/step - loss: 0.1471 - acc: 0.9455 - val_loss: 0.2402 - val_acc: 0.8980\n",
      "Epoch 19/30\n",
      "2000/2000 [==============================] - 1s 526us/step - loss: 0.1418 - acc: 0.9470 - val_loss: 0.2346 - val_acc: 0.9030\n",
      "Epoch 20/30\n",
      "2000/2000 [==============================] - 1s 533us/step - loss: 0.1393 - acc: 0.9500 - val_loss: 0.2325 - val_acc: 0.9040\n",
      "Epoch 21/30\n",
      "2000/2000 [==============================] - 1s 504us/step - loss: 0.1264 - acc: 0.9620 - val_loss: 0.2325 - val_acc: 0.9040\n",
      "Epoch 22/30\n",
      "2000/2000 [==============================] - 1s 494us/step - loss: 0.1234 - acc: 0.9575 - val_loss: 0.2311 - val_acc: 0.9020\n",
      "Epoch 23/30\n",
      "2000/2000 [==============================] - 1s 501us/step - loss: 0.1205 - acc: 0.9645 - val_loss: 0.2360 - val_acc: 0.9010\n",
      "Epoch 24/30\n",
      "2000/2000 [==============================] - 1s 496us/step - loss: 0.1196 - acc: 0.9625 - val_loss: 0.2418 - val_acc: 0.8970\n",
      "Epoch 25/30\n",
      "2000/2000 [==============================] - 1s 503us/step - loss: 0.1131 - acc: 0.9640 - val_loss: 0.2320 - val_acc: 0.9020\n",
      "Epoch 26/30\n",
      "2000/2000 [==============================] - 1s 513us/step - loss: 0.1078 - acc: 0.9665 - val_loss: 0.2354 - val_acc: 0.9010\n",
      "Epoch 27/30\n",
      "2000/2000 [==============================] - 1s 517us/step - loss: 0.1018 - acc: 0.9700 - val_loss: 0.2360 - val_acc: 0.9020\n",
      "Epoch 28/30\n",
      "2000/2000 [==============================] - 1s 586us/step - loss: 0.1043 - acc: 0.9655 - val_loss: 0.2330 - val_acc: 0.9010\n",
      "Epoch 29/30\n",
      "2000/2000 [==============================] - 1s 536us/step - loss: 0.0946 - acc: 0.9700 - val_loss: 0.2433 - val_acc: 0.9010\n",
      "Epoch 30/30\n",
      "2000/2000 [==============================] - 1s 511us/step - loss: 0.0957 - acc: 0.9715 - val_loss: 0.2352 - val_acc: 0.9030\n"
     ]
    }
   ],
   "source": [
    "from keras import models\n",
    "from keras.layers import Dense, Dropout\n",
    "from keras import optimizers\n",
    "\n",
    "model = models.Sequential()\n",
    "model.add(Dense(256, activation='relu', input_dim=4*4*512))\n",
    "model.add(Dropout(0.5))\n",
    "model.add(Dense(1, activation='sigmoid')) # # Because of my information only two categories (cat & dog) \n",
    "\n",
    "model.compile(optimizer=optimizers.RMSprop(lr=2e-5),\n",
    "              loss='binary_crossentropy',\n",
    "              metrics=['acc'])\n",
    "\n",
    "history = model.fit(train_features, train_labels,\n",
    "                    epochs=30,\n",
    "                    batch_size=20,\n",
    "                    validation_data=(validation_features, validation_labels))"
   ]
  },
  {
   "cell_type": "code",
   "execution_count": 15,
   "metadata": {},
   "outputs": [
    {
     "data": {
      "image/png": "[encoded data removed]",
      "text/plain": [
       "<matplotlib.figure.Figure at 0x2508f0dccc0>"
      ]
     },
     "metadata": {},
     "output_type": "display_data"
    },
    {
     "data": {
      "image/png": "[encoded data removed]",
      "text/plain": [
       "<matplotlib.figure.Figure at 0x2508f0dc438>"
      ]
     },
     "metadata": {},
     "output_type": "display_data"
    }
   ],
   "source": [
    "import matplotlib.pyplot as plt\n",
    "\n",
    "def draw_history(history):\n",
    "\n",
    "    acc = history.history['acc']\n",
    "    val_acc = history.history['val_acc']\n",
    "    loss = history.history['loss']\n",
    "    val_loss = history.history['val_loss']\n",
    "\n",
    "    epochs = range(len(acc))\n",
    "\n",
    "    plt.plot(epochs, acc, label='Training acc')\n",
    "    plt.plot(epochs, val_acc, label='Validation acc')\n",
    "    plt.title('Training and validation accuracy')\n",
    "    plt.legend()\n",
    "\n",
    "    plt.figure()\n",
    "\n",
    "    plt.plot(epochs, loss, label='Training loss')\n",
    "    plt.plot(epochs, val_loss, label='Validation loss')\n",
    "    plt.title('Training and validation loss')\n",
    "    plt.legend()\n",
    "\n",
    "    plt.show()\n",
    "    \n",
    "draw_history(history)"
   ]
  },
  {
   "cell_type": "markdown",
   "metadata": {},
   "source": [
    "The validation accuracy rate of about 90%\n",
    "\n",
    "But, our chart also shows that we were overfitting almost from the very beginning, though we used quite a bit of Dropout.\n",
    "\n",
    "This is because this technique does not require data expansion (important for preventing overfitting with small image datasets)."
   ]
  },
  {
   "cell_type": "code",
   "execution_count": null,
   "metadata": {
    "collapsed": true
   },
   "outputs": [],
   "source": []
  }
 ],
 "metadata": {
  "kernelspec": {
   "display_name": "Python 3",
   "language": "python",
   "name": "python3"
  },
  "language_info": {
   "codemirror_mode": {
    "name": "ipython",
    "version": 3
   },
   "file_extension": ".py",
   "mimetype": "text/x-python",
   "name": "python",
   "nbconvert_exporter": "python",
   "pygments_lexer": "ipython3",
   "version": "3.6.2"
  }
 },
 "nbformat": 4,
 "nbformat_minor": 2
}
