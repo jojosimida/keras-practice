{
 "cells": [
  {
   "cell_type": "markdown",
   "metadata": {},
   "source": [
    "# Use a preconditioned convolutional network model\n",
    "\n",
    "A common and efficient way to do deep learning on small image datasets is to use pre-trained network models.The pre-trained network model is just a network model that has been previously saved after training on a large data set, often with a large image classification task.\n",
    "\n",
    "If this raw dataset is large enough and universally adequate, then **the level of spatial features learned by trained networks can effectively serve as a universal model for our visual world **and therefore its characteristics prove to be useful for many different computer vision problems , Even though these new questions may involve completely different types from the original ones.\n",
    "\n",
    "For example, you can train a network on ImageNet, where images are primarily animal and everyday items, and then re-use this well-trained web model to identify the furniture in the image.Compared with many older shallow learning methods, this portability of learning features of different problems is one of the major advantages of deep learning, which makes deep learning very effective for small data image data problems.\n",
    "\n",
    "## Use VGG16 to pre-train\n",
    "\n",
    "There are two ways to use pre-trained network models: **feature extraction** and **fine-tuning**."
   ]
  },
  {
   "cell_type": "code",
   "execution_count": 1,
   "metadata": {},
   "outputs": [
    {
     "name": "stderr",
     "output_type": "stream",
     "text": [
      "Using TensorFlow backend.\n"
     ]
    },
    {
     "name": "stdout",
     "output_type": "stream",
     "text": [
      "Platform: Windows-10-10.0.16299-SP0\n",
      "Tensorflow version: 1.4.0\n",
      "Keras version: 2.1.2\n"
     ]
    }
   ],
   "source": [
    "import platform\n",
    "import tensorflow\n",
    "import keras\n",
    "print(\"Platform: {}\".format(platform.platform()))\n",
    "print(\"Tensorflow version: {}\".format(tensorflow.__version__))\n",
    "print(\"Keras version: {}\".format(keras.__version__))\n",
    "\n",
    "%matplotlib inline\n",
    "import matplotlib.pyplot as plt\n",
    "import matplotlib.image as mpimg\n",
    "import numpy as np\n",
    "from IPython.display import Image"
   ]
  },
  {
   "cell_type": "markdown",
   "metadata": {},
   "source": [
    "# Data set description\n",
    "\n",
    "Kaggle\n",
    "\n",
    "data set: Dogs vs. Cats [download](https://www.kaggle.com/c/dogs-vs-cats/data)\n",
    "\n",
    "![dataset](https://imgur.com/0Il4OZF.png)\n",
    "\n",
    "The original dataset contains images of 25,000 dogs and cats (12,500 per category) and a size of 543MB (compressed). \n",
    "\n",
    "After downloading and extracting, we will create a new data set containing three subsets: a set of **Training sets** containing **1000** samples per class, a **Validation set** of **500** samples per set, and the last one containing **500** for each class **Test set** of a sample.\n",
    "<br><br><br>\n",
    "### About the data prepare code is in 1.4-small-datasets-image-augmentation###"
   ]
  },
  {
   "cell_type": "code",
   "execution_count": 2,
   "metadata": {
    "collapsed": true
   },
   "outputs": [],
   "source": [
    "import os\n",
    "\n",
    "# ROOT_DIR = os.getcwd()\n",
    "original_dataset_dir = \"D:/Program/dataset/Dogs_vs_Cats\"\n",
    "\n",
    "def create_directory(datapath, subname):\n",
    "    child_datapath = os.path.join(datapath, subname)\n",
    "    if not os.path.exists(child_datapath): \n",
    "        os.mkdir(child_datapath)\n",
    "        \n",
    "    return child_datapath\n",
    "\n",
    "\n",
    "# Create a directory to store the data set\n",
    "base_dir = create_directory(original_dataset_dir, \"cats_and_dogs_small\")\n",
    "\n",
    "# Training materials directory\n",
    "train_dir = create_directory(base_dir, 'train')\n",
    "\n",
    "# Validation data directory\n",
    "validation_dir = create_directory(base_dir, 'validation')\n",
    "\n",
    "# Test data directory\n",
    "test_dir = create_directory(base_dir, 'test')\n",
    "\n",
    "\n",
    "# Cat's picture of the training information directory\n",
    "train_cats_dir = create_directory(train_dir, 'cats')\n",
    "\n",
    "# Dog pictures of training materials directory\n",
    "train_dogs_dir = create_directory(train_dir, 'dogs')\n",
    "\n",
    "# Cat's picture of the authentication data directory\n",
    "validation_cats_dir = create_directory(validation_dir, 'cats')\n",
    "\n",
    "# Dog's picture verification information directory\n",
    "validation_dogs_dir = create_directory(validation_dir, 'dogs')\n",
    "\n",
    "# Cat's picture of the test data directory\n",
    "test_cats_dir = create_directory(test_dir, 'cats')\n",
    "\n",
    "# Dog's picture of the test data directory\n",
    "test_dogs_dir = create_directory(test_dir, 'dogs')"
   ]
  },
  {
   "cell_type": "code",
   "execution_count": 3,
   "metadata": {},
   "outputs": [
    {
     "name": "stdout",
     "output_type": "stream",
     "text": [
      "total training cat images: 1000\n",
      "total training dog images: 1000\n",
      "total validation cat images: 500\n",
      "total validation dog images: 500\n",
      "total test cat images: 500\n",
      "total test dog images: 500\n"
     ]
    }
   ],
   "source": [
    "print('total training cat images:', len(os.listdir(train_cats_dir)))\n",
    "print('total training dog images:', len(os.listdir(train_dogs_dir)))\n",
    "print('total validation cat images:', len(os.listdir(validation_cats_dir)))\n",
    "print('total validation dog images:', len(os.listdir(validation_dogs_dir)))\n",
    "print('total test cat images:', len(os.listdir(test_cats_dir)))\n",
    "print('total test dog images:', len(os.listdir(test_dogs_dir)))"
   ]
  },
  {
   "cell_type": "markdown",
   "metadata": {},
   "source": [
    "# Feature Extraction\n",
    "\n",
    "Feature extraction involves the use of pre-trained network models to extract features from new samples. These features pass a \"new\" classifier (training from scratch).\n",
    "\n",
    "As mentioned earlier, the convolutional network architecture for image classification consists of two main parts: they start with a series of convolutional and pooling layers and end with a densely-connected classifier. The first part is called the \"convolution base\" of the model. In a convolutional network, \"feature extraction\" will simply include \"convolution base\" of a previously trained network, re-feed new data therethrough, and train one more according to the output of the \"convolution base\" New classifier.\n",
    "\n",
    "![feature extraction](https://s3.amazonaws.com/book.keras.io/img/ch5/swapping_fc_classifier.png)\n",
    "\n",
    "Why reuse **\"convolution base\"**? Can we reuse densely-connected classifiers? Generally, it should be avoided. The reason is simply that the features of \"convolution base\" learning may be more general and therefore more reusable: a convolutional network's feature maps are a mapping of common concepts to images. On the other hand, the features learned by the classifier will be very specific to the set of categories for which the model is trained. They will only contain information about the probability of existence of that class or classes in the whole picture.\n",
    "\n",
    "In addition, the representations found in densely connected layers no longer contain any information that \"space / position\" is in the input image: these layers have been freed from the notion of space. For the important and sensitive issue of object location, the functionality of Dense Hierarchy will be largely un-reusable.\n",
    "\n",
    "Note that the level of generality (and therefore reusability) of representation extracted by a particular convolution layer depends on the depth of the neural layer in the model. **Older layers in the model extract local, highly generic feature maps** (such as visual edges, colors and textures), while higher layers extract more abstract concepts (such as \"cat ears\" or \"dog eyes\"). ***So if your new dataset is very different from the dataset your original model was trained on, it's best to use only the first few layers of the model for feature extraction instead of using the entire Convolution Base.***\n",
    "\n",
    "In our case, it is likely that it would be beneficial to reuse the information contained in the original model's densely populated layer because the ImageNet class collection contains multiple dog and cat classes. However, to cover more generalities, we will not choose to use the original densely-connected layer because the new problem's category set does not overlap with the original model's category set.\n",
    "\n",
    "Apply the features extracted from our cat and dog images by using the \"Convolution Base\" of the **VGG16** network trained on ImageNet and then train a cat and dog classifier on top of these features."
   ]
  },
  {
   "cell_type": "code",
   "execution_count": 4,
   "metadata": {
    "collapsed": true
   },
   "outputs": [],
   "source": [
    "from keras.applications import VGG16\n",
    "\n",
    "conv_base = VGG16(weights='imagenet',\n",
    "                  include_top=False, \n",
    "                  input_shape=(150, 150, 3)) "
   ]
  },
  {
   "cell_type": "markdown",
   "metadata": {},
   "source": [
    "* weights: one of None (random initialization) or 'imagenet' (pre-training on ImageNet).\n",
    "* include_top: whether to include the 3 fully-connected layers at the top of the network.\n",
    "* input_shape: optional shape tuple, only to be specified if include_top is False"
   ]
  },
  {
   "cell_type": "code",
   "execution_count": 5,
   "metadata": {},
   "outputs": [
    {
     "name": "stdout",
     "output_type": "stream",
     "text": [
      "_________________________________________________________________\n",
      "Layer (type)                 Output Shape              Param #   \n",
      "=================================================================\n",
      "input_1 (InputLayer)         (None, 150, 150, 3)       0         \n",
      "_________________________________________________________________\n",
      "block1_conv1 (Conv2D)        (None, 150, 150, 64)      1792      \n",
      "_________________________________________________________________\n",
      "block1_conv2 (Conv2D)        (None, 150, 150, 64)      36928     \n",
      "_________________________________________________________________\n",
      "block1_pool (MaxPooling2D)   (None, 75, 75, 64)        0         \n",
      "_________________________________________________________________\n",
      "block2_conv1 (Conv2D)        (None, 75, 75, 128)       73856     \n",
      "_________________________________________________________________\n",
      "block2_conv2 (Conv2D)        (None, 75, 75, 128)       147584    \n",
      "_________________________________________________________________\n",
      "block2_pool (MaxPooling2D)   (None, 37, 37, 128)       0         \n",
      "_________________________________________________________________\n",
      "block3_conv1 (Conv2D)        (None, 37, 37, 256)       295168    \n",
      "_________________________________________________________________\n",
      "block3_conv2 (Conv2D)        (None, 37, 37, 256)       590080    \n",
      "_________________________________________________________________\n",
      "block3_conv3 (Conv2D)        (None, 37, 37, 256)       590080    \n",
      "_________________________________________________________________\n",
      "block3_pool (MaxPooling2D)   (None, 18, 18, 256)       0         \n",
      "_________________________________________________________________\n",
      "block4_conv1 (Conv2D)        (None, 18, 18, 512)       1180160   \n",
      "_________________________________________________________________\n",
      "block4_conv2 (Conv2D)        (None, 18, 18, 512)       2359808   \n",
      "_________________________________________________________________\n",
      "block4_conv3 (Conv2D)        (None, 18, 18, 512)       2359808   \n",
      "_________________________________________________________________\n",
      "block4_pool (MaxPooling2D)   (None, 9, 9, 512)         0         \n",
      "_________________________________________________________________\n",
      "block5_conv1 (Conv2D)        (None, 9, 9, 512)         2359808   \n",
      "_________________________________________________________________\n",
      "block5_conv2 (Conv2D)        (None, 9, 9, 512)         2359808   \n",
      "_________________________________________________________________\n",
      "block5_conv3 (Conv2D)        (None, 9, 9, 512)         2359808   \n",
      "_________________________________________________________________\n",
      "block5_pool (MaxPooling2D)   (None, 4, 4, 512)         0         \n",
      "=================================================================\n",
      "Total params: 14,714,688\n",
      "Trainable params: 14,714,688\n",
      "Non-trainable params: 0\n",
      "_________________________________________________________________\n"
     ]
    }
   ],
   "source": [
    "conv_base.summary()"
   ]
  },
  {
   "cell_type": "markdown",
   "metadata": {},
   "source": [
    "\n",
    "There are two ways to proceed:\n",
    "\n",
    "1. Run \"Convolution Base\" on our dataset, record its output as a Numpy array onto disk, and then use this as input for a            densely-connected classifier. This solution is fast and easy because it only requires a \"convolution base\" that runs once for    each input image, and \"convolution base\" is by far the most expensive part of the pipeline. However, because of the same        reason, this practice does not allow us to use the **data augmentation** approach.<br><br>\n",
    "\n",
    "2. Extend the model we own (conv_base) by continuing to add the Dense layer to the top of the trained model, and run the entire    data input end-to-end across the input. This approach allows us to use **data augmentation** because every time the input        image is seen by the model, it passes through the \"convolution base.\" However, this technique takes more computation and        training time than the first technique.\n",
    "\n",
    "### Method 1: Convolution Substrate:Extract features + Concatenate a new dense classification layer: retraining\n",
    "\n",
    "Record the output of \"conv_base\" on our data and use these as input for the new model.\n"
   ]
  },
  {
   "cell_type": "code",
   "execution_count": 6,
   "metadata": {},
   "outputs": [
    {
     "name": "stdout",
     "output_type": "stream",
     "text": [
      "Found 2000 images belonging to 2 classes.\n",
      "extract_features complete!\n",
      "Found 1000 images belonging to 2 classes.\n",
      "extract_features complete!\n",
      "Found 1000 images belonging to 2 classes.\n",
      "extract_features complete!\n",
      "Wall time: 1min 56s\n"
     ]
    }
   ],
   "source": [
    "%%time\n",
    "import os\n",
    "import numpy as np\n",
    "from keras.preprocessing.image import ImageDataGenerator\n",
    "\n",
    "datagen = ImageDataGenerator(rescale=1./255)\n",
    "batch_size = 20 \n",
    "\n",
    "\n",
    "def extract_features(directory, sample_count): \n",
    "    \n",
    "    # According to the last layer of the VGG16 (convolution base) the turn-out tensor specification\n",
    "    features = np.zeros(shape=(sample_count, 4, 4, 512)) \n",
    "    \n",
    "    # The number of images to process\n",
    "    labels = np.zeros(shape=(sample_count)) \n",
    "    \n",
    "    # Produces an \"image data generator\" instance (the data is in the file directory) and \n",
    "    # calls it once, which create specific batch of image data\n",
    "    generator = datagen.flow_from_directory(\n",
    "        directory,\n",
    "        target_size=(150, 150),  \n",
    "        batch_size=batch_size,   \n",
    "        class_mode='binary')     \n",
    "    \n",
    "   \n",
    "    i = 0\n",
    "    for inputs_batch, labels_batch in generator:\n",
    "        # Extract image features through \"Convolution Base\"\n",
    "        features_batch = conv_base.predict(inputs_batch)\n",
    "        # store the feature\n",
    "        features[i * batch_size : (i + 1) * batch_size] = features_batch\n",
    "        # store the label\n",
    "        labels[i * batch_size : (i + 1) * batch_size] = labels_batch \n",
    "        i += 1\n",
    "            \n",
    "        if i * batch_size >= sample_count:\n",
    "            # Note that since generators yield data indefinitely in a loop,\n",
    "            # we must `break` after every image has been seen once.\n",
    "            break\n",
    "    \n",
    "    print('extract_features complete!')\n",
    "    return features, labels\n",
    "\n",
    "train_features, train_labels = extract_features(train_dir, 2000) \n",
    "validation_features, validation_labels = extract_features(validation_dir, 1000) \n",
    "test_features, test_labels = extract_features(test_dir, 1000) "
   ]
  },
  {
   "cell_type": "markdown",
   "metadata": {},
   "source": [
    "shape （sample，4，4，512） resize to （sample, 8192）\n",
    "to connect to the densely-connected Classifier"
   ]
  },
  {
   "cell_type": "code",
   "execution_count": 7,
   "metadata": {
    "collapsed": true
   },
   "outputs": [],
   "source": [
    "train_features = np.reshape(train_features, (2000, 4 * 4 * 512))\n",
    "validation_features = np.reshape(validation_features, (1000, 4 * 4 * 512))\n",
    "test_features = np.reshape(test_features, (1000, 4 * 4 * 512))"
   ]
  },
  {
   "cell_type": "markdown",
   "metadata": {},
   "source": [
    "Define our densely-connected classifier (note the use of dropout for normalization) and train the data and labels we just recorded"
   ]
  },
  {
   "cell_type": "code",
   "execution_count": 8,
   "metadata": {},
   "outputs": [
    {
     "name": "stdout",
     "output_type": "stream",
     "text": [
      "Train on 2000 samples, validate on 1000 samples\n",
      "Epoch 1/30\n",
      "2000/2000 [==============================] - 2s 1ms/step - loss: 0.6162 - acc: 0.6600 - val_loss: 0.4412 - val_acc: 0.8360\n",
      "Epoch 2/30\n",
      "2000/2000 [==============================] - 1s 678us/step - loss: 0.4360 - acc: 0.7980 - val_loss: 0.3835 - val_acc: 0.8370\n",
      "Epoch 3/30\n",
      "2000/2000 [==============================] - 2s 777us/step - loss: 0.3647 - acc: 0.8450 - val_loss: 0.3270 - val_acc: 0.8740\n",
      "Epoch 4/30\n",
      "2000/2000 [==============================] - 1s 719us/step - loss: 0.3200 - acc: 0.8630 - val_loss: 0.3032 - val_acc: 0.8900\n",
      "Epoch 5/30\n",
      "2000/2000 [==============================] - 1s 676us/step - loss: 0.2890 - acc: 0.8910 - val_loss: 0.2863 - val_acc: 0.8910\n",
      "Epoch 6/30\n",
      "2000/2000 [==============================] - 1s 656us/step - loss: 0.2714 - acc: 0.8960 - val_loss: 0.2773 - val_acc: 0.8900\n",
      "Epoch 7/30\n",
      "2000/2000 [==============================] - 1s 654us/step - loss: 0.2521 - acc: 0.9070 - val_loss: 0.2666 - val_acc: 0.8970\n",
      "Epoch 8/30\n",
      "2000/2000 [==============================] - 1s 638us/step - loss: 0.2427 - acc: 0.9115 - val_loss: 0.2610 - val_acc: 0.8920\n",
      "Epoch 9/30\n",
      "2000/2000 [==============================] - 1s 666us/step - loss: 0.2184 - acc: 0.9140 - val_loss: 0.2620 - val_acc: 0.8950\n",
      "Epoch 10/30\n",
      "2000/2000 [==============================] - 1s 683us/step - loss: 0.2123 - acc: 0.9220 - val_loss: 0.2497 - val_acc: 0.9000\n",
      "Epoch 11/30\n",
      "2000/2000 [==============================] - 1s 651us/step - loss: 0.2020 - acc: 0.9200 - val_loss: 0.2482 - val_acc: 0.8990\n",
      "Epoch 12/30\n",
      "2000/2000 [==============================] - 1s 677us/step - loss: 0.1929 - acc: 0.9335 - val_loss: 0.2430 - val_acc: 0.9010\n",
      "Epoch 13/30\n",
      "2000/2000 [==============================] - 1s 655us/step - loss: 0.1771 - acc: 0.9360 - val_loss: 0.2410 - val_acc: 0.9010\n",
      "Epoch 14/30\n",
      "2000/2000 [==============================] - 1s 659us/step - loss: 0.1810 - acc: 0.9330 - val_loss: 0.2390 - val_acc: 0.9000\n",
      "Epoch 15/30\n",
      "2000/2000 [==============================] - 1s 679us/step - loss: 0.1663 - acc: 0.9355 - val_loss: 0.2503 - val_acc: 0.8920\n",
      "Epoch 16/30\n",
      "2000/2000 [==============================] - 1s 661us/step - loss: 0.1577 - acc: 0.9450 - val_loss: 0.2428 - val_acc: 0.8960\n",
      "Epoch 17/30\n",
      "2000/2000 [==============================] - 1s 650us/step - loss: 0.1583 - acc: 0.9425 - val_loss: 0.2391 - val_acc: 0.9020\n",
      "Epoch 18/30\n",
      "2000/2000 [==============================] - 1s 658us/step - loss: 0.1486 - acc: 0.9535 - val_loss: 0.2340 - val_acc: 0.9040\n",
      "Epoch 19/30\n",
      "2000/2000 [==============================] - 1s 670us/step - loss: 0.1440 - acc: 0.9490 - val_loss: 0.2370 - val_acc: 0.9030\n",
      "Epoch 20/30\n",
      "2000/2000 [==============================] - 1s 657us/step - loss: 0.1399 - acc: 0.9540 - val_loss: 0.2356 - val_acc: 0.9010\n",
      "Epoch 21/30\n",
      "2000/2000 [==============================] - 1s 649us/step - loss: 0.1337 - acc: 0.9565 - val_loss: 0.2329 - val_acc: 0.9040\n",
      "Epoch 22/30\n",
      "2000/2000 [==============================] - 1s 665us/step - loss: 0.1255 - acc: 0.9565 - val_loss: 0.2381 - val_acc: 0.9020\n",
      "Epoch 23/30\n",
      "2000/2000 [==============================] - 1s 677us/step - loss: 0.1199 - acc: 0.9600 - val_loss: 0.2336 - val_acc: 0.9040\n",
      "Epoch 24/30\n",
      "2000/2000 [==============================] - 1s 652us/step - loss: 0.1172 - acc: 0.9595 - val_loss: 0.2355 - val_acc: 0.9060\n",
      "Epoch 25/30\n",
      "2000/2000 [==============================] - 1s 669us/step - loss: 0.1093 - acc: 0.9650 - val_loss: 0.2339 - val_acc: 0.9020\n",
      "Epoch 26/30\n",
      "2000/2000 [==============================] - 1s 648us/step - loss: 0.1072 - acc: 0.9645 - val_loss: 0.2365 - val_acc: 0.9040\n",
      "Epoch 27/30\n",
      "2000/2000 [==============================] - 1s 666us/step - loss: 0.1091 - acc: 0.9650 - val_loss: 0.2476 - val_acc: 0.8970\n",
      "Epoch 28/30\n",
      "2000/2000 [==============================] - 1s 690us/step - loss: 0.1031 - acc: 0.9665 - val_loss: 0.2385 - val_acc: 0.9010\n",
      "Epoch 29/30\n",
      "2000/2000 [==============================] - 1s 672us/step - loss: 0.0977 - acc: 0.9710 - val_loss: 0.2369 - val_acc: 0.9020\n",
      "Epoch 30/30\n",
      "2000/2000 [==============================] - 1s 657us/step - loss: 0.0899 - acc: 0.9750 - val_loss: 0.2378 - val_acc: 0.9020\n"
     ]
    }
   ],
   "source": [
    "from keras import models\n",
    "from keras.layers import Dense, Dropout\n",
    "from keras import optimizers\n",
    "\n",
    "model = models.Sequential()\n",
    "model.add(Dense(256, activation='relu', input_dim=4*4*512))\n",
    "model.add(Dropout(0.5))\n",
    "model.add(Dense(1, activation='sigmoid')) # # Because of my information only two categories (cat & dog) \n",
    "\n",
    "model.compile(optimizer=optimizers.RMSprop(lr=2e-5),\n",
    "              loss='binary_crossentropy',\n",
    "              metrics=['acc'])\n",
    "\n",
    "history = model.fit(train_features, train_labels,\n",
    "                    epochs=30,\n",
    "                    batch_size=20,\n",
    "                    validation_data=(validation_features, validation_labels))"
   ]
  },
  {
   "cell_type": "code",
   "execution_count": 9,
   "metadata": {},
   "outputs": [
    {
     "data": {
      "image/png": "[encoded data removed]",
      "text/plain": [
       "<matplotlib.figure.Figure at 0x279a8311940>"
      ]
     },
     "metadata": {},
     "output_type": "display_data"
    },
    {
     "data": {
      "image/png": "[encoded data removed]",
      "text/plain": [
       "<matplotlib.figure.Figure at 0x279a850f128>"
      ]
     },
     "metadata": {},
     "output_type": "display_data"
    }
   ],
   "source": [
    "import matplotlib.pyplot as plt\n",
    "\n",
    "def draw_history(history):\n",
    "\n",
    "    acc = history.history['acc']\n",
    "    val_acc = history.history['val_acc']\n",
    "    loss = history.history['loss']\n",
    "    val_loss = history.history['val_loss']\n",
    "\n",
    "    epochs = range(len(acc))\n",
    "\n",
    "    plt.plot(epochs, acc, label='Training acc')\n",
    "    plt.plot(epochs, val_acc, label='Validation acc')\n",
    "    plt.title('Training and validation accuracy')\n",
    "    plt.legend()\n",
    "\n",
    "    plt.figure()\n",
    "\n",
    "    plt.plot(epochs, loss, label='Training loss')\n",
    "    plt.plot(epochs, val_loss, label='Validation loss')\n",
    "    plt.title('Training and validation loss')\n",
    "    plt.legend()\n",
    "\n",
    "    plt.show()\n",
    "    \n",
    "draw_history(history)"
   ]
  },
  {
   "cell_type": "markdown",
   "metadata": {},
   "source": [
    "The validation accuracy rate of about 90%\n",
    "\n",
    "But, our chart also shows that we were overfitting almost from the very beginning, though we used quite a bit of Dropout.\n",
    "\n",
    "This is because this technique does not require data expansion (important for preventing overfitting with small image datasets)."
   ]
  },
  {
   "cell_type": "markdown",
   "metadata": {},
   "source": [
    "## Method 2: (Convolution base: freeze + concatenate new dense classification layer) >> retraining\n",
    "\n",
    "The second feature extraction technique is much slower and takes more time and computational resources, but we can use data augmentation during training, : Extends the conv_base model and performs end-to-end training."
   ]
  },
  {
   "cell_type": "code",
   "execution_count": 10,
   "metadata": {},
   "outputs": [
    {
     "name": "stdout",
     "output_type": "stream",
     "text": [
      "_________________________________________________________________\n",
      "Layer (type)                 Output Shape              Param #   \n",
      "=================================================================\n",
      "vgg16 (Model)                (None, 4, 4, 512)         14714688  \n",
      "_________________________________________________________________\n",
      "flatten_1 (Flatten)          (None, 8192)              0         \n",
      "_________________________________________________________________\n",
      "dense_3 (Dense)              (None, 256)               2097408   \n",
      "_________________________________________________________________\n",
      "dense_4 (Dense)              (None, 1)                 257       \n",
      "=================================================================\n",
      "Total params: 16,812,353\n",
      "Trainable params: 16,812,353\n",
      "Non-trainable params: 0\n",
      "_________________________________________________________________\n"
     ]
    }
   ],
   "source": [
    "from keras.layers import Flatten\n",
    "\n",
    "model = models.Sequential() \n",
    "model.add(conv_base)        \n",
    "model.add(Flatten()) \n",
    "model.add(Dense(256, activation='relu'))  \n",
    "model.add(Dense(1, activation='sigmoid')) \n",
    "model.summary()"
   ]
  },
  {
   "cell_type": "markdown",
   "metadata": {},
   "source": [
    "## Important: Freeze\n",
    "\n",
    "Before compiling and training our model, it is important to freeze the \"convolution base.\" \n",
    "\n",
    "\"Freezing\" one or more layers means preventing their weights from being updated during training. \n",
    "\n",
    "If we do not do that, the features previously learned on the Convolutional Base will be modified during the training. Since the top Dense layer is randomly initialized, very large weight updates will propagate over the network again, destroying previously learned results."
   ]
  },
  {
   "cell_type": "code",
   "execution_count": 11,
   "metadata": {},
   "outputs": [
    {
     "name": "stdout",
     "output_type": "stream",
     "text": [
      "This is the number of trainable weights before freezing the conv base: 30\n"
     ]
    }
   ],
   "source": [
    "print('This is the number of trainable weights '\n",
    "      'before freezing the conv base:', len(model.trainable_weights))"
   ]
  },
  {
   "cell_type": "code",
   "execution_count": 12,
   "metadata": {
    "collapsed": true
   },
   "outputs": [],
   "source": [
    "# Freeze the convolution base\n",
    "conv_base.trainable = False"
   ]
  },
  {
   "cell_type": "code",
   "execution_count": 13,
   "metadata": {},
   "outputs": [
    {
     "name": "stdout",
     "output_type": "stream",
     "text": [
      "This is the number of trainable weights after freezing the conv base: 4\n"
     ]
    }
   ],
   "source": [
    "print('This is the number of trainable weights '\n",
    "      'after freezing the conv base:', len(model.trainable_weights))"
   ]
  },
  {
   "cell_type": "markdown",
   "metadata": {},
   "source": [
    "With this setting, only the weights from the two Dense layers we add will be trained. This is a total of four tensors of tensor: two per layer (main weight matrix and deviation vector). Please note that for these changes to take effect, we must first compile the model.\n",
    "\n",
    "If you modified the weight traitability after compilation, you should recompile the model or the changes will be ignored."
   ]
  },
  {
   "cell_type": "code",
   "execution_count": 14,
   "metadata": {},
   "outputs": [
    {
     "name": "stdout",
     "output_type": "stream",
     "text": [
      "Found 2000 images belonging to 2 classes.\n",
      "Found 1000 images belonging to 2 classes.\n",
      "Epoch 1/30\n",
      "100/100 [==============================] - 26s 262ms/step - loss: 0.6059 - acc: 0.6705 - val_loss: 0.4771 - val_acc: 0.8000\n",
      "Epoch 2/30\n",
      "100/100 [==============================] - 25s 253ms/step - loss: 0.4969 - acc: 0.7685 - val_loss: 0.3787 - val_acc: 0.8550\n",
      "Epoch 3/30\n",
      "100/100 [==============================] - 26s 258ms/step - loss: 0.4521 - acc: 0.7895 - val_loss: 0.3846 - val_acc: 0.8260\n",
      "Epoch 4/30\n",
      "100/100 [==============================] - 26s 258ms/step - loss: 0.4138 - acc: 0.8265 - val_loss: 0.3164 - val_acc: 0.8720\n",
      "Epoch 5/30\n",
      "100/100 [==============================] - 27s 267ms/step - loss: 0.4093 - acc: 0.8065 - val_loss: 0.3127 - val_acc: 0.8770\n",
      "Epoch 6/30\n",
      "100/100 [==============================] - 26s 258ms/step - loss: 0.3907 - acc: 0.8165 - val_loss: 0.2890 - val_acc: 0.8840\n",
      "Epoch 7/30\n",
      "100/100 [==============================] - 26s 256ms/step - loss: 0.3804 - acc: 0.8385 - val_loss: 0.2823 - val_acc: 0.8880\n",
      "Epoch 8/30\n",
      "100/100 [==============================] - 26s 255ms/step - loss: 0.3582 - acc: 0.8490 - val_loss: 0.2751 - val_acc: 0.8870\n",
      "Epoch 9/30\n",
      "100/100 [==============================] - 26s 256ms/step - loss: 0.3581 - acc: 0.8535 - val_loss: 0.2708 - val_acc: 0.8850\n",
      "Epoch 10/30\n",
      "100/100 [==============================] - 27s 267ms/step - loss: 0.3573 - acc: 0.8410 - val_loss: 0.2669 - val_acc: 0.8930\n",
      "Epoch 11/30\n",
      "100/100 [==============================] - 26s 260ms/step - loss: 0.3400 - acc: 0.8460 - val_loss: 0.2647 - val_acc: 0.8900\n",
      "Epoch 12/30\n",
      "100/100 [==============================] - 26s 257ms/step - loss: 0.3290 - acc: 0.8605 - val_loss: 0.2621 - val_acc: 0.8980\n",
      "Epoch 13/30\n",
      "100/100 [==============================] - 26s 263ms/step - loss: 0.3367 - acc: 0.8555 - val_loss: 0.2584 - val_acc: 0.8930\n",
      "Epoch 14/30\n",
      "100/100 [==============================] - 27s 268ms/step - loss: 0.3329 - acc: 0.8580 - val_loss: 0.2568 - val_acc: 0.8960\n",
      "Epoch 15/30\n",
      "100/100 [==============================] - 26s 258ms/step - loss: 0.3361 - acc: 0.8525 - val_loss: 0.2600 - val_acc: 0.8950\n",
      "Epoch 16/30\n",
      "100/100 [==============================] - 26s 259ms/step - loss: 0.3299 - acc: 0.8575 - val_loss: 0.2548 - val_acc: 0.9000\n",
      "Epoch 17/30\n",
      "100/100 [==============================] - 27s 267ms/step - loss: 0.3223 - acc: 0.8560 - val_loss: 0.2649 - val_acc: 0.8930\n",
      "Epoch 18/30\n",
      "100/100 [==============================] - 28s 277ms/step - loss: 0.3224 - acc: 0.8635 - val_loss: 0.2543 - val_acc: 0.8960\n",
      "Epoch 19/30\n",
      "100/100 [==============================] - 26s 256ms/step - loss: 0.3161 - acc: 0.8695 - val_loss: 0.2525 - val_acc: 0.8990\n",
      "Epoch 20/30\n",
      "100/100 [==============================] - 26s 255ms/step - loss: 0.3285 - acc: 0.8495 - val_loss: 0.2789 - val_acc: 0.8830\n",
      "Epoch 21/30\n",
      "100/100 [==============================] - 26s 260ms/step - loss: 0.3169 - acc: 0.8575 - val_loss: 0.2606 - val_acc: 0.8970\n",
      "Epoch 22/30\n",
      "100/100 [==============================] - 27s 269ms/step - loss: 0.3153 - acc: 0.8660 - val_loss: 0.2536 - val_acc: 0.8940\n",
      "Epoch 23/30\n",
      "100/100 [==============================] - 26s 259ms/step - loss: 0.3112 - acc: 0.8610 - val_loss: 0.2557 - val_acc: 0.8970\n",
      "Epoch 24/30\n",
      "100/100 [==============================] - 26s 255ms/step - loss: 0.3108 - acc: 0.8665 - val_loss: 0.2511 - val_acc: 0.8990\n",
      "Epoch 25/30\n",
      "100/100 [==============================] - 26s 256ms/step - loss: 0.3172 - acc: 0.8640 - val_loss: 0.2629 - val_acc: 0.8960\n",
      "Epoch 26/30\n",
      "100/100 [==============================] - 26s 255ms/step - loss: 0.3043 - acc: 0.8745 - val_loss: 0.2501 - val_acc: 0.9000\n",
      "Epoch 27/30\n",
      "100/100 [==============================] - 26s 256ms/step - loss: 0.3007 - acc: 0.8620 - val_loss: 0.2514 - val_acc: 0.8950\n",
      "Epoch 28/30\n",
      "100/100 [==============================] - 26s 257ms/step - loss: 0.2862 - acc: 0.8770 - val_loss: 0.2528 - val_acc: 0.8980\n",
      "Epoch 29/30\n",
      "100/100 [==============================] - 26s 260ms/step - loss: 0.2915 - acc: 0.8710 - val_loss: 0.2474 - val_acc: 0.8980\n",
      "Epoch 30/30\n",
      "100/100 [==============================] - 26s 255ms/step - loss: 0.3073 - acc: 0.8725 - val_loss: 0.2464 - val_acc: 0.8960\n"
     ]
    }
   ],
   "source": [
    "from keras.preprocessing.image import ImageDataGenerator\n",
    "\n",
    "train_datagen = ImageDataGenerator(\n",
    "      rescale=1./255,\n",
    "      rotation_range=40,\n",
    "      width_shift_range=0.2,\n",
    "      height_shift_range=0.2,\n",
    "      shear_range=0.2,\n",
    "      zoom_range=0.2,\n",
    "      horizontal_flip=True,\n",
    "      fill_mode='nearest')\n",
    "\n",
    "# validation data don't need to data augmentation\n",
    "test_datagen = ImageDataGenerator(rescale=1./255)\n",
    "\n",
    "train_generator = train_datagen.flow_from_directory(\n",
    "        train_dir,\n",
    "        target_size=(150, 150),\n",
    "        batch_size=20,\n",
    "        class_mode='binary')\n",
    "\n",
    "validation_generator = test_datagen.flow_from_directory(\n",
    "        validation_dir,\n",
    "        target_size=(150, 150),\n",
    "        batch_size=20,\n",
    "        class_mode='binary')\n",
    "\n",
    "model.compile(loss='binary_crossentropy',\n",
    "              optimizer=optimizers.RMSprop(lr=2e-5),\n",
    "              metrics=['acc'])\n",
    "\n",
    "history = model.fit_generator(\n",
    "      train_generator,\n",
    "      steps_per_epoch=100,\n",
    "      epochs=30,\n",
    "      validation_data=validation_generator,\n",
    "      validation_steps=50)"
   ]
  },
  {
   "cell_type": "code",
   "execution_count": 15,
   "metadata": {},
   "outputs": [
    {
     "data": {
      "image/png": "[encoded data removed]",
      "text/plain": [
       "<matplotlib.figure.Figure at 0x279a83a4da0>"
      ]
     },
     "metadata": {},
     "output_type": "display_data"
    },
    {
     "data": {
      "image/png": "[encoded data removed]",
      "text/plain": [
       "<matplotlib.figure.Figure at 0x279a8506b00>"
      ]
     },
     "metadata": {},
     "output_type": "display_data"
    }
   ],
   "source": [
    "draw_history(history)"
   ]
  },
  {
   "cell_type": "code",
   "execution_count": 16,
   "metadata": {
    "collapsed": true
   },
   "outputs": [],
   "source": [
    "model.save('D:/Program/dataset/Dogs_vs_Cats/model/cats_and_dogs_small_2.h5')"
   ]
  },
  {
   "cell_type": "markdown",
   "metadata": {
    "collapsed": true
   },
   "source": [
    "# Fine-Tuning\n",
    "\n",
    "Another widely used model reuse technique, complemented by **feature extraction**, is **fine-tuning**.\n",
    "\n",
    "Fine-Tuning involves thawing several top layers in the frozen model library for feature extraction and co-training the newly added model parts (in our example fully connected classifiers) and these top layers. This is called \"fine-tuning,\" because it slightly aligns the more abstract representations of models that are being reused to make them more relevant to the current problem to be addressed.\n",
    "\n",
    "![fine-tuning VGG16](https://s3.amazonaws.com/book.keras.io/img/ch5/vgg16_fine_tuning.png)\n",
    "\n",
    "Fine-tune the network steps are as follows:\n",
    "1. Add a custom network to a trained base network.\n",
    "2. Freeze the base network.\n",
    "3. Train what you added.\n",
    "4. Thaw some neural layers in the basal network.\n",
    "5. Train these layers together with the sections you added.\n",
    "\n",
    "In the feature extraction, we have completed the first three steps. Let's move on to the fourth step: we will thaw our conv_base, and then freeze some of those particular layers."
   ]
  },
  {
   "cell_type": "code",
   "execution_count": 17,
   "metadata": {},
   "outputs": [
    {
     "name": "stdout",
     "output_type": "stream",
     "text": [
      "_________________________________________________________________\n",
      "Layer (type)                 Output Shape              Param #   \n",
      "=================================================================\n",
      "input_1 (InputLayer)         (None, 150, 150, 3)       0         \n",
      "_________________________________________________________________\n",
      "block1_conv1 (Conv2D)        (None, 150, 150, 64)      1792      \n",
      "_________________________________________________________________\n",
      "block1_conv2 (Conv2D)        (None, 150, 150, 64)      36928     \n",
      "_________________________________________________________________\n",
      "block1_pool (MaxPooling2D)   (None, 75, 75, 64)        0         \n",
      "_________________________________________________________________\n",
      "block2_conv1 (Conv2D)        (None, 75, 75, 128)       73856     \n",
      "_________________________________________________________________\n",
      "block2_conv2 (Conv2D)        (None, 75, 75, 128)       147584    \n",
      "_________________________________________________________________\n",
      "block2_pool (MaxPooling2D)   (None, 37, 37, 128)       0         \n",
      "_________________________________________________________________\n",
      "block3_conv1 (Conv2D)        (None, 37, 37, 256)       295168    \n",
      "_________________________________________________________________\n",
      "block3_conv2 (Conv2D)        (None, 37, 37, 256)       590080    \n",
      "_________________________________________________________________\n",
      "block3_conv3 (Conv2D)        (None, 37, 37, 256)       590080    \n",
      "_________________________________________________________________\n",
      "block3_pool (MaxPooling2D)   (None, 18, 18, 256)       0         \n",
      "_________________________________________________________________\n",
      "block4_conv1 (Conv2D)        (None, 18, 18, 512)       1180160   \n",
      "_________________________________________________________________\n",
      "block4_conv2 (Conv2D)        (None, 18, 18, 512)       2359808   \n",
      "_________________________________________________________________\n",
      "block4_conv3 (Conv2D)        (None, 18, 18, 512)       2359808   \n",
      "_________________________________________________________________\n",
      "block4_pool (MaxPooling2D)   (None, 9, 9, 512)         0         \n",
      "_________________________________________________________________\n",
      "block5_conv1 (Conv2D)        (None, 9, 9, 512)         2359808   \n",
      "_________________________________________________________________\n",
      "block5_conv2 (Conv2D)        (None, 9, 9, 512)         2359808   \n",
      "_________________________________________________________________\n",
      "block5_conv3 (Conv2D)        (None, 9, 9, 512)         2359808   \n",
      "_________________________________________________________________\n",
      "block5_pool (MaxPooling2D)   (None, 4, 4, 512)         0         \n",
      "=================================================================\n",
      "Total params: 14,714,688\n",
      "Trainable params: 0\n",
      "Non-trainable params: 14,714,688\n",
      "_________________________________________________________________\n"
     ]
    }
   ],
   "source": [
    "conv_base.summary()"
   ]
  },
  {
   "cell_type": "markdown",
   "metadata": {},
   "source": [
    "We will fine-tune the last three convolution layers, which means that all layers should be frozen until block4_pool, and the layers of block5_conv1, block5_conv2, and block5_conv3 should be trainable.\n",
    "\n",
    "* The features learned in the earlier neural layers in the Convolutional Substrate represent more generic and more reusable features, while the higher-level features are focused on unique features. It is more useful to fine-tune these neural-layers that focus on unique features, as these features need to be re-trained to solve our new problem. Minimizing the lower layers yields less rewards from existing pre-training models.\n",
    "\n",
    "\n",
    "* The more parameters we train, the more likely we are overfitting. VGG16's \"convolution base\" has 15 million parameters, so trying to train on a small dataset is risky."
   ]
  },
  {
   "cell_type": "code",
   "execution_count": 21,
   "metadata": {},
   "outputs": [
    {
     "name": "stdout",
     "output_type": "stream",
     "text": [
      "input_1: False\n",
      "block1_conv1: False\n",
      "block1_conv2: False\n",
      "block1_pool: False\n",
      "block2_conv1: False\n",
      "block2_conv2: False\n",
      "block2_pool: False\n",
      "block3_conv1: False\n",
      "block3_conv2: False\n",
      "block3_conv3: False\n",
      "block3_pool: False\n",
      "block4_conv1: False\n",
      "block4_conv2: False\n",
      "block4_conv3: False\n",
      "block4_pool: False\n",
      "block5_conv1: True\n",
      "block5_conv2: True\n",
      "block5_conv3: True\n",
      "block5_pool: True\n"
     ]
    }
   ],
   "source": [
    "# Thaw \"convolution base\"\n",
    "conv_base.trainable = True \n",
    "\n",
    "# All layers should be frozen until block4_pool and blocks5_conv1, block5_conv2, block5_conv3 and block5_pool are thawed     \n",
    "layers_frozen = ['block5_conv1','block5_conv2', 'block5_conv3', 'block5_pool']\n",
    "for layer in conv_base.layers:\n",
    "    if layer.name in layers_frozen:\n",
    "        layer.trainable = True\n",
    "    else:\n",
    "        layer.trainable = False\n",
    "        \n",
    "for layer in conv_base.layers:\n",
    "    print(\"{}: {}\".format(layer.name, layer.trainable))"
   ]
  },
  {
   "cell_type": "markdown",
   "metadata": {},
   "source": [
    "Now we can start fine-tuning our network. We will use the RMSprop optimizer with a **very low learning rate**. The reason for the low learning rate is the magnitude of the changes we want to make to the three convolutional representations that we want to fine-tune us. Too much updating can harm these representations."
   ]
  },
  {
   "cell_type": "code",
   "execution_count": 32,
   "metadata": {},
   "outputs": [
    {
     "name": "stdout",
     "output_type": "stream",
     "text": [
      "Epoch 1/70\n",
      "100/100 [==============================] - 31s 306ms/step - loss: 0.1038 - acc: 0.9610 - val_loss: 0.2080 - val_acc: 0.9340\n",
      "Epoch 2/70\n",
      "100/100 [==============================] - 30s 296ms/step - loss: 0.0827 - acc: 0.9690 - val_loss: 0.2042 - val_acc: 0.9360\n",
      "Epoch 3/70\n",
      "100/100 [==============================] - 30s 297ms/step - loss: 0.0829 - acc: 0.9675 - val_loss: 0.2231 - val_acc: 0.9280\n",
      "Epoch 4/70\n",
      "100/100 [==============================] - 30s 297ms/step - loss: 0.0877 - acc: 0.9660 - val_loss: 0.1964 - val_acc: 0.9330\n",
      "Epoch 5/70\n",
      "100/100 [==============================] - 30s 297ms/step - loss: 0.0859 - acc: 0.9700 - val_loss: 0.2125 - val_acc: 0.9340\n",
      "Epoch 6/70\n",
      "100/100 [==============================] - 30s 297ms/step - loss: 0.0693 - acc: 0.9730 - val_loss: 0.1981 - val_acc: 0.9330\n",
      "Epoch 7/70\n",
      "100/100 [==============================] - 30s 296ms/step - loss: 0.0755 - acc: 0.9755 - val_loss: 0.1934 - val_acc: 0.9330\n",
      "Epoch 8/70\n",
      "100/100 [==============================] - 30s 298ms/step - loss: 0.0713 - acc: 0.9725 - val_loss: 0.2027 - val_acc: 0.9350\n",
      "Epoch 9/70\n",
      "100/100 [==============================] - 30s 297ms/step - loss: 0.0642 - acc: 0.9760 - val_loss: 0.2431 - val_acc: 0.9250\n",
      "Epoch 10/70\n",
      "100/100 [==============================] - 30s 301ms/step - loss: 0.0652 - acc: 0.9735 - val_loss: 0.2425 - val_acc: 0.9360\n",
      "Epoch 11/70\n",
      "100/100 [==============================] - 30s 299ms/step - loss: 0.0712 - acc: 0.9720 - val_loss: 0.2458 - val_acc: 0.9300\n",
      "Epoch 12/70\n",
      "100/100 [==============================] - 30s 302ms/step - loss: 0.0723 - acc: 0.9735 - val_loss: 0.3985 - val_acc: 0.9130\n",
      "Epoch 13/70\n",
      "100/100 [==============================] - 30s 301ms/step - loss: 0.0709 - acc: 0.9730 - val_loss: 0.2184 - val_acc: 0.9340\n",
      "Epoch 14/70\n",
      "100/100 [==============================] - 30s 298ms/step - loss: 0.0596 - acc: 0.9790 - val_loss: 0.2180 - val_acc: 0.9330\n",
      "Epoch 15/70\n",
      "100/100 [==============================] - 30s 299ms/step - loss: 0.0602 - acc: 0.9790 - val_loss: 0.2556 - val_acc: 0.9260\n",
      "Epoch 16/70\n",
      "100/100 [==============================] - 30s 300ms/step - loss: 0.0630 - acc: 0.9775 - val_loss: 0.4161 - val_acc: 0.9030\n",
      "Epoch 17/70\n",
      "100/100 [==============================] - 29s 295ms/step - loss: 0.0585 - acc: 0.9795 - val_loss: 0.2344 - val_acc: 0.9370\n",
      "Epoch 18/70\n",
      "100/100 [==============================] - 29s 294ms/step - loss: 0.0647 - acc: 0.9750 - val_loss: 0.2932 - val_acc: 0.9230\n",
      "Epoch 19/70\n",
      "100/100 [==============================] - 29s 289ms/step - loss: 0.0569 - acc: 0.9795 - val_loss: 0.2178 - val_acc: 0.9360\n",
      "Epoch 20/70\n",
      "100/100 [==============================] - 29s 291ms/step - loss: 0.0481 - acc: 0.9820 - val_loss: 0.2410 - val_acc: 0.9310\n",
      "Epoch 21/70\n",
      "100/100 [==============================] - 29s 289ms/step - loss: 0.0569 - acc: 0.9820 - val_loss: 0.3298 - val_acc: 0.9200\n",
      "Epoch 22/70\n",
      "100/100 [==============================] - 29s 289ms/step - loss: 0.0393 - acc: 0.9860 - val_loss: 0.2508 - val_acc: 0.9310\n",
      "Epoch 23/70\n",
      "100/100 [==============================] - 29s 289ms/step - loss: 0.0616 - acc: 0.9760 - val_loss: 0.2376 - val_acc: 0.9340\n",
      "Epoch 24/70\n",
      "100/100 [==============================] - 29s 289ms/step - loss: 0.0476 - acc: 0.9835 - val_loss: 0.2407 - val_acc: 0.9330\n",
      "Epoch 25/70\n",
      "100/100 [==============================] - 29s 290ms/step - loss: 0.0547 - acc: 0.9790 - val_loss: 0.2339 - val_acc: 0.9330\n",
      "Epoch 26/70\n",
      "100/100 [==============================] - 29s 289ms/step - loss: 0.0514 - acc: 0.9820 - val_loss: 0.2921 - val_acc: 0.9260\n",
      "Epoch 27/70\n",
      "100/100 [==============================] - 29s 289ms/step - loss: 0.0551 - acc: 0.9835 - val_loss: 0.2717 - val_acc: 0.9310\n",
      "Epoch 28/70\n",
      "100/100 [==============================] - 29s 290ms/step - loss: 0.0440 - acc: 0.9815 - val_loss: 0.2729 - val_acc: 0.9300\n",
      "Epoch 29/70\n",
      "100/100 [==============================] - 29s 289ms/step - loss: 0.0463 - acc: 0.9810 - val_loss: 0.2874 - val_acc: 0.9250\n",
      "Epoch 30/70\n",
      "100/100 [==============================] - 29s 288ms/step - loss: 0.0451 - acc: 0.9860 - val_loss: 0.3179 - val_acc: 0.9190\n",
      "Epoch 31/70\n",
      "100/100 [==============================] - 29s 289ms/step - loss: 0.0410 - acc: 0.9845 - val_loss: 0.2222 - val_acc: 0.9260\n",
      "Epoch 32/70\n",
      "100/100 [==============================] - 29s 290ms/step - loss: 0.0355 - acc: 0.9870 - val_loss: 0.2522 - val_acc: 0.9310\n",
      "Epoch 33/70\n",
      "100/100 [==============================] - 29s 289ms/step - loss: 0.0522 - acc: 0.9805 - val_loss: 0.2601 - val_acc: 0.9300\n",
      "Epoch 34/70\n",
      "100/100 [==============================] - 29s 289ms/step - loss: 0.0399 - acc: 0.9870 - val_loss: 0.3287 - val_acc: 0.9220\n",
      "Epoch 35/70\n",
      "100/100 [==============================] - 29s 289ms/step - loss: 0.0402 - acc: 0.9855 - val_loss: 0.2566 - val_acc: 0.9300\n",
      "Epoch 36/70\n",
      "100/100 [==============================] - 29s 289ms/step - loss: 0.0474 - acc: 0.9840 - val_loss: 0.2546 - val_acc: 0.9320\n",
      "Epoch 37/70\n",
      "100/100 [==============================] - 29s 289ms/step - loss: 0.0434 - acc: 0.9840 - val_loss: 0.2535 - val_acc: 0.9350\n",
      "Epoch 38/70\n",
      "100/100 [==============================] - 29s 289ms/step - loss: 0.0358 - acc: 0.9855 - val_loss: 0.3750 - val_acc: 0.9160\n",
      "Epoch 39/70\n",
      "100/100 [==============================] - 29s 289ms/step - loss: 0.0393 - acc: 0.9850 - val_loss: 0.2614 - val_acc: 0.9400\n",
      "Epoch 40/70\n",
      "100/100 [==============================] - 29s 289ms/step - loss: 0.0390 - acc: 0.9865 - val_loss: 0.2487 - val_acc: 0.9290\n",
      "Epoch 41/70\n",
      "100/100 [==============================] - 29s 289ms/step - loss: 0.0374 - acc: 0.9865 - val_loss: 0.2661 - val_acc: 0.9410\n",
      "Epoch 42/70\n",
      "100/100 [==============================] - 29s 289ms/step - loss: 0.0433 - acc: 0.9855 - val_loss: 0.2699 - val_acc: 0.9380\n",
      "Epoch 43/70\n",
      "100/100 [==============================] - 29s 288ms/step - loss: 0.0386 - acc: 0.9860 - val_loss: 0.3755 - val_acc: 0.9240\n",
      "Epoch 44/70\n",
      "100/100 [==============================] - 29s 289ms/step - loss: 0.0239 - acc: 0.9925 - val_loss: 0.2826 - val_acc: 0.9360\n",
      "Epoch 45/70\n",
      "100/100 [==============================] - 30s 298ms/step - loss: 0.0319 - acc: 0.9910 - val_loss: 0.2911 - val_acc: 0.9280\n",
      "Epoch 46/70\n",
      "100/100 [==============================] - 29s 290ms/step - loss: 0.0364 - acc: 0.9865 - val_loss: 0.2714 - val_acc: 0.9330\n",
      "Epoch 47/70\n",
      "100/100 [==============================] - 29s 290ms/step - loss: 0.0318 - acc: 0.9890 - val_loss: 0.2817 - val_acc: 0.9300\n",
      "Epoch 48/70\n",
      "100/100 [==============================] - 29s 288ms/step - loss: 0.0348 - acc: 0.9900 - val_loss: 0.2571 - val_acc: 0.9320\n",
      "Epoch 49/70\n",
      "100/100 [==============================] - 29s 289ms/step - loss: 0.0480 - acc: 0.9855 - val_loss: 0.2637 - val_acc: 0.9300\n",
      "Epoch 50/70\n",
      "100/100 [==============================] - 29s 289ms/step - loss: 0.0330 - acc: 0.9880 - val_loss: 0.2629 - val_acc: 0.9340\n",
      "Epoch 51/70\n",
      "100/100 [==============================] - 29s 288ms/step - loss: 0.0327 - acc: 0.9885 - val_loss: 0.3040 - val_acc: 0.9330\n",
      "Epoch 52/70\n",
      "100/100 [==============================] - 29s 289ms/step - loss: 0.0298 - acc: 0.9885 - val_loss: 0.2588 - val_acc: 0.9290\n",
      "Epoch 53/70\n",
      "100/100 [==============================] - 29s 289ms/step - loss: 0.0253 - acc: 0.9915 - val_loss: 0.3018 - val_acc: 0.9370\n",
      "Epoch 54/70\n",
      "100/100 [==============================] - 29s 289ms/step - loss: 0.0302 - acc: 0.9905 - val_loss: 0.2588 - val_acc: 0.9370\n",
      "Epoch 55/70\n",
      "100/100 [==============================] - 29s 288ms/step - loss: 0.0230 - acc: 0.9910 - val_loss: 0.2598 - val_acc: 0.9380\n",
      "Epoch 56/70\n",
      "100/100 [==============================] - 29s 288ms/step - loss: 0.0286 - acc: 0.9900 - val_loss: 0.2873 - val_acc: 0.9400\n",
      "Epoch 57/70\n",
      "100/100 [==============================] - 29s 289ms/step - loss: 0.0362 - acc: 0.9870 - val_loss: 0.2668 - val_acc: 0.9390\n",
      "Epoch 58/70\n",
      "100/100 [==============================] - 29s 290ms/step - loss: 0.0311 - acc: 0.9890 - val_loss: 0.2986 - val_acc: 0.9310\n",
      "Epoch 59/70\n",
      "100/100 [==============================] - 29s 289ms/step - loss: 0.0266 - acc: 0.9900 - val_loss: 0.3015 - val_acc: 0.9360\n",
      "Epoch 60/70\n",
      "100/100 [==============================] - 29s 295ms/step - loss: 0.0282 - acc: 0.9905 - val_loss: 0.2936 - val_acc: 0.9330\n",
      "Epoch 61/70\n"
     ]
    },
    {
     "name": "stdout",
     "output_type": "stream",
     "text": [
      "100/100 [==============================] - 30s 296ms/step - loss: 0.0247 - acc: 0.9910 - val_loss: 0.3104 - val_acc: 0.9290\n",
      "Epoch 62/70\n",
      "100/100 [==============================] - 30s 296ms/step - loss: 0.0304 - acc: 0.9910 - val_loss: 0.3049 - val_acc: 0.9230\n",
      "Epoch 63/70\n",
      "100/100 [==============================] - 29s 295ms/step - loss: 0.0185 - acc: 0.9930 - val_loss: 0.3077 - val_acc: 0.9340\n",
      "Epoch 64/70\n",
      "100/100 [==============================] - 30s 296ms/step - loss: 0.0289 - acc: 0.9880 - val_loss: 0.2903 - val_acc: 0.9330\n",
      "Epoch 65/70\n",
      "100/100 [==============================] - 29s 295ms/step - loss: 0.0244 - acc: 0.9895 - val_loss: 0.2903 - val_acc: 0.9350\n",
      "Epoch 66/70\n",
      "100/100 [==============================] - 30s 295ms/step - loss: 0.0267 - acc: 0.9915 - val_loss: 0.2821 - val_acc: 0.9360\n",
      "Epoch 67/70\n",
      "100/100 [==============================] - 30s 296ms/step - loss: 0.0249 - acc: 0.9925 - val_loss: 0.3369 - val_acc: 0.9330\n",
      "Epoch 68/70\n",
      "100/100 [==============================] - 30s 295ms/step - loss: 0.0372 - acc: 0.9895 - val_loss: 0.2939 - val_acc: 0.9320\n",
      "Epoch 69/70\n",
      "100/100 [==============================] - 29s 294ms/step - loss: 0.0269 - acc: 0.9910 - val_loss: 0.3376 - val_acc: 0.9310\n",
      "Epoch 70/70\n",
      "100/100 [==============================] - 29s 294ms/step - loss: 0.0228 - acc: 0.9920 - val_loss: 0.4867 - val_acc: 0.9170\n"
     ]
    }
   ],
   "source": [
    "model.compile(loss='binary_crossentropy',\n",
    "              optimizer=optimizers.RMSprop(lr=1e-5), # Use a small learn rate\n",
    "              metrics=['acc'])\n",
    "\n",
    "history = model.fit_generator(\n",
    "      train_generator,\n",
    "      steps_per_epoch=100,\n",
    "      epochs=70,\n",
    "      validation_data=validation_generator,\n",
    "      validation_steps=50)"
   ]
  },
  {
   "cell_type": "code",
   "execution_count": 33,
   "metadata": {},
   "outputs": [
    {
     "data": {
      "image/png": "[encoded data removed]",
      "text/plain": [
       "<matplotlib.figure.Figure at 0x27abbe534e0>"
      ]
     },
     "metadata": {},
     "output_type": "display_data"
    },
    {
     "data": {
      "image/png": "[encoded data removed]",
      "text/plain": [
       "<matplotlib.figure.Figure at 0x27abc5761d0>"
      ]
     },
     "metadata": {},
     "output_type": "display_data"
    }
   ],
   "source": [
    "draw_history(history)"
   ]
  },
  {
   "cell_type": "markdown",
   "metadata": {},
   "source": [
    "These curves look very noisy. To make them more readable, we can smooth them by replacing every loss and accuracy with exponential moving averages of these quantities. Here's a trivial utility function to do this:"
   ]
  },
  {
   "cell_type": "code",
   "execution_count": 34,
   "metadata": {},
   "outputs": [
    {
     "data": {
      "image/png": "[encoded data removed]",
      "text/plain": [
       "<matplotlib.figure.Figure at 0x279a83dabe0>"
      ]
     },
     "metadata": {},
     "output_type": "display_data"
    },
    {
     "data": {
      "image/png": "[encoded data removed]",
      "text/plain": [
       "<matplotlib.figure.Figure at 0x27abc30d7b8>"
      ]
     },
     "metadata": {},
     "output_type": "display_data"
    }
   ],
   "source": [
    "def smooth_curve(points, factor=0.8):\n",
    "    \n",
    "    smoothed_points = []\n",
    "    for point in points:\n",
    "        if smoothed_points:\n",
    "            previous = smoothed_points[-1]\n",
    "            smoothed_points.append(previous * factor + point * (1 - factor))\n",
    "        else:\n",
    "            smoothed_points.append(point)\n",
    "    return smoothed_points\n",
    "\n",
    "def draw_smooth_pic(history):\n",
    "    acc = history.history['acc']\n",
    "    val_acc = history.history['val_acc']\n",
    "    loss = history.history['loss']\n",
    "    val_loss = history.history['val_loss']\n",
    "\n",
    "    epochs = range(len(acc))\n",
    "\n",
    "    plt.plot(epochs, smooth_curve(acc), label='Smoothed training acc')\n",
    "    plt.plot(epochs, smooth_curve(val_acc), label='Smoothed validation acc')\n",
    "    plt.title('Training and validation accuracy')\n",
    "    plt.legend()\n",
    "\n",
    "    plt.figure()\n",
    "\n",
    "    plt.plot(epochs, smooth_curve(loss), label='Smoothed training loss')\n",
    "    plt.plot(epochs,smooth_curve(val_loss), label='Smoothed validation loss')\n",
    "    plt.title('Training and validation loss')\n",
    "    plt.legend()\n",
    "\n",
    "    plt.show()\n",
    "    \n",
    "draw_smooth_pic(history)"
   ]
  },
  {
   "cell_type": "markdown",
   "metadata": {},
   "source": [
    "Note that the loss curve does not show any real improvement (in fact, it is deteriorating). You may wonder, how could accuracy improve if the loss isn't decreasing? The answer is simple: what we display is an average of pointwise loss values, but what actually matters for accuracy is the distribution of the loss values, not their average, since accuracy is the result of a binary thresholding of the class probability predicted by the model. The model may still be improving even if this isn't reflected in the average loss.\n",
    "\n",
    "We can now finally evaluate this model on the test data:"
   ]
  },
  {
   "cell_type": "code",
   "execution_count": 35,
   "metadata": {},
   "outputs": [
    {
     "name": "stdout",
     "output_type": "stream",
     "text": [
      "Found 1000 images belonging to 2 classes.\n",
      "test acc: 0.914999991655\n"
     ]
    }
   ],
   "source": [
    "test_generator = test_datagen.flow_from_directory(\n",
    "        test_dir,\n",
    "        target_size=(150, 150),\n",
    "        batch_size=20,\n",
    "        class_mode='binary')\n",
    "\n",
    "test_loss, test_acc = model.evaluate_generator(test_generator, steps=50)\n",
    "print('test acc:', test_acc)"
   ]
  },
  {
   "cell_type": "markdown",
   "metadata": {},
   "source": [
    "However, using modern deep learning techniques, we managed to reach this result using only a very small fraction of the training data available (about 10%). There is a huge difference between being able to train on 20,000 samples compared to 2,000 samples!\n",
    "\n",
    "# Summary\n",
    "\n",
    "* Convnets are the best type of machine learning models for computer vision tasks. It is possible to train one from scratch even on a very small dataset, with decent results.\n",
    "\n",
    "\n",
    "* On a small dataset, overfitting will be the main issue. Data augmentation is a powerful way to fight overfitting when working with image data.\n",
    "\n",
    "\n",
    "* It is easy to reuse an existing convnet on a new dataset, via feature extraction. This is a very valuable technique for working with small image datasets.\n",
    "\n",
    "\n",
    "* As a complement to feature extraction, one may use fine-tuning, which adapts to a new problem some of the representations previously learned by an existing model. This pushes performance a bit further.\n",
    "\n",
    "\n",
    "Reference:\n",
    "[fchollet: deep-learning-with-python-notebooks](https://github.com/fchollet/deep-learning-with-python-notebooks/blob/master/5.3-using-a-pretrained-convnet.ipynb)"
   ]
  },
  {
   "cell_type": "code",
   "execution_count": null,
   "metadata": {
    "collapsed": true
   },
   "outputs": [],
   "source": []
  }
 ],
 "metadata": {
  "kernelspec": {
   "display_name": "Python 3",
   "language": "python",
   "name": "python3"
  },
  "language_info": {
   "codemirror_mode": {
    "name": "ipython",
    "version": 3
   },
   "file_extension": ".py",
   "mimetype": "text/x-python",
   "name": "python",
   "nbconvert_exporter": "python",
   "pygments_lexer": "ipython3",
   "version": "3.6.2"
  }
 },
 "nbformat": 4,
 "nbformat_minor": 2
}
