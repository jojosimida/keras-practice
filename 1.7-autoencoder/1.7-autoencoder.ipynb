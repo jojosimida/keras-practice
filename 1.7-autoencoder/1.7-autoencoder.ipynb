{
 "cells": [
  {
   "cell_type": "markdown",
   "metadata": {
    "collapsed": true
   },
   "source": [
    "# What are autoencoders?\n",
    "\n",
    "![autoencoder](https://blog.keras.io/img/ae/autoencoder_schema.jpg)\n",
    "\n",
    "\"Autoencoding\" is a data compression algorithm where the compression and decompression functions are \n",
    "1. data-specific\n",
    "2. lossy\n",
    "3. learned automatically from examples rather than engineered by a human\n",
    "\n",
    "Additionally, in almost all contexts where the term \"autoencoder\" is used, the compression and decompression functions are implemented with neural networks.\n",
    "\n",
    "## 1.Autoencoders are data-specific\n",
    "\n",
    "which means that they will only be able to compress data similar to what they have been trained on. This is different from, say, the MPEG-2 Audio Layer III (MP3) compression algorithm, which only holds assumptions about \"sound\" in general, but not about specific types of sounds. An autoencoder trained on pictures of faces would do a rather poor job of compressing pictures of trees, because the features it would learn would be face-specific.\n",
    "\n",
    "## 2.Autoencoders are lossy\n",
    "\n",
    "which means that the decompressed outputs will be degraded compared to the original inputs (similar to MP3 or JPEG compression). This differs from lossless arithmetic compression.\n",
    "\n",
    "## 3.Autoencoders are learned automatically from data examples\n",
    "\n",
    "which is a useful property: it means that it is easy to train specialized instances of the algorithm that will perform well on a specific type of input. It doesn't require any new engineering, just appropriate training data.\n",
    "\n",
    "<br><br>\n",
    "To build an autoencoder, you need three things: **an encoding function**, **a decoding function**, and **a distance function between the amount of information loss between the compressed representation of your data and the decompressed representation (i.e. a \"loss\" function)**. \n",
    "\n",
    "The encoder and decoder will be chosen to be parametric functions (typically neural networks), and to be differentiable with respect to the distance function, so the parameters of the encoding/decoding functions can be optimize to minimize the reconstruction loss, using Stochastic Gradient Descent. It's simple! And you don't even need to understand any of these words to start using autoencoders in practice.\n",
    "\n",
    "## Are they good at data compression?\n",
    "\n",
    "Usually, not really. In picture compression for instance, it is pretty difficult to train an autoencoder that does a better job than a basic algorithm like JPEG, and typically the only way it can be achieved is by restricting yourself to a very specific type of picture (e.g. one for which JPEG does not do a good job). The fact that autoencoders are data-specific makes them generally impractical for real-world data compression problems: you can only use them on data that is similar to what they were trained on, and making them more general thus requires lots of training data. But future advances might change this, who knows.\n",
    "\n",
    "## What are autoencoders good for?\n",
    "They are rarely used in practical applications. In 2012 they briefly found an application in greedy layer-wise pretraining for deep convolutional neural networks [1], but this quickly fell out of fashion as we started realizing that better random weight initialization schemes were sufficient for training deep networks from scratch. In 2014, batch normalization [2] started allowing for even deeper networks, and from late 2015 we could train arbitrarily deep networks from scratch using residual learning [3].\n",
    "\n",
    "Today two interesting practical applications of autoencoders are **data denoising** (which we feature later in this post), and **dimensionality reduction for data visualization**. With appropriate dimensionality and sparsity constraints, autoencoders can learn data projections that are more interesting than PCA or other basic techniques.\n",
    "\n",
    "For 2D visualization specifically, t-SNE (pronounced \"tee-snee\") is probably the best algorithm around, but it typically requires relatively low-dimensional data. So a good strategy for visualizing similarity relationships in high-dimensional data is to start by using an autoencoder to compress your data into a low-dimensional space (e.g. 32 dimensional), then use t-SNE for mapping the compressed data to a 2D plane. Note that a nice parametric implementation of t-SNE in Keras was developed by Kyle McDonald and is available on Github. Otherwise scikit-learn also has a simple and practical implementation.\n",
    "\n",
    "# A simple autoencoder based on a fully-connected layer\n"
   ]
  },
  {
   "cell_type": "code",
   "execution_count": 23,
   "metadata": {},
   "outputs": [],
   "source": [
    "from keras.layers import Input, Dense\n",
    "from keras.models import Model"
   ]
  },
  {
   "cell_type": "code",
   "execution_count": 24,
   "metadata": {
    "collapsed": true
   },
   "outputs": [],
   "source": [
    "# this is the size of our encoded representations\n",
    "encoding_dim = 32  # 32 floats -> compression of factor 24.5, assuming the input is 784 floats(784/32=24.5)\n",
    "\n",
    "# this is our input placeholder\n",
    "input_img = Input(shape=(784,))\n",
    "\n",
    "# \"encoded\" is the encoded representation of the input\n",
    "encoded = Dense(encoding_dim, activation='relu')(input_img)\n",
    "\n",
    "# \"decoded\" is the lossy reconstruction of the input\n",
    "decoded = Dense(784, activation='sigmoid')(encoded)\n",
    "\n",
    "# this model maps an input to its reconstruction\n",
    "autoencoder = Model(input_img, decoded)"
   ]
  },
  {
   "cell_type": "markdown",
   "metadata": {},
   "source": [
    "Let's also create a separate encoder model:"
   ]
  },
  {
   "cell_type": "code",
   "execution_count": 25,
   "metadata": {
    "collapsed": true
   },
   "outputs": [],
   "source": [
    "# this model maps an input to its encoded representation\n",
    "encoder = Model(input_img, encoded)"
   ]
  },
  {
   "cell_type": "markdown",
   "metadata": {},
   "source": [
    "As well as the decoder model:"
   ]
  },
  {
   "cell_type": "code",
   "execution_count": 26,
   "metadata": {
    "collapsed": true
   },
   "outputs": [],
   "source": [
    "# create a placeholder for an encoded (32-dimensional) input\n",
    "encoded_input = Input(shape=(encoding_dim,))\n",
    "\n",
    "# retrieve the last layer of the autoencoder model\n",
    "decoder_layer = autoencoder.layers[-1]\n",
    "\n",
    "# create the decoder model\n",
    "decoder = Model(encoded_input, decoder_layer(encoded_input))"
   ]
  },
  {
   "cell_type": "markdown",
   "metadata": {},
   "source": [
    "Now let's train our autoencoder to reconstruct MNIST digits.\n",
    "\n",
    "First, we'll configure our model to use a per-pixel binary crossentropy loss, and the Adadelta optimizer:"
   ]
  },
  {
   "cell_type": "code",
   "execution_count": 27,
   "metadata": {},
   "outputs": [
    {
     "name": "stdout",
     "output_type": "stream",
     "text": [
      "_________________________________________________________________\n",
      "Layer (type)                 Output Shape              Param #   \n",
      "=================================================================\n",
      "input_5 (InputLayer)         (None, 784)               0         \n",
      "_________________________________________________________________\n",
      "dense_11 (Dense)             (None, 32)                25120     \n",
      "_________________________________________________________________\n",
      "dense_12 (Dense)             (None, 784)               25872     \n",
      "=================================================================\n",
      "Total params: 50,992\n",
      "Trainable params: 50,992\n",
      "Non-trainable params: 0\n",
      "_________________________________________________________________\n"
     ]
    }
   ],
   "source": [
    "autoencoder.compile(optimizer='adadelta', loss='binary_crossentropy')\n",
    "autoencoder.summary()"
   ]
  },
  {
   "cell_type": "markdown",
   "metadata": {},
   "source": [
    "Let's prepare our input data. We're using MNIST digits, and we're discarding the labels (since we're only interested in encoding/decoding the input images)."
   ]
  },
  {
   "cell_type": "code",
   "execution_count": 28,
   "metadata": {
    "collapsed": true
   },
   "outputs": [],
   "source": [
    "from keras.datasets import mnist\n",
    "import numpy as np\n",
    "(x_train, _), (x_test, _) = mnist.load_data()"
   ]
  },
  {
   "cell_type": "markdown",
   "metadata": {},
   "source": [
    "We will normalize all values between 0 and 1 and we will flatten the 28x28 images into vectors of size 784."
   ]
  },
  {
   "cell_type": "code",
   "execution_count": 29,
   "metadata": {},
   "outputs": [
    {
     "name": "stdout",
     "output_type": "stream",
     "text": [
      "(60000, 784)\n",
      "(10000, 784)\n"
     ]
    }
   ],
   "source": [
    "x_train = x_train.astype('float32') / 255.\n",
    "x_test = x_test.astype('float32') / 255.\n",
    "x_train = x_train.reshape((len(x_train), np.prod(x_train.shape[1:])))\n",
    "x_test = x_test.reshape((len(x_test), np.prod(x_test.shape[1:])))\n",
    "print(x_train.shape)\n",
    "print(x_test.shape)"
   ]
  },
  {
   "cell_type": "code",
   "execution_count": 30,
   "metadata": {},
   "outputs": [
    {
     "name": "stdout",
     "output_type": "stream",
     "text": [
      "Train on 60000 samples, validate on 10000 samples\n",
      "Epoch 1/50\n",
      "60000/60000 [==============================] - 2s 41us/step - loss: 0.3722 - val_loss: 0.2726\n",
      "Epoch 2/50\n",
      "60000/60000 [==============================] - 2s 30us/step - loss: 0.2652 - val_loss: 0.2544\n",
      "Epoch 3/50\n",
      "60000/60000 [==============================] - 2s 27us/step - loss: 0.2449 - val_loss: 0.2329\n",
      "Epoch 4/50\n",
      "60000/60000 [==============================] - 2s 27us/step - loss: 0.2256 - val_loss: 0.2157\n",
      "Epoch 5/50\n",
      "60000/60000 [==============================] - 2s 26us/step - loss: 0.2106 - val_loss: 0.2028\n",
      "Epoch 6/50\n",
      "60000/60000 [==============================] - 2s 26us/step - loss: 0.1990 - val_loss: 0.1926\n",
      "Epoch 7/50\n",
      "60000/60000 [==============================] - 2s 25us/step - loss: 0.1899 - val_loss: 0.1844\n",
      "Epoch 8/50\n",
      "60000/60000 [==============================] - 2s 29us/step - loss: 0.1823 - val_loss: 0.1775\n",
      "Epoch 9/50\n",
      "60000/60000 [==============================] - 2s 29us/step - loss: 0.1759 - val_loss: 0.1715\n",
      "Epoch 10/50\n",
      "60000/60000 [==============================] - 2s 27us/step - loss: 0.1703 - val_loss: 0.1663\n",
      "Epoch 11/50\n",
      "60000/60000 [==============================] - 2s 26us/step - loss: 0.1655 - val_loss: 0.1619\n",
      "Epoch 12/50\n",
      "60000/60000 [==============================] - 2s 28us/step - loss: 0.1613 - val_loss: 0.1579\n",
      "Epoch 13/50\n",
      "60000/60000 [==============================] - 2s 25us/step - loss: 0.1574 - val_loss: 0.1542\n",
      "Epoch 14/50\n",
      "60000/60000 [==============================] - 1s 25us/step - loss: 0.1538 - val_loss: 0.1507\n",
      "Epoch 15/50\n",
      "60000/60000 [==============================] - 2s 25us/step - loss: 0.1505 - val_loss: 0.1476\n",
      "Epoch 16/50\n",
      "60000/60000 [==============================] - 2s 25us/step - loss: 0.1475 - val_loss: 0.1447\n",
      "Epoch 17/50\n",
      "60000/60000 [==============================] - 2s 26us/step - loss: 0.1447 - val_loss: 0.1418\n",
      "Epoch 18/50\n",
      "60000/60000 [==============================] - 1s 25us/step - loss: 0.1421 - val_loss: 0.1393\n",
      "Epoch 19/50\n",
      "60000/60000 [==============================] - 1s 24us/step - loss: 0.1396 - val_loss: 0.1369\n",
      "Epoch 20/50\n",
      "60000/60000 [==============================] - 1s 25us/step - loss: 0.1373 - val_loss: 0.1346\n",
      "Epoch 21/50\n",
      "60000/60000 [==============================] - 2s 26us/step - loss: 0.1351 - val_loss: 0.1325\n",
      "Epoch 22/50\n",
      "60000/60000 [==============================] - 2s 26us/step - loss: 0.1330 - val_loss: 0.1305\n",
      "Epoch 23/50\n",
      "60000/60000 [==============================] - 2s 26us/step - loss: 0.1311 - val_loss: 0.1285\n",
      "Epoch 24/50\n",
      "60000/60000 [==============================] - 2s 27us/step - loss: 0.1291 - val_loss: 0.1266\n",
      "Epoch 25/50\n",
      "60000/60000 [==============================] - 2s 25us/step - loss: 0.1273 - val_loss: 0.1249\n",
      "Epoch 26/50\n",
      "60000/60000 [==============================] - 2s 25us/step - loss: 0.1256 - val_loss: 0.1231\n",
      "Epoch 27/50\n",
      "60000/60000 [==============================] - 1s 25us/step - loss: 0.1239 - val_loss: 0.1215\n",
      "Epoch 28/50\n",
      "60000/60000 [==============================] - 2s 26us/step - loss: 0.1224 - val_loss: 0.1200\n",
      "Epoch 29/50\n",
      "60000/60000 [==============================] - 1s 24us/step - loss: 0.1209 - val_loss: 0.1185\n",
      "Epoch 30/50\n",
      "60000/60000 [==============================] - 2s 27us/step - loss: 0.1195 - val_loss: 0.1172\n",
      "Epoch 31/50\n",
      "60000/60000 [==============================] - 2s 25us/step - loss: 0.1182 - val_loss: 0.1159\n",
      "Epoch 32/50\n",
      "60000/60000 [==============================] - 1s 25us/step - loss: 0.1170 - val_loss: 0.1147\n",
      "Epoch 33/50\n",
      "60000/60000 [==============================] - 1s 25us/step - loss: 0.1159 - val_loss: 0.1137\n",
      "Epoch 34/50\n",
      "60000/60000 [==============================] - 2s 29us/step - loss: 0.1148 - val_loss: 0.1126\n",
      "Epoch 35/50\n",
      "60000/60000 [==============================] - 2s 27us/step - loss: 0.1139 - val_loss: 0.1117\n",
      "Epoch 36/50\n",
      "60000/60000 [==============================] - 2s 28us/step - loss: 0.1130 - val_loss: 0.1108\n",
      "Epoch 37/50\n",
      "60000/60000 [==============================] - 2s 28us/step - loss: 0.1121 - val_loss: 0.1100\n",
      "Epoch 38/50\n",
      "60000/60000 [==============================] - 2s 27us/step - loss: 0.1113 - val_loss: 0.1092\n",
      "Epoch 39/50\n",
      "60000/60000 [==============================] - 2s 27us/step - loss: 0.1106 - val_loss: 0.1085\n",
      "Epoch 40/50\n",
      "60000/60000 [==============================] - 2s 28us/step - loss: 0.1099 - val_loss: 0.1079\n",
      "Epoch 41/50\n",
      "60000/60000 [==============================] - 1s 25us/step - loss: 0.1093 - val_loss: 0.1073\n",
      "Epoch 42/50\n",
      "60000/60000 [==============================] - 2s 25us/step - loss: 0.1087 - val_loss: 0.1067\n",
      "Epoch 43/50\n",
      "60000/60000 [==============================] - 2s 25us/step - loss: 0.1081 - val_loss: 0.1061\n",
      "Epoch 44/50\n",
      "60000/60000 [==============================] - 1s 24us/step - loss: 0.1076 - val_loss: 0.1056\n",
      "Epoch 45/50\n",
      "60000/60000 [==============================] - 2s 26us/step - loss: 0.1071 - val_loss: 0.1051\n",
      "Epoch 46/50\n",
      "60000/60000 [==============================] - 2s 25us/step - loss: 0.1066 - val_loss: 0.1047\n",
      "Epoch 47/50\n",
      "60000/60000 [==============================] - 2s 26us/step - loss: 0.1062 - val_loss: 0.1042\n",
      "Epoch 48/50\n",
      "60000/60000 [==============================] - 2s 25us/step - loss: 0.1057 - val_loss: 0.1038\n",
      "Epoch 49/50\n",
      "60000/60000 [==============================] - 1s 25us/step - loss: 0.1053 - val_loss: 0.1034\n",
      "Epoch 50/50\n",
      "60000/60000 [==============================] - 1s 25us/step - loss: 0.1049 - val_loss: 0.1031\n"
     ]
    },
    {
     "data": {
      "text/plain": [
       "<keras.callbacks.History at 0x22e1500b0f0>"
      ]
     },
     "execution_count": 30,
     "metadata": {},
     "output_type": "execute_result"
    }
   ],
   "source": [
    "autoencoder.fit(x_train, x_train,\n",
    "                epochs=50,\n",
    "                batch_size=256,\n",
    "                shuffle=True,\n",
    "                validation_data=(x_test, x_test))"
   ]
  },
  {
   "cell_type": "markdown",
   "metadata": {},
   "source": [
    "After 50 epochs, the autoencoder seems to reach a stable train/test loss value of about 0.11. We can try to visualize the reconstructed inputs and the encoded representations. We will use Matplotlib."
   ]
  },
  {
   "cell_type": "code",
   "execution_count": 31,
   "metadata": {
    "collapsed": true
   },
   "outputs": [],
   "source": [
    "# encode and decode some digits\n",
    "# note that we take them from the *test* set\n",
    "encoded_imgs = encoder.predict(x_test)\n",
    "decoded_imgs = decoder.predict(encoded_imgs)"
   ]
  },
  {
   "cell_type": "code",
   "execution_count": 32,
   "metadata": {
    "collapsed": true
   },
   "outputs": [],
   "source": [
    "import matplotlib.pyplot as plt\n",
    "\n",
    "def draw_images(decoded_imgs):\n",
    "    \n",
    "    n = 10  # how many digits we will display\n",
    "    plt.figure(figsize=(20, 4))\n",
    "    for i in range(n):\n",
    "        # display original\n",
    "        ax = plt.subplot(2, n, i + 1)\n",
    "        plt.imshow(x_test[i].reshape(28, 28))\n",
    "        plt.gray()\n",
    "        ax.get_xaxis().set_visible(False)\n",
    "        ax.get_yaxis().set_visible(False)\n",
    "\n",
    "        # display reconstruction\n",
    "        ax = plt.subplot(2, n, i + 1 + n)\n",
    "        plt.imshow(decoded_imgs[i].reshape(28, 28))\n",
    "        plt.gray()\n",
    "        ax.get_xaxis().set_visible(False)\n",
    "        ax.get_yaxis().set_visible(False)\n",
    "    plt.show()"
   ]
  },
  {
   "cell_type": "code",
   "execution_count": 33,
   "metadata": {},
   "outputs": [
    {
     "data": {
      "image/png": "[encoded data removed]",
      "text/plain": [
       "<matplotlib.figure.Figure at 0x22e1642a048>"
      ]
     },
     "metadata": {},
     "output_type": "display_data"
    }
   ],
   "source": [
    "draw_images(decoded_imgs)"
   ]
  },
  {
   "cell_type": "markdown",
   "metadata": {},
   "source": [
    "Here's what we get. The top row is the original digits, and the bottom row is the reconstructed digits. We are losing quite a bit of detail with this basic approach."
   ]
  },
  {
   "cell_type": "markdown",
   "metadata": {},
   "source": [
    "# Deep autoencoder\n",
    "\n",
    "We do not have to limit ourselves to a single layer as encoder or decoder, we could instead use a stack of layers, such as:"
   ]
  },
  {
   "cell_type": "code",
   "execution_count": 35,
   "metadata": {},
   "outputs": [
    {
     "name": "stdout",
     "output_type": "stream",
     "text": [
      "Train on 60000 samples, validate on 10000 samples\n",
      "Epoch 1/100\n",
      "60000/60000 [==============================] - 3s 52us/step - loss: 0.3646 - val_loss: 0.2641\n",
      "Epoch 2/100\n",
      "60000/60000 [==============================] - 2s 35us/step - loss: 0.2590 - val_loss: 0.2513\n",
      "Epoch 3/100\n",
      "60000/60000 [==============================] - 2s 36us/step - loss: 0.2388 - val_loss: 0.2282\n",
      "Epoch 4/100\n",
      "60000/60000 [==============================] - 2s 32us/step - loss: 0.2243 - val_loss: 0.2174\n",
      "Epoch 5/100\n",
      "60000/60000 [==============================] - 2s 35us/step - loss: 0.2134 - val_loss: 0.2083\n",
      "Epoch 6/100\n",
      "60000/60000 [==============================] - 2s 32us/step - loss: 0.2059 - val_loss: 0.2016\n",
      "Epoch 7/100\n",
      "60000/60000 [==============================] - 2s 36us/step - loss: 0.1964 - val_loss: 0.1888\n",
      "Epoch 8/100\n",
      "60000/60000 [==============================] - 2s 34us/step - loss: 0.1859 - val_loss: 0.1813\n",
      "Epoch 9/100\n",
      "60000/60000 [==============================] - 2s 34us/step - loss: 0.1800 - val_loss: 0.1770\n",
      "Epoch 10/100\n",
      "60000/60000 [==============================] - 2s 37us/step - loss: 0.1745 - val_loss: 0.1706\n",
      "Epoch 11/100\n",
      "60000/60000 [==============================] - 2s 31us/step - loss: 0.1695 - val_loss: 0.1652\n",
      "Epoch 12/100\n",
      "60000/60000 [==============================] - 2s 31us/step - loss: 0.1656 - val_loss: 0.1620\n",
      "Epoch 13/100\n",
      "60000/60000 [==============================] - 2s 31us/step - loss: 0.1622 - val_loss: 0.1580\n",
      "Epoch 14/100\n",
      "60000/60000 [==============================] - 2s 31us/step - loss: 0.1590 - val_loss: 0.1576\n",
      "Epoch 15/100\n",
      "60000/60000 [==============================] - 2s 33us/step - loss: 0.1559 - val_loss: 0.1527\n",
      "Epoch 16/100\n",
      "60000/60000 [==============================] - 2s 31us/step - loss: 0.1529 - val_loss: 0.1498\n",
      "Epoch 17/100\n",
      "60000/60000 [==============================] - 2s 34us/step - loss: 0.1502 - val_loss: 0.1481\n",
      "Epoch 18/100\n",
      "60000/60000 [==============================] - 2s 33us/step - loss: 0.1473 - val_loss: 0.1451\n",
      "Epoch 19/100\n",
      "60000/60000 [==============================] - 2s 33us/step - loss: 0.1450 - val_loss: 0.1418\n",
      "Epoch 20/100\n",
      "60000/60000 [==============================] - 2s 32us/step - loss: 0.1424 - val_loss: 0.1404\n",
      "Epoch 21/100\n",
      "60000/60000 [==============================] - 2s 32us/step - loss: 0.1401 - val_loss: 0.1374\n",
      "Epoch 22/100\n",
      "60000/60000 [==============================] - 2s 32us/step - loss: 0.1379 - val_loss: 0.1362\n",
      "Epoch 23/100\n",
      "60000/60000 [==============================] - 2s 32us/step - loss: 0.1358 - val_loss: 0.1326\n",
      "Epoch 24/100\n",
      "60000/60000 [==============================] - 2s 33us/step - loss: 0.1340 - val_loss: 0.1318\n",
      "Epoch 25/100\n",
      "60000/60000 [==============================] - 2s 31us/step - loss: 0.1324 - val_loss: 0.1300\n",
      "Epoch 26/100\n",
      "60000/60000 [==============================] - 2s 31us/step - loss: 0.1310 - val_loss: 0.1312\n",
      "Epoch 27/100\n",
      "60000/60000 [==============================] - 2s 34us/step - loss: 0.1299 - val_loss: 0.1278\n",
      "Epoch 28/100\n",
      "60000/60000 [==============================] - 2s 32us/step - loss: 0.1287 - val_loss: 0.1284\n",
      "Epoch 29/100\n",
      "60000/60000 [==============================] - 2s 32us/step - loss: 0.1278 - val_loss: 0.1273\n",
      "Epoch 30/100\n",
      "60000/60000 [==============================] - 2s 31us/step - loss: 0.1267 - val_loss: 0.1256\n",
      "Epoch 31/100\n",
      "60000/60000 [==============================] - 2s 31us/step - loss: 0.1258 - val_loss: 0.1241\n",
      "Epoch 32/100\n",
      "60000/60000 [==============================] - 2s 31us/step - loss: 0.1246 - val_loss: 0.1225\n",
      "Epoch 33/100\n",
      "60000/60000 [==============================] - 2s 31us/step - loss: 0.1237 - val_loss: 0.1228\n",
      "Epoch 34/100\n",
      "60000/60000 [==============================] - 2s 32us/step - loss: 0.1224 - val_loss: 0.1205\n",
      "Epoch 35/100\n",
      "60000/60000 [==============================] - 2s 35us/step - loss: 0.1215 - val_loss: 0.1202\n",
      "Epoch 36/100\n",
      "60000/60000 [==============================] - 2s 32us/step - loss: 0.1207 - val_loss: 0.1196\n",
      "Epoch 37/100\n",
      "60000/60000 [==============================] - 2s 33us/step - loss: 0.1198 - val_loss: 0.1189\n",
      "Epoch 38/100\n",
      "60000/60000 [==============================] - 2s 36us/step - loss: 0.1193 - val_loss: 0.1177\n",
      "Epoch 39/100\n",
      "60000/60000 [==============================] - 2s 34us/step - loss: 0.1186 - val_loss: 0.1167\n",
      "Epoch 40/100\n",
      "60000/60000 [==============================] - 2s 34us/step - loss: 0.1179 - val_loss: 0.1165\n",
      "Epoch 41/100\n",
      "60000/60000 [==============================] - 2s 32us/step - loss: 0.1174 - val_loss: 0.1160\n",
      "Epoch 42/100\n",
      "60000/60000 [==============================] - 2s 31us/step - loss: 0.1168 - val_loss: 0.1150\n",
      "Epoch 43/100\n",
      "60000/60000 [==============================] - 2s 32us/step - loss: 0.1163 - val_loss: 0.1153\n",
      "Epoch 44/100\n",
      "60000/60000 [==============================] - 2s 31us/step - loss: 0.1159 - val_loss: 0.1141\n",
      "Epoch 45/100\n",
      "60000/60000 [==============================] - 2s 36us/step - loss: 0.1153 - val_loss: 0.1139\n",
      "Epoch 46/100\n",
      "60000/60000 [==============================] - 2s 38us/step - loss: 0.1148 - val_loss: 0.1130\n",
      "Epoch 47/100\n",
      "60000/60000 [==============================] - 2s 35us/step - loss: 0.1144 - val_loss: 0.1125\n",
      "Epoch 48/100\n",
      "60000/60000 [==============================] - 2s 35us/step - loss: 0.1140 - val_loss: 0.1128\n",
      "Epoch 49/100\n",
      "60000/60000 [==============================] - 2s 35us/step - loss: 0.1135 - val_loss: 0.1120\n",
      "Epoch 50/100\n",
      "60000/60000 [==============================] - 2s 37us/step - loss: 0.1131 - val_loss: 0.1113\n",
      "Epoch 51/100\n",
      "60000/60000 [==============================] - 2s 34us/step - loss: 0.1126 - val_loss: 0.1115\n",
      "Epoch 52/100\n",
      "60000/60000 [==============================] - 2s 30us/step - loss: 0.1123 - val_loss: 0.1104\n",
      "Epoch 53/100\n",
      "60000/60000 [==============================] - 2s 31us/step - loss: 0.1120 - val_loss: 0.1117\n",
      "Epoch 54/100\n",
      "60000/60000 [==============================] - 2s 32us/step - loss: 0.1116 - val_loss: 0.1095\n",
      "Epoch 55/100\n",
      "60000/60000 [==============================] - 2s 35us/step - loss: 0.1111 - val_loss: 0.1098\n",
      "Epoch 56/100\n",
      "60000/60000 [==============================] - 2s 33us/step - loss: 0.1108 - val_loss: 0.1100\n",
      "Epoch 57/100\n",
      "60000/60000 [==============================] - 2s 33us/step - loss: 0.1106 - val_loss: 0.1095\n",
      "Epoch 58/100\n",
      "60000/60000 [==============================] - 2s 36us/step - loss: 0.1103 - val_loss: 0.1088\n",
      "Epoch 59/100\n",
      "60000/60000 [==============================] - 2s 37us/step - loss: 0.1100 - val_loss: 0.1090\n",
      "Epoch 60/100\n",
      "60000/60000 [==============================] - 2s 38us/step - loss: 0.1097 - val_loss: 0.1095\n",
      "Epoch 61/100\n",
      "60000/60000 [==============================] - 2s 34us/step - loss: 0.1094 - val_loss: 0.1071\n",
      "Epoch 62/100\n",
      "60000/60000 [==============================] - 2s 33us/step - loss: 0.1091 - val_loss: 0.1078\n",
      "Epoch 63/100\n",
      "60000/60000 [==============================] - 2s 36us/step - loss: 0.1088 - val_loss: 0.1076\n",
      "Epoch 64/100\n",
      "60000/60000 [==============================] - 2s 35us/step - loss: 0.1087 - val_loss: 0.1069\n",
      "Epoch 65/100\n",
      "60000/60000 [==============================] - 2s 34us/step - loss: 0.1084 - val_loss: 0.1065\n",
      "Epoch 66/100\n",
      "60000/60000 [==============================] - 2s 35us/step - loss: 0.1080 - val_loss: 0.1062\n",
      "Epoch 67/100\n",
      "60000/60000 [==============================] - 2s 35us/step - loss: 0.1079 - val_loss: 0.1065\n",
      "Epoch 68/100\n",
      "60000/60000 [==============================] - 2s 33us/step - loss: 0.1077 - val_loss: 0.1068\n",
      "Epoch 69/100\n",
      "60000/60000 [==============================] - 2s 33us/step - loss: 0.1075 - val_loss: 0.1057\n",
      "Epoch 70/100\n",
      "60000/60000 [==============================] - 2s 33us/step - loss: 0.1072 - val_loss: 0.1055\n",
      "Epoch 71/100\n",
      "60000/60000 [==============================] - 2s 34us/step - loss: 0.1071 - val_loss: 0.1063\n",
      "Epoch 72/100\n",
      "60000/60000 [==============================] - 2s 34us/step - loss: 0.1069 - val_loss: 0.1054\n",
      "Epoch 73/100\n",
      "60000/60000 [==============================] - 2s 33us/step - loss: 0.1066 - val_loss: 0.1048\n",
      "Epoch 74/100\n",
      "60000/60000 [==============================] - 2s 34us/step - loss: 0.1064 - val_loss: 0.1052\n",
      "Epoch 75/100\n",
      "60000/60000 [==============================] - 2s 33us/step - loss: 0.1062 - val_loss: 0.1055\n",
      "Epoch 76/100\n",
      "60000/60000 [==============================] - 2s 32us/step - loss: 0.1060 - val_loss: 0.1044\n",
      "Epoch 77/100\n"
     ]
    },
    {
     "name": "stdout",
     "output_type": "stream",
     "text": [
      "60000/60000 [==============================] - 2s 34us/step - loss: 0.1059 - val_loss: 0.1048\n",
      "Epoch 78/100\n",
      "60000/60000 [==============================] - 2s 33us/step - loss: 0.1057 - val_loss: 0.1042\n",
      "Epoch 79/100\n",
      "60000/60000 [==============================] - 2s 32us/step - loss: 0.1054 - val_loss: 0.1052\n",
      "Epoch 80/100\n",
      "60000/60000 [==============================] - 2s 32us/step - loss: 0.1054 - val_loss: 0.1040\n",
      "Epoch 81/100\n",
      "60000/60000 [==============================] - 2s 32us/step - loss: 0.1052 - val_loss: 0.1047\n",
      "Epoch 82/100\n",
      "60000/60000 [==============================] - 2s 32us/step - loss: 0.1049 - val_loss: 0.1039\n",
      "Epoch 83/100\n",
      "60000/60000 [==============================] - 2s 33us/step - loss: 0.1048 - val_loss: 0.1031\n",
      "Epoch 84/100\n",
      "60000/60000 [==============================] - 2s 35us/step - loss: 0.1046 - val_loss: 0.1032\n",
      "Epoch 85/100\n",
      "60000/60000 [==============================] - 2s 34us/step - loss: 0.1044 - val_loss: 0.1030\n",
      "Epoch 86/100\n",
      "60000/60000 [==============================] - 2s 32us/step - loss: 0.1043 - val_loss: 0.1026\n",
      "Epoch 87/100\n",
      "60000/60000 [==============================] - 2s 33us/step - loss: 0.1042 - val_loss: 0.1022\n",
      "Epoch 88/100\n",
      "60000/60000 [==============================] - 2s 36us/step - loss: 0.1039 - val_loss: 0.1030\n",
      "Epoch 89/100\n",
      "60000/60000 [==============================] - 2s 34us/step - loss: 0.1038 - val_loss: 0.1021\n",
      "Epoch 90/100\n",
      "60000/60000 [==============================] - 2s 35us/step - loss: 0.1035 - val_loss: 0.1023\n",
      "Epoch 91/100\n",
      "60000/60000 [==============================] - 2s 32us/step - loss: 0.1034 - val_loss: 0.1028\n",
      "Epoch 92/100\n",
      "60000/60000 [==============================] - 2s 32us/step - loss: 0.1033 - val_loss: 0.1018\n",
      "Epoch 93/100\n",
      "60000/60000 [==============================] - 2s 35us/step - loss: 0.1030 - val_loss: 0.1021\n",
      "Epoch 94/100\n",
      "60000/60000 [==============================] - 2s 36us/step - loss: 0.1027 - val_loss: 0.1018\n",
      "Epoch 95/100\n",
      "60000/60000 [==============================] - 2s 33us/step - loss: 0.1026 - val_loss: 0.1017\n",
      "Epoch 96/100\n",
      "60000/60000 [==============================] - 2s 35us/step - loss: 0.1024 - val_loss: 0.1013\n",
      "Epoch 97/100\n",
      "60000/60000 [==============================] - 2s 33us/step - loss: 0.1022 - val_loss: 0.1015\n",
      "Epoch 98/100\n",
      "60000/60000 [==============================] - 2s 32us/step - loss: 0.1020 - val_loss: 0.1014\n",
      "Epoch 99/100\n",
      "60000/60000 [==============================] - 2s 32us/step - loss: 0.1018 - val_loss: 0.1004\n",
      "Epoch 100/100\n",
      "60000/60000 [==============================] - 2s 33us/step - loss: 0.1016 - val_loss: 0.1000\n"
     ]
    },
    {
     "data": {
      "text/plain": [
       "<keras.callbacks.History at 0x22d3ab20f28>"
      ]
     },
     "execution_count": 35,
     "metadata": {},
     "output_type": "execute_result"
    }
   ],
   "source": [
    "input_img_deep = Input(shape=(784,))\n",
    "encoded_deep = Dense(128, activation='relu')(input_img_deep)\n",
    "encoded_deep = Dense(64, activation='relu')(encoded_deep)\n",
    "encoded_deep = Dense(32, activation='relu')(encoded_deep)\n",
    "\n",
    "decoded_deep = Dense(64, activation='relu')(encoded_deep)\n",
    "decoded_deep = Dense(128, activation='relu')(decoded_deep)\n",
    "decoded_deep = Dense(784, activation='sigmoid')(decoded_deep)\n",
    "\n",
    "autoencoder_deep = Model(input_img_deep, decoded_deep)\n",
    "autoencoder_deep.compile(optimizer='adadelta', loss='binary_crossentropy')\n",
    "\n",
    "autoencoder_deep.fit(x_train, x_train,\n",
    "                epochs=100,\n",
    "                batch_size=256,\n",
    "                shuffle=True,\n",
    "                validation_data=(x_test, x_test))"
   ]
  },
  {
   "cell_type": "code",
   "execution_count": 36,
   "metadata": {},
   "outputs": [
    {
     "data": {
      "image/png": "[encoded data removed]",
      "text/plain": [
       "<matplotlib.figure.Figure at 0x22d3aa0e9b0>"
      ]
     },
     "metadata": {},
     "output_type": "display_data"
    }
   ],
   "source": [
    "decoded_imgs_deep = autoencoder_deep.predict(x_test)\n",
    "draw_images(decoded_imgs_deep)"
   ]
  },
  {
   "cell_type": "markdown",
   "metadata": {},
   "source": [
    "# Convolutional autoencoder\n",
    "Since our inputs are images, it makes sense to use convolutional neural networks (convnets) as encoders and decoders. In practical settings, autoencoders applied to images are always convolutional autoencoders --they simply perform much better.\n",
    "\n",
    "Let's implement one. The encoder will consist in a stack of Conv2D and MaxPooling2D layers (max pooling being used for spatial down-sampling), while the decoder will consist in a stack of Conv2D and UpSampling2D layers."
   ]
  },
  {
   "cell_type": "code",
   "execution_count": 42,
   "metadata": {},
   "outputs": [
    {
     "name": "stdout",
     "output_type": "stream",
     "text": [
      "_________________________________________________________________\n",
      "Layer (type)                 Output Shape              Param #   \n",
      "=================================================================\n",
      "input_10 (InputLayer)        (None, 28, 28, 1)         0         \n",
      "_________________________________________________________________\n",
      "conv2d_8 (Conv2D)            (None, 28, 28, 16)        160       \n",
      "_________________________________________________________________\n",
      "max_pooling2d_4 (MaxPooling2 (None, 14, 14, 16)        0         \n",
      "_________________________________________________________________\n",
      "conv2d_9 (Conv2D)            (None, 14, 14, 8)         1160      \n",
      "_________________________________________________________________\n",
      "max_pooling2d_5 (MaxPooling2 (None, 7, 7, 8)           0         \n",
      "_________________________________________________________________\n",
      "conv2d_10 (Conv2D)           (None, 7, 7, 8)           584       \n",
      "_________________________________________________________________\n",
      "max_pooling2d_6 (MaxPooling2 (None, 4, 4, 8)           0         \n",
      "_________________________________________________________________\n",
      "conv2d_11 (Conv2D)           (None, 4, 4, 8)           584       \n",
      "_________________________________________________________________\n",
      "up_sampling2d_4 (UpSampling2 (None, 8, 8, 8)           0         \n",
      "_________________________________________________________________\n",
      "conv2d_12 (Conv2D)           (None, 8, 8, 8)           584       \n",
      "_________________________________________________________________\n",
      "up_sampling2d_5 (UpSampling2 (None, 16, 16, 8)         0         \n",
      "_________________________________________________________________\n",
      "conv2d_13 (Conv2D)           (None, 14, 14, 16)        1168      \n",
      "_________________________________________________________________\n",
      "up_sampling2d_6 (UpSampling2 (None, 28, 28, 16)        0         \n",
      "_________________________________________________________________\n",
      "conv2d_14 (Conv2D)           (None, 28, 28, 1)         145       \n",
      "=================================================================\n",
      "Total params: 4,385\n",
      "Trainable params: 4,385\n",
      "Non-trainable params: 0\n",
      "_________________________________________________________________\n"
     ]
    }
   ],
   "source": [
    "from keras.layers import Input, Dense, Conv2D, MaxPooling2D, UpSampling2D\n",
    "from keras.models import Model\n",
    "from keras import backend as K\n",
    "\n",
    "input_img_cov  = Input(shape=(28, 28, 1))  \n",
    "\n",
    "x = Conv2D(16, (3, 3), activation='relu', padding='same')(input_img_cov)\n",
    "x = MaxPooling2D((2, 2), padding='same')(x)\n",
    "x = Conv2D(8, (3, 3), activation='relu', padding='same')(x)\n",
    "x = MaxPooling2D((2, 2), padding='same')(x)\n",
    "x = Conv2D(8, (3, 3), activation='relu', padding='same')(x)\n",
    "encoded_cov = MaxPooling2D((2, 2), padding='same')(x)\n",
    "\n",
    "# at this point the representation is (4, 4, 8) i.e. 128-dimensional\n",
    "\n",
    "x = Conv2D(8, (3, 3), activation='relu', padding='same')(encoded_cov)\n",
    "x = UpSampling2D((2, 2))(x)\n",
    "x = Conv2D(8, (3, 3), activation='relu', padding='same')(x)\n",
    "x = UpSampling2D((2, 2))(x)\n",
    "x = Conv2D(16, (3, 3), activation='relu')(x)\n",
    "x = UpSampling2D((2, 2))(x)\n",
    "decoded_cov = Conv2D(1, (3, 3), activation='sigmoid', padding='same')(x)\n",
    "\n",
    "autoencoder_cov = Model(input_img_cov, decoded_cov)\n",
    "autoencoder_cov.compile(optimizer='adadelta', loss='binary_crossentropy')\n",
    "autoencoder_cov.summary()"
   ]
  },
  {
   "cell_type": "markdown",
   "metadata": {},
   "source": [
    "To train it, we will use the original MNIST digits with shape (samples, 3, 28, 28), and we will just normalize pixel values between 0 and 1."
   ]
  },
  {
   "cell_type": "code",
   "execution_count": 43,
   "metadata": {},
   "outputs": [
    {
     "name": "stdout",
     "output_type": "stream",
     "text": [
      "(60000, 28, 28, 1)\n",
      "(10000, 28, 28, 1)\n"
     ]
    }
   ],
   "source": [
    "from keras.datasets import mnist\n",
    "import numpy as np\n",
    "\n",
    "(x_train, _), (x_test, _) = mnist.load_data()\n",
    "\n",
    "x_train = x_train.astype('float32') / 255.\n",
    "x_test = x_test.astype('float32') / 255.\n",
    "\n",
    "x_train = np.reshape(x_train, (len(x_train), 28, 28, 1))  # adapt this if using `channels_first` image data format\n",
    "x_test = np.reshape(x_test, (len(x_test), 28, 28, 1))  # adapt this if using `channels_first` image data format\n",
    "\n",
    "print(x_train.shape)\n",
    "print(x_test.shape)"
   ]
  },
  {
   "cell_type": "markdown",
   "metadata": {},
   "source": [
    "Let's train this model for 50 epochs. For the sake of demonstrating how to visualize the results of a model during training, we will be using the TensorFlow backend and the TensorBoard callback.\n",
    "\n",
    "First, let's open up a terminal and start a TensorBoard server that will read logs stored at /tmp/autoencoder."
   ]
  },
  {
   "cell_type": "code",
   "execution_count": 44,
   "metadata": {},
   "outputs": [
    {
     "name": "stdout",
     "output_type": "stream",
     "text": [
      "Train on 60000 samples, validate on 10000 samples\n",
      "Epoch 1/50\n",
      "60000/60000 [==============================] - 12s 199us/step - loss: 0.2245 - val_loss: 0.1828\n",
      "Epoch 2/50\n",
      "60000/60000 [==============================] - 10s 174us/step - loss: 0.1625 - val_loss: 0.1524\n",
      "Epoch 3/50\n",
      "60000/60000 [==============================] - 9s 157us/step - loss: 0.1481 - val_loss: 0.1418\n",
      "Epoch 4/50\n",
      "60000/60000 [==============================] - 9s 158us/step - loss: 0.1391 - val_loss: 0.1361\n",
      "Epoch 5/50\n",
      "60000/60000 [==============================] - 10s 160us/step - loss: 0.1332 - val_loss: 0.1350\n",
      "Epoch 6/50\n",
      "60000/60000 [==============================] - 9s 158us/step - loss: 0.1290 - val_loss: 0.1265\n",
      "Epoch 7/50\n",
      "60000/60000 [==============================] - 10s 163us/step - loss: 0.1262 - val_loss: 0.1255\n",
      "Epoch 8/50\n",
      "60000/60000 [==============================] - 9s 152us/step - loss: 0.1237 - val_loss: 0.1194\n",
      "Epoch 9/50\n",
      "60000/60000 [==============================] - 10s 168us/step - loss: 0.1212 - val_loss: 0.1196\n",
      "Epoch 10/50\n",
      "60000/60000 [==============================] - 10s 169us/step - loss: 0.1198 - val_loss: 0.1156\n",
      "Epoch 11/50\n",
      "60000/60000 [==============================] - 12s 194us/step - loss: 0.1180 - val_loss: 0.1165\n",
      "Epoch 12/50\n",
      "60000/60000 [==============================] - 11s 191us/step - loss: 0.1169 - val_loss: 0.1160\n",
      "Epoch 13/50\n",
      "60000/60000 [==============================] - 11s 185us/step - loss: 0.1152 - val_loss: 0.1120\n",
      "Epoch 14/50\n",
      "60000/60000 [==============================] - 10s 174us/step - loss: 0.1137 - val_loss: 0.1125\n",
      "Epoch 15/50\n",
      "60000/60000 [==============================] - 10s 166us/step - loss: 0.1128 - val_loss: 0.1104\n",
      "Epoch 16/50\n",
      "60000/60000 [==============================] - 10s 164us/step - loss: 0.1122 - val_loss: 0.1086\n",
      "Epoch 17/50\n",
      "60000/60000 [==============================] - 10s 166us/step - loss: 0.1113 - val_loss: 0.1114\n",
      "Epoch 18/50\n",
      "60000/60000 [==============================] - 10s 166us/step - loss: 0.1107 - val_loss: 0.1092\n",
      "Epoch 19/50\n",
      "60000/60000 [==============================] - 10s 165us/step - loss: 0.1099 - val_loss: 0.1101\n",
      "Epoch 20/50\n",
      "60000/60000 [==============================] - 10s 167us/step - loss: 0.1093 - val_loss: 0.1074\n",
      "Epoch 21/50\n",
      "60000/60000 [==============================] - 10s 166us/step - loss: 0.1089 - val_loss: 0.1086\n",
      "Epoch 22/50\n",
      "60000/60000 [==============================] - 10s 166us/step - loss: 0.1080 - val_loss: 0.1067\n",
      "Epoch 23/50\n",
      "60000/60000 [==============================] - 10s 165us/step - loss: 0.1077 - val_loss: 0.1069\n",
      "Epoch 24/50\n",
      "60000/60000 [==============================] - 10s 164us/step - loss: 0.1071 - val_loss: 0.1050\n",
      "Epoch 25/50\n",
      "60000/60000 [==============================] - 10s 165us/step - loss: 0.1068 - val_loss: 0.1046\n",
      "Epoch 26/50\n",
      "60000/60000 [==============================] - 11s 183us/step - loss: 0.1065 - val_loss: 0.1057\n",
      "Epoch 27/50\n",
      "60000/60000 [==============================] - 10s 172us/step - loss: 0.1062 - val_loss: 0.1055\n",
      "Epoch 28/50\n",
      "60000/60000 [==============================] - 10s 169us/step - loss: 0.1056 - val_loss: 0.1049\n",
      "Epoch 29/50\n",
      "60000/60000 [==============================] - 10s 164us/step - loss: 0.1051 - val_loss: 0.1068\n",
      "Epoch 30/50\n",
      "60000/60000 [==============================] - 10s 165us/step - loss: 0.1050 - val_loss: 0.1031\n",
      "Epoch 31/50\n",
      "60000/60000 [==============================] - 10s 168us/step - loss: 0.1047 - val_loss: 0.1024\n",
      "Epoch 32/50\n",
      "60000/60000 [==============================] - 10s 165us/step - loss: 0.1041 - val_loss: 0.1021\n",
      "Epoch 33/50\n",
      "60000/60000 [==============================] - 10s 172us/step - loss: 0.1042 - val_loss: 0.1020\n",
      "Epoch 34/50\n",
      "60000/60000 [==============================] - 10s 173us/step - loss: 0.1037 - val_loss: 0.1015\n",
      "Epoch 35/50\n",
      "60000/60000 [==============================] - 10s 170us/step - loss: 0.1029 - val_loss: 0.1044\n",
      "Epoch 36/50\n",
      "60000/60000 [==============================] - 10s 164us/step - loss: 0.1029 - val_loss: 0.0997\n",
      "Epoch 37/50\n",
      "60000/60000 [==============================] - 9s 155us/step - loss: 0.1026 - val_loss: 0.0998\n",
      "Epoch 38/50\n",
      "60000/60000 [==============================] - 9s 150us/step - loss: 0.1022 - val_loss: 0.1010\n",
      "Epoch 39/50\n",
      "60000/60000 [==============================] - 9s 153us/step - loss: 0.1023 - val_loss: 0.1004\n",
      "Epoch 40/50\n",
      "60000/60000 [==============================] - 9s 150us/step - loss: 0.1019 - val_loss: 0.1003\n",
      "Epoch 41/50\n",
      "60000/60000 [==============================] - 9s 150us/step - loss: 0.1017 - val_loss: 0.1009\n",
      "Epoch 42/50\n",
      "60000/60000 [==============================] - 9s 152us/step - loss: 0.1015 - val_loss: 0.1022\n",
      "Epoch 43/50\n",
      "60000/60000 [==============================] - 9s 152us/step - loss: 0.1013 - val_loss: 0.1023\n",
      "Epoch 44/50\n",
      "60000/60000 [==============================] - 9s 150us/step - loss: 0.1012 - val_loss: 0.0991\n",
      "Epoch 45/50\n",
      "60000/60000 [==============================] - 9s 153us/step - loss: 0.1010 - val_loss: 0.1012\n",
      "Epoch 46/50\n",
      "60000/60000 [==============================] - 9s 152us/step - loss: 0.1010 - val_loss: 0.0986\n",
      "Epoch 47/50\n",
      "60000/60000 [==============================] - 9s 150us/step - loss: 0.1009 - val_loss: 0.1024\n",
      "Epoch 48/50\n",
      "60000/60000 [==============================] - 9s 154us/step - loss: 0.1005 - val_loss: 0.0990\n",
      "Epoch 49/50\n",
      "60000/60000 [==============================] - 9s 151us/step - loss: 0.1003 - val_loss: 0.0984\n",
      "Epoch 50/50\n",
      "60000/60000 [==============================] - 9s 153us/step - loss: 0.1001 - val_loss: 0.1011\n"
     ]
    }
   ],
   "source": [
    "# from keras.callbacks import TensorBoard\n",
    "\n",
    "history = autoencoder_cov.fit(x_train, x_train,\n",
    "                epochs=50,\n",
    "                batch_size=128,\n",
    "                shuffle=True,\n",
    "                validation_data=(x_test, x_test),)\n",
    "                #callbacks=[TensorBoard(log_dir='/tmp/autoencoder')])"
   ]
  },
  {
   "cell_type": "code",
   "execution_count": 45,
   "metadata": {
    "collapsed": true
   },
   "outputs": [],
   "source": [
    "def show_train_history(train_history, train, validation):  \n",
    "    plt.plot(train_history.history[train])  \n",
    "    plt.plot(train_history.history[validation])  \n",
    "    plt.title('Train History')  \n",
    "    plt.ylabel(train)  \n",
    "    plt.xlabel('Epoch')  \n",
    "    plt.legend(['train', 'validation'], loc='upper left')  \n",
    "    plt.show()"
   ]
  },
  {
   "cell_type": "code",
   "execution_count": 47,
   "metadata": {},
   "outputs": [
    {
     "data": {
      "image/png": "[encoded data removed]",
      "text/plain": [
       "<matplotlib.figure.Figure at 0x22e165a3550>"
      ]
     },
     "metadata": {},
     "output_type": "display_data"
    }
   ],
   "source": [
    "show_train_history(history, 'loss', 'val_loss')"
   ]
  },
  {
   "cell_type": "markdown",
   "metadata": {},
   "source": [
    "The model converges to a loss of 0.098, significantly better than our previous models (this is in large part due to the higher entropic capacity of the encoded representation, 128 dimensions vs. 32 previously). Let's take a look at the reconstructed digits:"
   ]
  },
  {
   "cell_type": "code",
   "execution_count": 48,
   "metadata": {},
   "outputs": [
    {
     "data": {
      "image/png": "[encoded data removed]",
      "text/plain": [
       "<matplotlib.figure.Figure at 0x22e26726be0>"
      ]
     },
     "metadata": {},
     "output_type": "display_data"
    }
   ],
   "source": [
    "decoded_imgs_conv = autoencoder_cov.predict(x_test)\n",
    "draw_images(decoded_imgs_conv)"
   ]
  },
  {
   "cell_type": "markdown",
   "metadata": {},
   "source": [
    "# Application to image denoising\n",
    "Let's put our convolutional autoencoder to work on an image denoising problem. It's simple: we will train the autoencoder to map noisy digits images to clean digits images.\n",
    "\n",
    "Here's how we will generate synthetic noisy digits: we just apply a gaussian noise matrix and clip the images between 0 and 1."
   ]
  },
  {
   "cell_type": "code",
   "execution_count": 49,
   "metadata": {
    "collapsed": true
   },
   "outputs": [],
   "source": [
    "from keras.datasets import mnist\n",
    "import numpy as np\n",
    "\n",
    "(x_train, _), (x_test, _) = mnist.load_data()\n",
    "\n",
    "x_train = x_train.astype('float32') / 255.\n",
    "x_test = x_test.astype('float32') / 255.\n",
    "x_train = np.reshape(x_train, (len(x_train), 28, 28, 1))\n",
    "x_test = np.reshape(x_test, (len(x_test), 28, 28, 1)) \n",
    "\n",
    "noise_factor = 0.5\n",
    "x_train_noisy = x_train + noise_factor * np.random.normal(loc=0.0, scale=1.0, size=x_train.shape) \n",
    "x_test_noisy = x_test + noise_factor * np.random.normal(loc=0.0, scale=1.0, size=x_test.shape) \n",
    "\n",
    "x_train_noisy = np.clip(x_train_noisy, 0., 1.)\n",
    "x_test_noisy = np.clip(x_test_noisy, 0., 1.)"
   ]
  },
  {
   "cell_type": "code",
   "execution_count": 52,
   "metadata": {},
   "outputs": [
    {
     "data": {
      "image/png": "[encoded data removed]",
      "text/plain": [
       "<matplotlib.figure.Figure at 0x22e3678b828>"
      ]
     },
     "metadata": {},
     "output_type": "display_data"
    }
   ],
   "source": [
    "draw_images(x_test_noisy)"
   ]
  },
  {
   "cell_type": "markdown",
   "metadata": {},
   "source": [
    "If you squint you can still recognize them, but barely. Can our autoencoder learn to recover the original digits? Let's find out.\n",
    "\n",
    "Compared to the previous convolutional autoencoder, in order to improve the quality of the reconstructed, we'll use a slightly different model with more filters per layer:"
   ]
  },
  {
   "cell_type": "code",
   "execution_count": 53,
   "metadata": {},
   "outputs": [
    {
     "name": "stdout",
     "output_type": "stream",
     "text": [
      "_________________________________________________________________\n",
      "Layer (type)                 Output Shape              Param #   \n",
      "=================================================================\n",
      "input_11 (InputLayer)        (None, 28, 28, 1)         0         \n",
      "_________________________________________________________________\n",
      "conv2d_15 (Conv2D)           (None, 28, 28, 32)        320       \n",
      "_________________________________________________________________\n",
      "max_pooling2d_7 (MaxPooling2 (None, 14, 14, 32)        0         \n",
      "_________________________________________________________________\n",
      "conv2d_16 (Conv2D)           (None, 14, 14, 32)        9248      \n",
      "_________________________________________________________________\n",
      "max_pooling2d_8 (MaxPooling2 (None, 7, 7, 32)          0         \n",
      "_________________________________________________________________\n",
      "conv2d_17 (Conv2D)           (None, 7, 7, 32)          9248      \n",
      "_________________________________________________________________\n",
      "up_sampling2d_7 (UpSampling2 (None, 14, 14, 32)        0         \n",
      "_________________________________________________________________\n",
      "conv2d_18 (Conv2D)           (None, 14, 14, 32)        9248      \n",
      "_________________________________________________________________\n",
      "up_sampling2d_8 (UpSampling2 (None, 28, 28, 32)        0         \n",
      "_________________________________________________________________\n",
      "conv2d_19 (Conv2D)           (None, 28, 28, 1)         289       \n",
      "=================================================================\n",
      "Total params: 28,353\n",
      "Trainable params: 28,353\n",
      "Non-trainable params: 0\n",
      "_________________________________________________________________\n"
     ]
    }
   ],
   "source": [
    "input_img_conv2 = Input(shape=(28, 28, 1))  # adapt this if using `channels_first` image data format\n",
    "\n",
    "x = Conv2D(32, (3, 3), activation='relu', padding='same')(input_img_conv2)\n",
    "x = MaxPooling2D((2, 2), padding='same')(x)\n",
    "x = Conv2D(32, (3, 3), activation='relu', padding='same')(x)\n",
    "encoded_conv2 = MaxPooling2D((2, 2), padding='same')(x)\n",
    "\n",
    "# at this point the representation is (7, 7, 32)\n",
    "\n",
    "x = Conv2D(32, (3, 3), activation='relu', padding='same')(encoded_conv2)\n",
    "x = UpSampling2D((2, 2))(x)\n",
    "x = Conv2D(32, (3, 3), activation='relu', padding='same')(x)\n",
    "x = UpSampling2D((2, 2))(x)\n",
    "decoded_conv2 = Conv2D(1, (3, 3), activation='sigmoid', padding='same')(x)\n",
    "\n",
    "autoencoder_conv2 = Model(input_img_conv2, decoded_conv2)\n",
    "autoencoder_conv2.compile(optimizer='adadelta', loss='binary_crossentropy')\n",
    "autoencoder_conv2.summary()"
   ]
  },
  {
   "cell_type": "code",
   "execution_count": 54,
   "metadata": {},
   "outputs": [
    {
     "name": "stdout",
     "output_type": "stream",
     "text": [
      "Train on 60000 samples, validate on 10000 samples\n",
      "Epoch 1/100\n",
      "60000/60000 [==============================] - 15s 254us/step - loss: 0.1963 - val_loss: 0.1338\n",
      "Epoch 2/100\n",
      "60000/60000 [==============================] - 14s 226us/step - loss: 0.1253 - val_loss: 0.1192\n",
      "Epoch 3/100\n",
      "60000/60000 [==============================] - 14s 225us/step - loss: 0.1156 - val_loss: 0.1103\n",
      "Epoch 4/100\n",
      "60000/60000 [==============================] - 14s 232us/step - loss: 0.1110 - val_loss: 0.1067\n",
      "Epoch 5/100\n",
      "60000/60000 [==============================] - 14s 226us/step - loss: 0.1083 - val_loss: 0.1050\n",
      "Epoch 6/100\n",
      "60000/60000 [==============================] - 14s 229us/step - loss: 0.1062 - val_loss: 0.1034\n",
      "Epoch 7/100\n",
      "60000/60000 [==============================] - 13s 224us/step - loss: 0.1047 - val_loss: 0.1029\n",
      "Epoch 8/100\n",
      "60000/60000 [==============================] - 14s 230us/step - loss: 0.1037 - val_loss: 0.1034\n",
      "Epoch 9/100\n",
      "60000/60000 [==============================] - 15s 244us/step - loss: 0.1031 - val_loss: 0.1010\n",
      "Epoch 10/100\n",
      "60000/60000 [==============================] - 14s 238us/step - loss: 0.1024 - val_loss: 0.1004\n",
      "Epoch 11/100\n",
      "60000/60000 [==============================] - 13s 220us/step - loss: 0.1019 - val_loss: 0.1000\n",
      "Epoch 12/100\n",
      "60000/60000 [==============================] - 14s 228us/step - loss: 0.1013 - val_loss: 0.1011\n",
      "Epoch 13/100\n",
      "60000/60000 [==============================] - 13s 224us/step - loss: 0.1008 - val_loss: 0.1000\n",
      "Epoch 14/100\n",
      "60000/60000 [==============================] - 13s 225us/step - loss: 0.1004 - val_loss: 0.1000\n",
      "Epoch 15/100\n",
      "60000/60000 [==============================] - 13s 218us/step - loss: 0.1000 - val_loss: 0.0987\n",
      "Epoch 16/100\n",
      "60000/60000 [==============================] - 13s 221us/step - loss: 0.0997 - val_loss: 0.0984\n",
      "Epoch 17/100\n",
      "60000/60000 [==============================] - 13s 220us/step - loss: 0.0996 - val_loss: 0.0981\n",
      "Epoch 18/100\n",
      "60000/60000 [==============================] - 13s 223us/step - loss: 0.0991 - val_loss: 0.0978\n",
      "Epoch 19/100\n",
      "60000/60000 [==============================] - 13s 219us/step - loss: 0.0989 - val_loss: 0.0980\n",
      "Epoch 20/100\n",
      "60000/60000 [==============================] - 13s 221us/step - loss: 0.0987 - val_loss: 0.0975\n",
      "Epoch 21/100\n",
      "60000/60000 [==============================] - 13s 222us/step - loss: 0.0986 - val_loss: 0.0974\n",
      "Epoch 22/100\n",
      "60000/60000 [==============================] - 13s 220us/step - loss: 0.0984 - val_loss: 0.0971\n",
      "Epoch 23/100\n",
      "60000/60000 [==============================] - 13s 219us/step - loss: 0.0981 - val_loss: 0.0973\n",
      "Epoch 24/100\n",
      "60000/60000 [==============================] - 13s 220us/step - loss: 0.0980 - val_loss: 0.0981\n",
      "Epoch 25/100\n",
      "60000/60000 [==============================] - 13s 223us/step - loss: 0.0978 - val_loss: 0.0976\n",
      "Epoch 26/100\n",
      "60000/60000 [==============================] - 13s 223us/step - loss: 0.0977 - val_loss: 0.0968\n",
      "Epoch 27/100\n",
      "60000/60000 [==============================] - 13s 220us/step - loss: 0.0975 - val_loss: 0.0965\n",
      "Epoch 28/100\n",
      "60000/60000 [==============================] - 13s 222us/step - loss: 0.0974 - val_loss: 0.0965\n",
      "Epoch 29/100\n",
      "60000/60000 [==============================] - 15s 243us/step - loss: 0.0973 - val_loss: 0.0962\n",
      "Epoch 30/100\n",
      "60000/60000 [==============================] - 14s 231us/step - loss: 0.0972 - val_loss: 0.0962\n",
      "Epoch 31/100\n",
      "60000/60000 [==============================] - 13s 224us/step - loss: 0.0970 - val_loss: 0.0962\n",
      "Epoch 32/100\n",
      "60000/60000 [==============================] - 13s 221us/step - loss: 0.0970 - val_loss: 0.0968\n",
      "Epoch 33/100\n",
      "60000/60000 [==============================] - 13s 222us/step - loss: 0.0969 - val_loss: 0.0968\n",
      "Epoch 34/100\n",
      "60000/60000 [==============================] - 13s 222us/step - loss: 0.0967 - val_loss: 0.0957\n",
      "Epoch 35/100\n",
      "60000/60000 [==============================] - 13s 222us/step - loss: 0.0967 - val_loss: 0.0962\n",
      "Epoch 36/100\n",
      "60000/60000 [==============================] - 13s 217us/step - loss: 0.0966 - val_loss: 0.0959\n",
      "Epoch 37/100\n",
      "60000/60000 [==============================] - 13s 215us/step - loss: 0.0965 - val_loss: 0.0968\n",
      "Epoch 38/100\n",
      "60000/60000 [==============================] - 13s 215us/step - loss: 0.0964 - val_loss: 0.0958\n",
      "Epoch 39/100\n",
      "60000/60000 [==============================] - 13s 221us/step - loss: 0.0963 - val_loss: 0.0955\n",
      "Epoch 40/100\n",
      "60000/60000 [==============================] - 13s 215us/step - loss: 0.0963 - val_loss: 0.0954\n",
      "Epoch 41/100\n",
      "60000/60000 [==============================] - 13s 214us/step - loss: 0.0962 - val_loss: 0.0954\n",
      "Epoch 42/100\n",
      "60000/60000 [==============================] - 13s 214us/step - loss: 0.0962 - val_loss: 0.0956\n",
      "Epoch 43/100\n",
      "60000/60000 [==============================] - 13s 213us/step - loss: 0.0961 - val_loss: 0.0956\n",
      "Epoch 44/100\n",
      "60000/60000 [==============================] - 13s 218us/step - loss: 0.0960 - val_loss: 0.0953\n",
      "Epoch 45/100\n",
      "60000/60000 [==============================] - 13s 215us/step - loss: 0.0960 - val_loss: 0.0953\n",
      "Epoch 46/100\n",
      "60000/60000 [==============================] - 13s 215us/step - loss: 0.0960 - val_loss: 0.0957\n",
      "Epoch 47/100\n",
      "60000/60000 [==============================] - 13s 219us/step - loss: 0.0959 - val_loss: 0.0955\n",
      "Epoch 48/100\n",
      "60000/60000 [==============================] - 13s 216us/step - loss: 0.0958 - val_loss: 0.0950\n",
      "Epoch 49/100\n",
      "60000/60000 [==============================] - 13s 216us/step - loss: 0.0958 - val_loss: 0.0951\n",
      "Epoch 50/100\n",
      "60000/60000 [==============================] - 13s 216us/step - loss: 0.0957 - val_loss: 0.0950\n",
      "Epoch 51/100\n",
      "60000/60000 [==============================] - 13s 218us/step - loss: 0.0957 - val_loss: 0.0949\n",
      "Epoch 52/100\n",
      "60000/60000 [==============================] - 13s 215us/step - loss: 0.0956 - val_loss: 0.0956\n",
      "Epoch 53/100\n",
      "60000/60000 [==============================] - 13s 217us/step - loss: 0.0956 - val_loss: 0.0948\n",
      "Epoch 54/100\n",
      "60000/60000 [==============================] - 13s 217us/step - loss: 0.0956 - val_loss: 0.0951\n",
      "Epoch 55/100\n",
      "60000/60000 [==============================] - 13s 216us/step - loss: 0.0955 - val_loss: 0.0949\n",
      "Epoch 56/100\n",
      "60000/60000 [==============================] - 13s 217us/step - loss: 0.0954 - val_loss: 0.0948\n",
      "Epoch 57/100\n",
      "60000/60000 [==============================] - 13s 216us/step - loss: 0.0954 - val_loss: 0.0947\n",
      "Epoch 58/100\n",
      "60000/60000 [==============================] - 13s 219us/step - loss: 0.0953 - val_loss: 0.0947\n",
      "Epoch 59/100\n",
      "60000/60000 [==============================] - 13s 224us/step - loss: 0.0953 - val_loss: 0.0951\n",
      "Epoch 60/100\n",
      "60000/60000 [==============================] - 13s 219us/step - loss: 0.0953 - val_loss: 0.0948\n",
      "Epoch 61/100\n",
      "60000/60000 [==============================] - 13s 215us/step - loss: 0.0952 - val_loss: 0.0957\n",
      "Epoch 62/100\n",
      "60000/60000 [==============================] - 13s 214us/step - loss: 0.0952 - val_loss: 0.0952\n",
      "Epoch 63/100\n",
      "60000/60000 [==============================] - 13s 214us/step - loss: 0.0952 - val_loss: 0.0960\n",
      "Epoch 64/100\n",
      "60000/60000 [==============================] - 13s 218us/step - loss: 0.0952 - val_loss: 0.0959\n",
      "Epoch 65/100\n",
      "60000/60000 [==============================] - 13s 217us/step - loss: 0.0951 - val_loss: 0.0945\n",
      "Epoch 66/100\n",
      "60000/60000 [==============================] - 13s 218us/step - loss: 0.0951 - val_loss: 0.0954\n",
      "Epoch 67/100\n",
      "60000/60000 [==============================] - 13s 217us/step - loss: 0.0951 - val_loss: 0.0946\n",
      "Epoch 68/100\n",
      "60000/60000 [==============================] - 13s 218us/step - loss: 0.0950 - val_loss: 0.0943\n",
      "Epoch 69/100\n",
      "60000/60000 [==============================] - 13s 221us/step - loss: 0.0949 - val_loss: 0.0947\n",
      "Epoch 70/100\n",
      "60000/60000 [==============================] - 13s 219us/step - loss: 0.0949 - val_loss: 0.0944\n",
      "Epoch 71/100\n",
      "60000/60000 [==============================] - 13s 218us/step - loss: 0.0949 - val_loss: 0.0945\n",
      "Epoch 72/100\n",
      "60000/60000 [==============================] - 13s 221us/step - loss: 0.0949 - val_loss: 0.0942\n",
      "Epoch 73/100\n",
      "60000/60000 [==============================] - 13s 219us/step - loss: 0.0949 - val_loss: 0.0948\n",
      "Epoch 74/100\n",
      "60000/60000 [==============================] - 13s 215us/step - loss: 0.0948 - val_loss: 0.0945\n",
      "Epoch 75/100\n",
      "60000/60000 [==============================] - 13s 215us/step - loss: 0.0948 - val_loss: 0.0944\n"
     ]
    },
    {
     "name": "stdout",
     "output_type": "stream",
     "text": [
      "Epoch 76/100\n",
      "60000/60000 [==============================] - 13s 215us/step - loss: 0.0948 - val_loss: 0.0942\n",
      "Epoch 77/100\n",
      "60000/60000 [==============================] - 13s 217us/step - loss: 0.0948 - val_loss: 0.0944\n",
      "Epoch 78/100\n",
      "60000/60000 [==============================] - 13s 218us/step - loss: 0.0947 - val_loss: 0.0944\n",
      "Epoch 79/100\n",
      "60000/60000 [==============================] - 13s 216us/step - loss: 0.0946 - val_loss: 0.0941\n",
      "Epoch 80/100\n",
      "60000/60000 [==============================] - 13s 218us/step - loss: 0.0946 - val_loss: 0.0941\n",
      "Epoch 81/100\n",
      "60000/60000 [==============================] - 13s 219us/step - loss: 0.0946 - val_loss: 0.0947\n",
      "Epoch 82/100\n",
      "60000/60000 [==============================] - 13s 214us/step - loss: 0.0946 - val_loss: 0.0941\n",
      "Epoch 83/100\n",
      "60000/60000 [==============================] - 13s 215us/step - loss: 0.0946 - val_loss: 0.0941\n",
      "Epoch 84/100\n",
      "60000/60000 [==============================] - 13s 214us/step - loss: 0.0946 - val_loss: 0.0945\n",
      "Epoch 85/100\n",
      "60000/60000 [==============================] - 13s 214us/step - loss: 0.0946 - val_loss: 0.0943\n",
      "Epoch 86/100\n",
      "60000/60000 [==============================] - 13s 214us/step - loss: 0.0946 - val_loss: 0.0940\n",
      "Epoch 87/100\n",
      "60000/60000 [==============================] - 13s 215us/step - loss: 0.0945 - val_loss: 0.0945\n",
      "Epoch 88/100\n",
      "60000/60000 [==============================] - 13s 214us/step - loss: 0.0945 - val_loss: 0.0941\n",
      "Epoch 89/100\n",
      "60000/60000 [==============================] - 13s 217us/step - loss: 0.0945 - val_loss: 0.0940\n",
      "Epoch 90/100\n",
      "60000/60000 [==============================] - 13s 219us/step - loss: 0.0944 - val_loss: 0.0947\n",
      "Epoch 91/100\n",
      "60000/60000 [==============================] - 13s 222us/step - loss: 0.0944 - val_loss: 0.0940\n",
      "Epoch 92/100\n",
      "60000/60000 [==============================] - 13s 222us/step - loss: 0.0944 - val_loss: 0.0939\n",
      "Epoch 93/100\n",
      "60000/60000 [==============================] - 13s 223us/step - loss: 0.0944 - val_loss: 0.0946\n",
      "Epoch 94/100\n",
      "60000/60000 [==============================] - 13s 222us/step - loss: 0.0943 - val_loss: 0.0939\n",
      "Epoch 95/100\n",
      "60000/60000 [==============================] - 13s 218us/step - loss: 0.0944 - val_loss: 0.0944\n",
      "Epoch 96/100\n",
      "60000/60000 [==============================] - 13s 216us/step - loss: 0.0943 - val_loss: 0.0942\n",
      "Epoch 97/100\n",
      "60000/60000 [==============================] - 13s 216us/step - loss: 0.0943 - val_loss: 0.0940\n",
      "Epoch 98/100\n",
      "60000/60000 [==============================] - 13s 216us/step - loss: 0.0943 - val_loss: 0.0940\n",
      "Epoch 99/100\n",
      "60000/60000 [==============================] - 13s 216us/step - loss: 0.0942 - val_loss: 0.0945\n",
      "Epoch 100/100\n",
      "60000/60000 [==============================] - 13s 216us/step - loss: 0.0942 - val_loss: 0.0946\n"
     ]
    }
   ],
   "source": [
    "history = autoencoder_conv2.fit(x_train_noisy, x_train,\n",
    "                     epochs=100,\n",
    "                     batch_size=128,\n",
    "                     shuffle=True,\n",
    "                     validation_data=(x_test_noisy, x_test))"
   ]
  },
  {
   "cell_type": "code",
   "execution_count": 56,
   "metadata": {},
   "outputs": [
    {
     "data": {
      "image/png": "[encoded data removed]",
      "text/plain": [
       "<matplotlib.figure.Figure at 0x22e2a164780>"
      ]
     },
     "metadata": {},
     "output_type": "display_data"
    }
   ],
   "source": [
    "show_train_history(history, 'loss', 'val_loss')"
   ]
  },
  {
   "cell_type": "code",
   "execution_count": 55,
   "metadata": {},
   "outputs": [
    {
     "data": {
      "image/png": "[encoded data removed]",
      "text/plain": [
       "<matplotlib.figure.Figure at 0x22e10f58748>"
      ]
     },
     "metadata": {},
     "output_type": "display_data"
    }
   ],
   "source": [
    "decoded_imgs_conv2 = autoencoder_conv2.predict(x_test_noisy)\n",
    "draw_images(decoded_imgs_conv2)"
   ]
  },
  {
   "cell_type": "markdown",
   "metadata": {},
   "source": [
    "It seems to work pretty well. If you scale this process to a bigger convnet, you can start building document denoising or audio denoising models. [Kaggle has an interesting dataset to get you started.](https://www.kaggle.com/c/denoising-dirty-documents)\n",
    "\n",
    "<br><br><br><br>\n",
    "Reference:\n",
    "[Building Autoencoders in Keras](https://blog.keras.io/building-autoencoders-in-keras.html)"
   ]
  },
  {
   "cell_type": "code",
   "execution_count": null,
   "metadata": {
    "collapsed": true
   },
   "outputs": [],
   "source": []
  },
  {
   "cell_type": "code",
   "execution_count": null,
   "metadata": {
    "collapsed": true
   },
   "outputs": [],
   "source": []
  },
  {
   "cell_type": "code",
   "execution_count": null,
   "metadata": {
    "collapsed": true
   },
   "outputs": [],
   "source": []
  },
  {
   "cell_type": "code",
   "execution_count": null,
   "metadata": {
    "collapsed": true
   },
   "outputs": [],
   "source": []
  },
  {
   "cell_type": "code",
   "execution_count": null,
   "metadata": {
    "collapsed": true
   },
   "outputs": [],
   "source": []
  },
  {
   "cell_type": "code",
   "execution_count": null,
   "metadata": {
    "collapsed": true
   },
   "outputs": [],
   "source": []
  },
  {
   "cell_type": "code",
   "execution_count": null,
   "metadata": {
    "collapsed": true
   },
   "outputs": [],
   "source": []
  },
  {
   "cell_type": "code",
   "execution_count": null,
   "metadata": {
    "collapsed": true
   },
   "outputs": [],
   "source": []
  },
  {
   "cell_type": "code",
   "execution_count": null,
   "metadata": {
    "collapsed": true
   },
   "outputs": [],
   "source": []
  },
  {
   "cell_type": "code",
   "execution_count": null,
   "metadata": {
    "collapsed": true
   },
   "outputs": [],
   "source": []
  },
  {
   "cell_type": "code",
   "execution_count": null,
   "metadata": {
    "collapsed": true
   },
   "outputs": [],
   "source": []
  },
  {
   "cell_type": "code",
   "execution_count": null,
   "metadata": {
    "collapsed": true
   },
   "outputs": [],
   "source": []
  },
  {
   "cell_type": "code",
   "execution_count": null,
   "metadata": {
    "collapsed": true
   },
   "outputs": [],
   "source": []
  }
 ],
 "metadata": {
  "kernelspec": {
   "display_name": "Python 3",
   "language": "python",
   "name": "python3"
  },
  "language_info": {
   "codemirror_mode": {
    "name": "ipython",
    "version": 3
   },
   "file_extension": ".py",
   "mimetype": "text/x-python",
   "name": "python",
   "nbconvert_exporter": "python",
   "pygments_lexer": "ipython3",
   "version": "3.6.2"
  }
 },
 "nbformat": 4,
 "nbformat_minor": 2
}
