{
 "cells": [
  {
   "cell_type": "markdown",
   "metadata": {},
   "source": [
    "# How to solve 90% of NLP problems: a step-by-step guide\n",
    "\n",
    "While there exist a wealth of elaborate and abstract NLP techniques, clustering and classification should always be in our toolkit as the first techniques to use when dealing with this kind of data. In addition to being amongst some of the easiest to scale in production, their ease of use can quickly help business address a set of applied problems:\n",
    "\n",
    "* How do you automatically make the distinction between different categories of sentences?\n",
    "* How can you find sentences in a dataset that are most similar to a given one?\n",
    "* How can you extract a rich and concise representation that can then be used for a range of other tasks?\n",
    "* Most importantly, how do you find quickly whether these tasks are possible on your dataset at all?\n",
    "\n",
    "## Our Dataset: Disasters on social media\n",
    "Contributors looked at over 10,000 tweets retrieved with a variety of searches like “ablaze”, “quarantine”, and “pandemonium”, then noted whether the tweet referred to a disaster event (as opposed to a joke with the word or a movie review or something non-disastrous). \n",
    "[Download](https://www.crowdflower.com/data-for-everyone/)\n",
    "search: Disasters on social media\n",
    "\n",
    "## Why it matters\n",
    "We will try to correctly predict tweets that are about disasters. This is a very relevant problem, because:\n",
    "\n",
    "* It is actionable to anybody trying to get signal from noise (such as police departments in this case)\n",
    "* It is tricky because relying on keywords is harder than in most cases like spam"
   ]
  },
  {
   "cell_type": "code",
   "execution_count": null,
   "metadata": {
    "collapsed": true
   },
   "outputs": [],
   "source": []
  }
 ],
 "metadata": {
  "kernelspec": {
   "display_name": "Python 3",
   "language": "python",
   "name": "python3"
  },
  "language_info": {
   "codemirror_mode": {
    "name": "ipython",
    "version": 3
   },
   "file_extension": ".py",
   "mimetype": "text/x-python",
   "name": "python",
   "nbconvert_exporter": "python",
   "pygments_lexer": "ipython3",
   "version": "3.6.2"
  }
 },
 "nbformat": 4,
 "nbformat_minor": 2
}
