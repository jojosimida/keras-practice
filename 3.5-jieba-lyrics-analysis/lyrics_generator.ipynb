{
 "cells": [
  {
   "cell_type": "code",
   "execution_count": 1,
   "metadata": {},
   "outputs": [
    {
     "name": "stderr",
     "output_type": "stream",
     "text": [
      "Using TensorFlow backend.\n"
     ]
    }
   ],
   "source": [
    "import numpy as np\n",
    "import matplotlib.pyplot as plt\n",
    "import jieba\n",
    "import string\n",
    "\n",
    "from keras.preprocessing.text import Tokenizer\n",
    "from keras.preprocessing.sequence import pad_sequences\n",
    "from keras.utils import plot_model, to_categorical\n",
    "from keras.models import Model\n",
    "from keras.layers import Input, Dense, LSTM\n",
    "from keras.layers import Embedding\n",
    "\n",
    "from IPython.display import Image"
   ]
  },
  {
   "cell_type": "code",
   "execution_count": 2,
   "metadata": {
    "collapsed": true
   },
   "outputs": [],
   "source": [
    "class Param():\n",
    "    batch_size = 32\n",
    "    n_epoch = 50\n",
    "    seq_length = 20\n",
    "    metadata = 'metadata.tsv'\n",
    "    n_step = 3\n",
    "    n_batches_per_epoch = 500\n",
    "    lyrics_long = 360\n",
    "\n",
    "    \n",
    "    remove_word = ['!', '(', ')', '*', '+', ',', '-', '.',\n",
    "                   '...', '......', '............', '/','<',\n",
    "                   '>', '?','[', '\\\\', ']', '`','~', '·',\n",
    "                   '…', '☆', '\\u3000', '。', '〇', '《', '》',\n",
    "                   '〖', '〗', 'ー', 'ㄇ', 'ㄈ', 'ㄌ', 'ㄒ', 'ㄙ','！',\n",
    "                   'ㄚ', 'ㄟ', 'ㄡ','（','）','，','＜','＞','？','～']   "
   ]
  },
  {
   "cell_type": "code",
   "execution_count": 3,
   "metadata": {
    "collapsed": true
   },
   "outputs": [],
   "source": [
    "class DataGenerator():\n",
    "    def __init__(self, datafiles, args):\n",
    "        self.seq_length = args.seq_length\n",
    "        self.batch_size = args.batch_size\n",
    "        self.n_step = args.n_step\n",
    "        \n",
    "        self.remove_word = args.remove_word\n",
    "        self.remove_word = ''.join(self.remove_word)        \n",
    "        \n",
    "        with open(datafiles, encoding='utf-8') as f:\n",
    "            self.data = f.read()\n",
    "        \n",
    "        table = str.maketrans('','',self.remove_word)\n",
    "        self.data = [w.translate(table) for w in self.data]\n",
    "                \n",
    "        # total data length\n",
    "        self.total_len = len(self.data)  \n",
    "        self.words = list(set(self.data))\n",
    "        self.words.sort()\n",
    "        print('Total length: {}'.format(self.total_len))\n",
    "        \n",
    "        # vocabulary\n",
    "        self.vocab_size = len(self.words)  # vocabulary size\n",
    "        print('Vocabulary Size:', self.vocab_size)\n",
    "        \n",
    "        # dictionary\n",
    "        self.char2id_dict = {w: i for i, w in enumerate(self.words)}\n",
    "        self.id2char_dict = {i: w for i, w in enumerate(self.words)}\n",
    "        \n",
    "        # pointer position to generate current batch\n",
    "        self._pointer = 0\n",
    "        # save metadata file\n",
    "        self.save_metadata(args.metadata)\n",
    "        \n",
    "        self.max_iter = args.n_epoch * \\\n",
    "            (self.total_len // args.seq_length) // args.batch_size\n",
    "        \n",
    "    def char2id(self, c):\n",
    "        return self.char2id_dict[c]\n",
    "    \n",
    "    def id2char(self, id):\n",
    "        return self.id2char_dict[id]\n",
    "    \n",
    "    def save_metadata(self, file):\n",
    "        with open(file, 'w', encoding=\"utf-8\") as f:\n",
    "            f.write('id\\tchar\\n')\n",
    "            for i in range(self.vocab_size):\n",
    "                c = self.id2char(i)\n",
    "                f.write('{}\\t{}\\n'.format(i, c))\n",
    "                \n",
    "#     def create_tokenizer(self):\n",
    "#         tokenizer = Tokenizer()\n",
    "#         tokenizer.fit_on_texts(self.seg_list)\n",
    "#         return tokenizer\n",
    "    \n",
    "    def next_batch(self):\n",
    "        x_batches = []\n",
    "        y_batches = []\n",
    "        for i in range(self.batch_size):\n",
    "            if self._pointer + self.seq_length + 1 >= self.total_len:\n",
    "                self._pointer = 0\n",
    "\n",
    "            bx = self.data[self._pointer: self._pointer + self.seq_length]\n",
    "#             by = self.seg_list[self._pointer +\n",
    "#                            1: self._pointer + self.seq_length + 1]\n",
    "            by = self.data[self._pointer + self.seq_length]\n",
    "\n",
    "            # update pointer position\n",
    "            self._pointer += 1\n",
    "\n",
    "            # convert to ids\n",
    "            bx = [self.char2id(c) for c in bx]\n",
    "            by = [self.char2id(by)]\n",
    "\n",
    "            by = to_categorical(by, num_classes=self.vocab_size)[0]\n",
    "\n",
    "            x_batches.append(bx)\n",
    "            y_batches.append(by)\n",
    "        \n",
    "        return x_batches, y_batches\n",
    "    \n",
    "    \n",
    "    def data_generator(self):\n",
    "        while 1:\n",
    "        # loop over photo identifiers in the dataset\n",
    "\n",
    "            for i in range(0, self.max_iter, self.n_step):\n",
    "                XSeq, y = list(), list()\n",
    "                for j in range(i, min(self.max_iter, i+self.n_step)):\n",
    "\n",
    "                    # generate input-output pairs\n",
    "                    in_seq, out_word = self.next_batch()\n",
    "\n",
    "                    for k in range(len(in_seq)):\n",
    "                        XSeq.append(in_seq[k])\n",
    "                        y.append(out_word[k])\n",
    "                # yield this batch of samples to the model\n",
    "                yield [np.array(XSeq), np.array(y)]"
   ]
  },
  {
   "cell_type": "code",
   "execution_count": 4,
   "metadata": {
    "collapsed": true
   },
   "outputs": [],
   "source": [
    "def define_model(args, data):\n",
    "\n",
    "    # embedding\n",
    "    inputs = Input(shape=(args.seq_length,))\n",
    "    emb2 = Embedding(data.vocab_size, 50, mask_zero=True)(inputs)\n",
    "    emb3 = LSTM(256)(emb2)\n",
    "\n",
    "    # language model (decoder)\n",
    "#     lm2 = LSTM(256)(emb3)\n",
    "    lm3 = Dense(500, activation='relu')(emb3)\n",
    "    outputs = Dense(data.vocab_size, activation='softmax')(lm3)\n",
    "\n",
    "    model = Model(inputs=inputs, outputs=outputs)\n",
    "    model.compile(loss='categorical_crossentropy', optimizer='adam', metrics=['accuracy'])\n",
    "    print(model.summary())\n",
    "    plot_model(model, show_shapes=True, to_file='plot.png')\n",
    "\n",
    "    return model"
   ]
  },
  {
   "cell_type": "code",
   "execution_count": 5,
   "metadata": {},
   "outputs": [
    {
     "name": "stdout",
     "output_type": "stream",
     "text": [
      "Total length: 64925\n",
      "Vocabulary Size: 2469\n"
     ]
    }
   ],
   "source": [
    "lyrics = \"jaychou_lyrics_traditional.txt\"\n",
    "\n",
    "args = Param()\n",
    "data = DataGenerator(lyrics, args)"
   ]
  },
  {
   "cell_type": "code",
   "execution_count": 6,
   "metadata": {},
   "outputs": [
    {
     "name": "stdout",
     "output_type": "stream",
     "text": [
      "_________________________________________________________________\n",
      "Layer (type)                 Output Shape              Param #   \n",
      "=================================================================\n",
      "input_1 (InputLayer)         (None, 20)                0         \n",
      "_________________________________________________________________\n",
      "embedding_1 (Embedding)      (None, 20, 50)            123450    \n",
      "_________________________________________________________________\n",
      "lstm_1 (LSTM)                (None, 256)               314368    \n",
      "_________________________________________________________________\n",
      "dense_1 (Dense)              (None, 500)               128500    \n",
      "_________________________________________________________________\n",
      "dense_2 (Dense)              (None, 2469)              1236969   \n",
      "=================================================================\n",
      "Total params: 1,803,287\n",
      "Trainable params: 1,803,287\n",
      "Non-trainable params: 0\n",
      "_________________________________________________________________\n",
      "None\n"
     ]
    },
    {
     "data": {
      "image/png": "[encoded data removed]",
      "text/plain": [
       "<IPython.core.display.Image object>"
      ]
     },
     "execution_count": 6,
     "metadata": {},
     "output_type": "execute_result"
    }
   ],
   "source": [
    "model = define_model(args, data)\n",
    "Image('plot.png')"
   ]
  },
  {
   "cell_type": "code",
   "execution_count": 7,
   "metadata": {},
   "outputs": [
    {
     "name": "stdout",
     "output_type": "stream",
     "text": [
      "Epoch 1/20\n",
      " - 77s - loss: 6.2167 - acc: 0.1322\n",
      "Epoch 2/20\n",
      " - 72s - loss: 5.8695 - acc: 0.1330\n",
      "Epoch 3/20\n",
      " - 73s - loss: 5.6713 - acc: 0.1495\n",
      "Epoch 4/20\n",
      " - 69s - loss: 5.5210 - acc: 0.1472\n",
      "Epoch 5/20\n",
      " - 73s - loss: 5.2449 - acc: 0.1490\n",
      "Epoch 6/20\n",
      " - 72s - loss: 5.0972 - acc: 0.1529\n",
      "Epoch 7/20\n",
      " - 73s - loss: 4.9417 - acc: 0.1656\n",
      "Epoch 8/20\n",
      " - 70s - loss: 4.8810 - acc: 0.1674\n",
      "Epoch 9/20\n",
      " - 66s - loss: 4.6883 - acc: 0.1793\n",
      "Epoch 10/20\n",
      " - 66s - loss: 4.5688 - acc: 0.1872\n",
      "Epoch 11/20\n",
      " - 73s - loss: 4.4508 - acc: 0.2036\n",
      "Epoch 12/20\n",
      " - 72s - loss: 4.3728 - acc: 0.2070\n",
      "Epoch 13/20\n",
      " - 62s - loss: 4.1405 - acc: 0.2278\n",
      "Epoch 14/20\n",
      " - 65s - loss: 4.0368 - acc: 0.2398\n",
      "Epoch 15/20\n",
      " - 67s - loss: 3.9687 - acc: 0.2495\n",
      "Epoch 16/20\n",
      " - 66s - loss: 3.8736 - acc: 0.2601\n",
      "Epoch 17/20\n",
      " - 66s - loss: 3.5967 - acc: 0.2918\n",
      "Epoch 18/20\n",
      " - 69s - loss: 3.5759 - acc: 0.2978\n",
      "Epoch 19/20\n",
      " - 66s - loss: 3.5509 - acc: 0.3020\n",
      "Epoch 20/20\n",
      " - 64s - loss: 3.3622 - acc: 0.3268\n"
     ]
    },
    {
     "data": {
      "text/plain": [
       "<keras.callbacks.History at 0x23cced90b00>"
      ]
     },
     "execution_count": 7,
     "metadata": {},
     "output_type": "execute_result"
    }
   ],
   "source": [
    "model.fit_generator(data.data_generator(), steps_per_epoch=args.n_batches_per_epoch, \n",
    "                    epochs=20, verbose=2)"
   ]
  },
  {
   "cell_type": "code",
   "execution_count": 9,
   "metadata": {
    "collapsed": true
   },
   "outputs": [],
   "source": [
    "# generate a description for an image\n",
    "def generate_desc(model, args, data, in_text):\n",
    "    # seed the generation process\n",
    "\n",
    "    generated = ''\n",
    "    generated += in_text\n",
    "\n",
    "    # iterate over the whole length of the sequence\n",
    "    for i in range(args.lyrics_long):\n",
    "        # integer encode input sequence\n",
    "\n",
    "        in_seq = [data.char2id(c) for c in in_text]\n",
    "\n",
    "        # pad input\n",
    "        sequence = pad_sequences([in_seq], maxlen=data.seq_length)\n",
    "        # predict next word\n",
    "        yhat = model.predict(sequence, verbose=0)\n",
    "        # convert probability to integer\n",
    "        yhat = np.argmax(yhat)\n",
    "        # map integer to word\n",
    "        word = data.id2char(yhat)\n",
    "        # stop if we cannot map the word\n",
    "#         if word is None:\n",
    "#             break\n",
    "        # append as input for generating the next word\n",
    "        \n",
    "        generated += word\n",
    "        in_text = in_text[1:]+word\n",
    "\n",
    "\n",
    "        # stop if we predict the end of the sequence\n",
    "        # if word == 'endseq':\n",
    "        #     break\n",
    "    return generated"
   ]
  },
  {
   "cell_type": "code",
   "execution_count": 10,
   "metadata": {
    "collapsed": true
   },
   "outputs": [],
   "source": [
    "model.save('D:/Program/train_model/lyrics_generator/m1.h5')"
   ]
  },
  {
   "cell_type": "code",
   "execution_count": 23,
   "metadata": {},
   "outputs": [
    {
     "data": {
      "text/plain": [
       "'哥只是我給你的時間 你我不能我說你不見你 你微笑 你不會去 你們不過 你不會去 你們不過 你不會去 你們不過 你不會去 你們不過 你不會去 你們不過 你不會去 你們不過 你不會去 你們不過 你不會去 你們不過 你不會去 你們不過 你不會去 你們不過 你不會去 你們不過 你不會去 你們不過 你不會去 你們不過 你不會去 你們不過 你不會去 你們不過 你不會去 你們不過 你不會去 你們不過 你不會去 你們不過 你不會去 你們不過 你不會去 你們不過 你不會去 你們不過 你不會去 你們不過 你不會去 你們不過 你不會去 你們不過 你不會去 你們不過 你不會去 你們不過 你不會去 你們不過 你不會去 你們不過 你不會去 你們不過 你不會去 你們不過 你不會去 你們不過 你不會去 你們不過 你不會去 你們不過 你不會去 你們不'"
      ]
     },
     "execution_count": 23,
     "metadata": {},
     "output_type": "execute_result"
    }
   ],
   "source": [
    "in_text = '哥只是'\n",
    "\n",
    "generate_desc(model, args, data,in_text)"
   ]
  },
  {
   "cell_type": "code",
   "execution_count": null,
   "metadata": {
    "collapsed": true
   },
   "outputs": [],
   "source": []
  }
 ],
 "metadata": {
  "kernelspec": {
   "display_name": "Python 3",
   "language": "python",
   "name": "python3"
  },
  "language_info": {
   "codemirror_mode": {
    "name": "ipython",
    "version": 3
   },
   "file_extension": ".py",
   "mimetype": "text/x-python",
   "name": "python",
   "nbconvert_exporter": "python",
   "pygments_lexer": "ipython3",
   "version": "3.6.2"
  }
 },
 "nbformat": 4,
 "nbformat_minor": 2
}
