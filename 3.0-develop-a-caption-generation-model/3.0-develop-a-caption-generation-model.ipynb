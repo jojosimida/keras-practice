{
 "cells": [
  {
   "cell_type": "markdown",
   "metadata": {},
   "source": [
    "#  Develop a Caption Generation Model\n",
    "Caption generation is a challenging artificial intelligence problem where a textual description must be generated for a photograph.\n",
    "\n",
    "It requires both methods from computer vision to understand the content of the image and a language model from the field of natural language processing to turn the understanding of the image into words in the right order. Recently, deep learning methods have achieved state of the art results on examples of this problem.\n",
    "\n",
    "It can be hard to develop caption generating models on your own data, primarily because the datasets and the models are so large and take days to train. An alternative approach is to explore model configurations with a small sample of the fuller dataset.\n",
    "\n",
    "![pic](https://imgur.com/JcN1RM4.png)\n",
    "\n",
    "The Caption Generation Model has 6 parts, they are:\n",
    "\n",
    "1. Data Preparation\n",
    "2. Baseline Caption Generation Model\n",
    "3. Network Size Parameters\n",
    "4. Configuring the Feature Extraction Model\n",
    "5. Word Embedding Models\n",
    "6. Analysis of Results\n",
    "\n",
    "# Data Preparation\n",
    "\n",
    "We will use the Flickr8K dataset that is comprised of a little more than 8,000 photographs and their descriptions.\n",
    "\n",
    "You can download the dataset from here:\n",
    "\n",
    "[Framing image description as a ranking task: data, models and evaluation metrics.](http://nlp.cs.illinois.edu/HockenmaierGroup/Framing_Image_Description/KCCA.html)\n",
    "\n",
    "Unzip the photographs and descriptions into your current working directory into Flicker8k_Dataset and Flickr8k_text directories respectively.\n",
    "\n",
    "There are two parts to the data preparation, they are:\n",
    "\n",
    "* Preparing the Text\n",
    "* Preparing the Photos\n",
    "\n",
    "## Preparing the Text\n",
    "\n",
    "The dataset contains multiple descriptions for each photograph and the text of the descriptions requires some minimal cleaning.\n",
    "\n",
    "First, we will load the file containing all of the descriptions."
   ]
  },
  {
   "cell_type": "code",
   "execution_count": 1,
   "metadata": {},
   "outputs": [
    {
     "name": "stderr",
     "output_type": "stream",
     "text": [
      "Using TensorFlow backend.\n"
     ]
    }
   ],
   "source": [
    "from os import listdir\n",
    "import numpy as np\n",
    "import pandas as pd\n",
    "import string\n",
    "from nltk.translate.bleu_score import corpus_bleu\n",
    "from pickle import load, dump\n",
    " \n",
    "from keras.preprocessing.text import Tokenizer\n",
    "from keras.preprocessing.sequence import pad_sequences\n",
    "from keras.utils import plot_model, to_categorical\n",
    "from keras.preprocessing.image import load_img, img_to_array\n",
    "from keras.applications.vgg16 import VGG16, preprocess_input \n",
    "from keras.models import Model\n",
    "from keras.layers import Input, Dense, Flatten, LSTM\n",
    "from keras.layers import RepeatVector, TimeDistributed\n",
    "from keras.layers import Embedding\n",
    "from keras.layers.merge import concatenate\n",
    "from keras.layers.pooling import GlobalMaxPooling2D"
   ]
  },
  {
   "cell_type": "code",
   "execution_count": 2,
   "metadata": {
    "collapsed": true
   },
   "outputs": [],
   "source": [
    "# load doc into memory\n",
    "def load_doc(filename):\n",
    "    # open the file as read only\n",
    "    file = open(filename, 'r')\n",
    "    # read all text\n",
    "    text = file.read()\n",
    "    # close the file\n",
    "    file.close()\n",
    "    return text\n",
    " \n",
    "filename = 'D:/Program/dataset/Flickr8K/Flickr8k_text/Flickr8k.token.txt'\n",
    "# load descriptions\n",
    "doc = load_doc(filename)"
   ]
  },
  {
   "cell_type": "markdown",
   "metadata": {},
   "source": [
    "Each photo has a unique identifier. This is used in the photo filename and in the text file of descriptions. Next, we will step through the list of photo descriptions and save the first description for each photo. Below defines a function named `load_descriptions()` that, given the loaded document text, will return a dictionary of photo identifiers to descriptions."
   ]
  },
  {
   "cell_type": "code",
   "execution_count": 3,
   "metadata": {},
   "outputs": [
    {
     "name": "stdout",
     "output_type": "stream",
     "text": [
      "Loaded: 8092 \n"
     ]
    }
   ],
   "source": [
    "# extract descriptions for images\n",
    "def load_descriptions(doc):\n",
    "    mapping = dict()\n",
    "    # process lines\n",
    "    for line in doc.split('\\n'):\n",
    "        # split line by white space\n",
    "        tokens = line.split()\n",
    "        if len(line) < 2:\n",
    "            continue\n",
    "        # take the first token as the image id, the rest as the description\n",
    "        image_id, image_desc = tokens[0], tokens[1:]\n",
    "        # remove filename from image id\n",
    "        image_id = image_id.split('.')[0]\n",
    "        # convert description tokens back to string\n",
    "        image_desc = ' '.join(image_desc)\n",
    "        # store the first description for each image\n",
    "        if image_id not in mapping:\n",
    "            mapping[image_id] = image_desc\n",
    "    return mapping\n",
    " \n",
    "# parse descriptions\n",
    "descriptions = load_descriptions(doc)\n",
    "print('Loaded: {} '.format(len(descriptions)))"
   ]
  },
  {
   "cell_type": "markdown",
   "metadata": {},
   "source": [
    "---\n",
    "Next, we need to clean the description text.\n",
    "\n",
    "The descriptions are already tokenized and easy to work with. We will clean the text in the following ways in order to reduce the size of the vocabulary of words we will need to work with:\n",
    "\n",
    "* Convert all words to lowercase.\n",
    "* Remove all punctuation.\n",
    "* Remove all words that are one character or less in length (e.g. ‘a’).\n",
    "\n",
    "Below defines the `clean_descriptions()` function that, given the dictionary of image identifiers to descriptions, steps through each description and cleans the text."
   ]
  },
  {
   "cell_type": "code",
   "execution_count": 4,
   "metadata": {},
   "outputs": [
    {
     "name": "stdout",
     "output_type": "stream",
     "text": [
      "Vocabulary Size: 4484\n"
     ]
    }
   ],
   "source": [
    "def clean_descriptions(descriptions):\n",
    "    \"\"\"\n",
    "    This uses the 3-argument version of str.maketrans\n",
    "    with arguments (x, y, z) where 'x' and 'y'\n",
    "    must be equal-length strings and characters in 'x'\n",
    "    are replaced by characters in 'y'. 'z'\n",
    "    is a string (string.punctuation here)\n",
    "    where each character in the string is mapped\n",
    "    to None.\n",
    "    \n",
    "    This is an alternative that creates a dictionary mapping\n",
    "    of every character from string.punctuation to None (this will\n",
    "    also work)\n",
    "    #translator = str.maketrans(dict.fromkeys(string.punctuation))\n",
    "    \"\"\"\n",
    "    # prepare translation table for removing punctuation\n",
    "    table = str.maketrans('', '', string.punctuation)\n",
    "    for key, desc in descriptions.items():\n",
    "        # tokenize\n",
    "        desc = desc.split()\n",
    "        # convert to lower case\n",
    "        desc = [word.lower() for word in desc]\n",
    "        # remove punctuation from each token\n",
    "        desc = [w.translate(table) for w in desc]\n",
    "        # remove hanging 's' and 'a'\n",
    "        desc = [word for word in desc if len(word)>1]\n",
    "        # store as string\n",
    "        descriptions[key] =  ' '.join(desc)\n",
    "\n",
    "        \n",
    "# clean descriptions\n",
    "clean_descriptions(descriptions)\n",
    "# summarize vocabulary\n",
    "all_tokens = ' '.join(descriptions.values()).split()\n",
    "vocabulary = set(all_tokens)\n",
    "print('Vocabulary Size: {}'.format(len(vocabulary)))"
   ]
  },
  {
   "cell_type": "markdown",
   "metadata": {},
   "source": [
    "---\n",
    "Finally, we save the dictionary of image identifiers and descriptions to a new file named *descriptions.txt*, with one image identifier and description per line.\n",
    "\n",
    "Below defines the `save_doc()` function that given a dictionary containing the mapping of identifiers to descriptions and a filename, saves the mapping to file."
   ]
  },
  {
   "cell_type": "code",
   "execution_count": 5,
   "metadata": {
    "collapsed": true
   },
   "outputs": [],
   "source": [
    "# save descriptions to file, one per line\n",
    "def save_doc(descriptions, filename):\n",
    "    lines = list()\n",
    "    for key, desc in descriptions.items():\n",
    "        lines.append(key + ' ' + desc)\n",
    "    data = '\\n'.join(lines)\n",
    "    file = open(filename, 'w')\n",
    "    file.write(data)\n",
    "    file.close()\n",
    "    \n",
    "# save descriptions\n",
    "save_doc(descriptions, 'D:/Program/dataset/Flickr8K/descriptions.txt')"
   ]
  },
  {
   "cell_type": "markdown",
   "metadata": {},
   "source": [
    "## Preparing the Photos\n",
    "\n",
    "We will use a pre-trained model to interpret the content of the photos.\n",
    "\n",
    "There are many models to choose from. In this case, we will use the Oxford Visual Geometry Group or VGG model that won the ImageNet competition in 2014.Keras provides this pre-trained model directly.\n",
    "\n",
    "We could use this model as part of a broader image caption model. The problem is, it is a large model and running each photo through the network every time we want to test a new language model configuration (downstream) is redundant.\n",
    "\n",
    "Instead, we can pre-compute the “photo features” using the pre-trained model and save them to file. We can then load these features later and feed them into our model as the interpretation of a given photo in the dataset. It is no different to running the photo through the full VGG model, it is just that we will have done it once in advance.\n",
    "\n",
    "This is an optimization that will make training our models faster and consume less memory.\n",
    "\n",
    "We can load the VGG model in Keras using the VGG class. We will load the model without the top; this means without the layers at the end of the network that are used to interpret the features extracted from the input and turn them into a class prediction. We are not interested in the image net classification of the photos and we will train our own interpretation of the image features.\n",
    "\n",
    "Below is a function named extract_features() that given a directory name will load each photo, prepare it for VGG and collect the predicted features from the VGG model. The image features are a 3-dimensional array with the shape (7, 7, 512).\n",
    "\n",
    "The function returns a dictionary of image identifier to image features.\n",
    "We can call this function to prepare the photo data for testing our models, then save the resulting dictionary to a file named *features.pkl*."
   ]
  },
  {
   "cell_type": "code",
   "execution_count": 6,
   "metadata": {},
   "outputs": [
    {
     "name": "stdout",
     "output_type": "stream",
     "text": [
      "_________________________________________________________________\n",
      "Layer (type)                 Output Shape              Param #   \n",
      "=================================================================\n",
      "input_1 (InputLayer)         (None, 224, 224, 3)       0         \n",
      "_________________________________________________________________\n",
      "block1_conv1 (Conv2D)        (None, 224, 224, 64)      1792      \n",
      "_________________________________________________________________\n",
      "block1_conv2 (Conv2D)        (None, 224, 224, 64)      36928     \n",
      "_________________________________________________________________\n",
      "block1_pool (MaxPooling2D)   (None, 112, 112, 64)      0         \n",
      "_________________________________________________________________\n",
      "block2_conv1 (Conv2D)        (None, 112, 112, 128)     73856     \n",
      "_________________________________________________________________\n",
      "block2_conv2 (Conv2D)        (None, 112, 112, 128)     147584    \n",
      "_________________________________________________________________\n",
      "block2_pool (MaxPooling2D)   (None, 56, 56, 128)       0         \n",
      "_________________________________________________________________\n",
      "block3_conv1 (Conv2D)        (None, 56, 56, 256)       295168    \n",
      "_________________________________________________________________\n",
      "block3_conv2 (Conv2D)        (None, 56, 56, 256)       590080    \n",
      "_________________________________________________________________\n",
      "block3_conv3 (Conv2D)        (None, 56, 56, 256)       590080    \n",
      "_________________________________________________________________\n",
      "block3_pool (MaxPooling2D)   (None, 28, 28, 256)       0         \n",
      "_________________________________________________________________\n",
      "block4_conv1 (Conv2D)        (None, 28, 28, 512)       1180160   \n",
      "_________________________________________________________________\n",
      "block4_conv2 (Conv2D)        (None, 28, 28, 512)       2359808   \n",
      "_________________________________________________________________\n",
      "block4_conv3 (Conv2D)        (None, 28, 28, 512)       2359808   \n",
      "_________________________________________________________________\n",
      "block4_pool (MaxPooling2D)   (None, 14, 14, 512)       0         \n",
      "_________________________________________________________________\n",
      "block5_conv1 (Conv2D)        (None, 14, 14, 512)       2359808   \n",
      "_________________________________________________________________\n",
      "block5_conv2 (Conv2D)        (None, 14, 14, 512)       2359808   \n",
      "_________________________________________________________________\n",
      "block5_conv3 (Conv2D)        (None, 14, 14, 512)       2359808   \n",
      "_________________________________________________________________\n",
      "block5_pool (MaxPooling2D)   (None, 7, 7, 512)         0         \n",
      "=================================================================\n",
      "Total params: 14,714,688\n",
      "Trainable params: 14,714,688\n",
      "Non-trainable params: 0\n",
      "_________________________________________________________________\n",
      "None\n",
      ">1107471216_4336c9b328.jpg\n",
      ">124195430_d14028660f.jpg\n",
      ">1332208215_fa824f6659.jpg\n",
      ">1403414927_5f80281505.jpg\n",
      ">1463732807_0cdf4f22c7.jpg\n",
      ">1562478713_505ab6d924.jpg\n",
      ">1773928579_5664a810dc.jpg\n",
      ">1947351225_288d788983.jpg\n",
      ">2065875490_a46b58c12b.jpg\n",
      ">2098418613_85a0c9afea.jpg\n",
      ">2151056407_c9c09b0a02.jpg\n",
      ">2198511848_311d8a8c2f.jpg\n",
      ">2244171992_a4beb04d8e.jpg\n",
      ">2273591668_069dcb4641.jpg\n",
      ">2308108566_2cba6bca53.jpg\n",
      ">2350400382_ced2b6c91e.jpg\n",
      ">2392625002_83a5a0978f.jpg\n",
      ">241347441_d3dd9b129f.jpg\n",
      ">244368383_e90b6b2f20.jpg\n",
      ">2470519275_65725fd38d.jpg\n",
      ">2503629305_055e9ec4b1.jpg\n",
      ">253762507_9c3356c2f6.jpg\n",
      ">2567035103_3511020c8f.jpg\n",
      ">260231029_966e2f1727.jpg\n",
      ">2635908229_b9fc90d3fb.jpg\n",
      ">267015208_d80b3eb94d.jpg\n",
      ">2701895972_8605c4e038.jpg\n",
      ">2735979477_eef7c680f9.jpg\n",
      ">2769731772_18c44c18e2.jpg\n",
      ">2814028429_561a215259.jpg\n",
      ">2846843520_b0e6211478.jpg\n",
      ">2872806249_00bea3c4e7.jpg\n",
      ">2894850774_2d530040a1.jpg\n",
      ">2924483864_cfdb900a13.jpg\n",
      ">2950393735_9969c4ec59.jpg\n",
      ">2987195421_e830c59fb6.jpg\n",
      ">3016178284_ec50a09e8c.jpg\n",
      ">3042380610_c5ea61eef8.jpg\n",
      ">3070011270_390e597783.jpg\n",
      ">3094278545_febac56382.jpg\n",
      ">3117336911_a729f42869.jpg\n",
      ">3143155555_32b6d24f34.jpg\n",
      ">316577571_27a0e0253e.jpg\n",
      ">3185695861_86152b2755.jpg\n",
      ">3208999896_dab42dc40b.jpg\n",
      ">3225310099_d8e419ba56.jpg\n",
      ">3248220732_0f173fc197.jpg\n",
      ">3264350290_f50494e835.jpg\n",
      ">3286045254_696c6b15bd.jpg\n",
      ">3309578722_1765d7d1af.jpg\n",
      ">3331190056_09f4ca9fd2.jpg\n",
      ">3349308309_92cff519f3.jpg\n",
      ">3366571152_20afb88ac1.jpg\n",
      ">3393035454_2d2370ffd4.jpg\n",
      ">3414734842_beb543f400.jpg\n",
      ">3429641260_2f035c1813.jpg\n",
      ">3449114979_6cdc3e8da8.jpg\n",
      ">3468346269_9d162aacfe.jpg\n",
      ">3487131146_9d3aca387a.jpg\n",
      ">3508882611_3947c0dbf5.jpg\n",
      ">3528902357_be2357a906.jpg\n",
      ">354642192_3b7666a2dd.jpg\n",
      ">3564436847_57825db87d.jpg\n",
      ">358607894_5abb1250d3.jpg\n",
      ">3607405494_0df89110a6.jpg\n",
      ">3628698119_5566769777.jpg\n",
      ">3647826834_dc63e21bd0.jpg\n",
      ">3671935691_57bdd0e778.jpg\n",
      ">3692836015_d11180727b.jpg\n",
      ">3717809376_f97611ab84.jpg\n",
      ">381052465_722e00807b.jpg\n",
      ">412101267_7257e6d8c0.jpg\n",
      ">441398149_297146e38d.jpg\n",
      ">470887781_faae5dae83.jpg\n",
      ">494792770_2c5f767ac0.jpg\n",
      ">517094985_4b9e926936.jpg\n",
      ">539751252_2bd88c456b.jpg\n",
      ">619169586_0a13ee7c21.jpg\n",
      ">758921886_55a351dd67.jpg\n",
      ">887108308_2da97f15ef.jpg\n",
      "Extracted Features: 8091\n",
      "Wall time: 5min 23s\n"
     ]
    }
   ],
   "source": [
    "%%time\n",
    "# extract features from each photo in the directory\n",
    "def extract_features(directory):\n",
    "    # load the model\n",
    "    in_layer = Input(shape=(224, 224, 3))\n",
    "    model = VGG16(include_top=False, input_tensor=in_layer)\n",
    "    print(model.summary())\n",
    "    # extract features from each photo\n",
    "    features = dict()\n",
    "    for name in listdir(directory):\n",
    "        # load an image from file\n",
    "        filename = directory + '/' + name\n",
    "        image = load_img(filename, target_size=(224, 224))\n",
    "        # convert the image pixels to a numpy array\n",
    "        image = img_to_array(image)\n",
    "        # reshape data for the model\n",
    "        image = image.reshape((1, image.shape[0], image.shape[1], image.shape[2]))\n",
    "        # prepare the image for the VGG model\n",
    "        image = preprocess_input(image)\n",
    "        # get features\n",
    "        feature = model.predict(image, verbose=0)\n",
    "        # get image id\n",
    "        image_id = name.split('.')[0]\n",
    "        # store feature\n",
    "        features[image_id] = feature\n",
    "        \n",
    "        if len(features)%100==0:\n",
    "            print('>{}'.format(name))\n",
    "    return features\n",
    "\n",
    "# extract features from all images\n",
    "directory = 'D:/Program/dataset/Flickr8K/Flicker8k_Dataset'\n",
    "features = extract_features(directory)\n",
    "print('Extracted Features: {}'.format(len(features)))\n",
    "# save to file\n",
    "dump(features, open('D:/Program/dataset/Flickr8K/features.pkl', 'wb'))"
   ]
  },
  {
   "cell_type": "markdown",
   "metadata": {},
   "source": [
    "---\n",
    "Running this data preparation step may take a while depending on your hardware, perhaps one hour on the CPU with a modern workstation.\n",
    "\n",
    "At the end of the run, you will have the extracted features stored in *features.pkl* for later use.\n",
    "\n",
    "# Baseline Caption Generation Model\n",
    "\n",
    "In this section, we will define a baseline model for generating captions for photos and how to evaluate it so that it can be compared to variations on this baseline.\n",
    "\n",
    "This section is divided into 6 parts:\n",
    "\n",
    "1. Load Data.\n",
    "2. Fit Model.\n",
    "3. Evaluate Model.\n",
    "4. Complete Example\n",
    "5. “A” versus “A” Test\n",
    "6. Generate Photo Captions\n",
    "\n",
    "## Load Data\n",
    "\n",
    "We are not going to fit the model on all of the caption data, or even on a large sample of the data.\n",
    "\n",
    "In this tutorial, we are interested in quickly testing a suite of different configurations of a caption model to see what works on this data. That means we need the evaluation of one model configuration to happen quickly. Toward this end, we will train the models on 100 photographs and captions, then evaluate them on both the training dataset and on a new test set of 100 photographs and captions.\n",
    "\n",
    "First, we need to load a pre-defined subset of photographs. The provided dataset has separate sets for train, test, and development, which are really just different groups of photo identifiers. We will load the development set and use the first 100 identifiers for train and the second 100 (e.g. from 100 to 200) as the test set.\n",
    "\n",
    "The function `load_set()` below will load a pre-defined set of identifiers, and we will call it with the *Flickr_8k.devImages.txt* filename as an argument."
   ]
  },
  {
   "cell_type": "code",
   "execution_count": 7,
   "metadata": {
    "collapsed": true
   },
   "outputs": [],
   "source": [
    "# load a pre-defined list of photo identifiers\n",
    "def load_set(filename):\n",
    "    doc = load_doc(filename)\n",
    "    dataset = list()\n",
    "    # process line by line\n",
    "    for line in doc.split('\\n'):\n",
    "        # skip empty lines\n",
    "        if len(line) < 1:\n",
    "            continue\n",
    "        # get the image identifier\n",
    "        identifier = line.split('.')[0]\n",
    "        dataset.append(identifier)\n",
    "    return set(dataset)"
   ]
  },
  {
   "cell_type": "markdown",
   "metadata": {
    "collapsed": true
   },
   "source": [
    "Next, we need to split the set into train and test sets.\n",
    "\n",
    "We will start by ordering the identifiers by sorting them to ensure we always split them consistently across machines and runs, then take the first 100 for train and the next 100 for test.\n",
    "\n",
    "The `train_test_split()` function below will create this split given the loaded set of identifiers as input."
   ]
  },
  {
   "cell_type": "code",
   "execution_count": 8,
   "metadata": {
    "collapsed": true
   },
   "outputs": [],
   "source": [
    "# split a dataset into train/test elements\n",
    "def train_test_split(dataset):\n",
    "    # order keys so the split is consistent\n",
    "    ordered = sorted(dataset)\n",
    "    # return split dataset as two new sets\n",
    "    return set(ordered[:100]), set(ordered[100:200])"
   ]
  },
  {
   "cell_type": "markdown",
   "metadata": {
    "collapsed": true
   },
   "source": [
    "Now, we can load the photo descriptions using the pre-defined set of train or test identifiers.\n",
    "\n",
    "Below is the function `load_clean_descriptions()` that loads the cleaned text descriptions from *descriptions.txt* for a given set of identifiers and returns a dictionary of identifier to text.\n",
    "\n",
    "The model we will develop will generate a caption given a photo, and the caption will be generated one word at a time. The sequence of previously generated words will be provided as input. Therefore, we will need a ***first word*** to kick-off the generation process and a ***last word*** to signal the end of the caption. We will use the strings ***startseq*** and ***endseq*** for this purpose."
   ]
  },
  {
   "cell_type": "code",
   "execution_count": 9,
   "metadata": {
    "collapsed": true
   },
   "outputs": [],
   "source": [
    "# load clean descriptions into memory\n",
    "def load_clean_descriptions(filename, dataset):\n",
    "    # load document\n",
    "    doc = load_doc(filename)\n",
    "    descriptions = dict()\n",
    "    for line in doc.split('\\n'):\n",
    "        # split line by white space\n",
    "        tokens = line.split()\n",
    "        # split id from description\n",
    "        image_id, image_desc = tokens[0], tokens[1:]\n",
    "        # skip images not in the set\n",
    "        if image_id in dataset:\n",
    "            # store\n",
    "            descriptions[image_id] = 'startseq ' + ' '.join(image_desc) + ' endseq'\n",
    "    return descriptions"
   ]
  },
  {
   "cell_type": "markdown",
   "metadata": {
    "collapsed": true
   },
   "source": [
    "Next, we can load the photo features for a given dataset.\n",
    "\n",
    "Below defines a function named `load_photo_features()` that loads the entire set of photo descriptions, then returns the subset of interest for a given set of photo identifiers. This is not very efficient as the loaded dictionary of all photo features is about 700 Megabytes. Nevertheless, this will get us up and running quickly.\n"
   ]
  },
  {
   "cell_type": "code",
   "execution_count": 10,
   "metadata": {
    "collapsed": true
   },
   "outputs": [],
   "source": [
    "# load photo features\n",
    "def load_photo_features(filename, dataset):\n",
    "    # load all features\n",
    "    all_features = load(open(filename, 'rb'))\n",
    "    # filter features\n",
    "    features = {k: all_features[k] for k in dataset}\n",
    "    return features"
   ]
  },
  {
   "cell_type": "code",
   "execution_count": 11,
   "metadata": {},
   "outputs": [
    {
     "name": "stdout",
     "output_type": "stream",
     "text": [
      "Dataset: 1000\n",
      "Train=100, Test=100\n",
      "Descriptions: train=100, test=100\n",
      "Photos: train=100, test=100\n"
     ]
    }
   ],
   "source": [
    "# load dev set\n",
    "filename = 'D:/Program/dataset/Flickr8K/Flickr8k_text/Flickr_8k.devImages.txt'\n",
    "dataset = load_set(filename)\n",
    "print('Dataset: {}'.format(len(dataset)))\n",
    "# train-test split\n",
    "train, test = train_test_split(dataset)\n",
    "print('Train={}, Test={}'.format(len(train), len(test)))\n",
    "# descriptions\n",
    "train_descriptions = load_clean_descriptions('D:/Program/dataset/Flickr8K/descriptions.txt', train)\n",
    "test_descriptions = load_clean_descriptions('D:/Program/dataset/Flickr8K/descriptions.txt', test)\n",
    "print('Descriptions: train={}, test={}'.format(len(train_descriptions), len(test_descriptions)))\n",
    "# photo features\n",
    "train_features = load_photo_features('D:/Program/dataset/Flickr8K/features.pkl', train)\n",
    "test_features = load_photo_features('D:/Program/dataset/Flickr8K/features.pkl', test)\n",
    "print('Photos: train={}, test={}'.format(len(train_features), len(test_features)))"
   ]
  },
  {
   "cell_type": "markdown",
   "metadata": {
    "collapsed": true
   },
   "source": [
    "---\n",
    "Running this example first loads the 1,000 photo identifiers in the development dataset. A train and test set is selected and used to filter the set of clean photo descriptions and prepared image features.\n",
    "\n",
    "The description text will need to be encoded to numbers before it can be presented to the model as in input or compared to the model’s predictions.\n",
    "\n",
    "The first step in encoding the data is to create a consistent mapping from words to unique integer values. Keras provides the Tokenizer class that can learn this mapping from the loaded description data.\n",
    "\n",
    "Below defines the `create_tokenizer()` that will fit a Tokenizer given the loaded photo description text."
   ]
  },
  {
   "cell_type": "code",
   "execution_count": 12,
   "metadata": {},
   "outputs": [
    {
     "name": "stdout",
     "output_type": "stream",
     "text": [
      "Vocabulary Size: 366\n",
      "Description Length: 25\n"
     ]
    }
   ],
   "source": [
    "# fit a tokenizer given caption descriptions\n",
    "def create_tokenizer(descriptions):\n",
    "    lines = list(descriptions.values())\n",
    "    tokenizer = Tokenizer()\n",
    "    tokenizer.fit_on_texts(lines)\n",
    "    return tokenizer\n",
    " \n",
    "# prepare tokenizer\n",
    "tokenizer = create_tokenizer(train_descriptions)\n",
    "vocab_size = len(tokenizer.word_index) + 1\n",
    "print('Vocabulary Size: {}'.format(vocab_size))\n",
    "\n",
    "# determine the maximum sequence length\n",
    "max_length = max(len(s.split()) for s in list(train_descriptions.values()))\n",
    "print('Description Length: {}'.format(max_length))"
   ]
  },
  {
   "cell_type": "markdown",
   "metadata": {},
   "source": [
    "---\n",
    "Each description will be split into words. The model will be provided one word and the photo and generate the next word. Then the first two words of the description will be provided to the model as input with the image to generate the next word. This is how the model will be trained.\n",
    "\n",
    "For example, the input sequence “little girl running in field” would be split into 6 input-output pairs to train the model:\n",
    "\n",
    "| X1 | X2 (text sequence) | y (word) |\n",
    "| --- | --- | --- |\n",
    "| photo | startseq, | little |\n",
    "| photo | startseq, little, | girl |\n",
    "| photo | startseq, little, girl, | running |\n",
    "| photo | startseq, little, girl, running, | in |\n",
    "| photo | startseq, little, girl, running, in, | field |\n",
    "| photo | startseq, little, girl, running, in, field, | endseq |\n",
    "\n",
    "Later when the model is used to generate descriptions, the generated words will be concatenated and recursively provided as input to generate a caption for an image.\n",
    "\n",
    "The function below named `create_sequences()` given the tokenizer, a single clean description, the features for a photo, and the maximum description length will prepare a set of input-output pairs for training a model. Calling this function will return *X1* and *X2* for the arrays of image data and input sequence data and the *y* value for the output word.\n",
    "\n",
    "The input sequences are integer encoded and the output word is one-hot encoded to represent the probability distribution of the expected word across the whole vocabulary of possible words."
   ]
  },
  {
   "cell_type": "code",
   "execution_count": 13,
   "metadata": {
    "collapsed": true
   },
   "outputs": [],
   "source": [
    "# create sequences of images, input sequences and output words for an image\n",
    "def create_sequences(tokenizer, desc, image, max_length):\n",
    "    Ximages, XSeq, y = list(), list(),list()\n",
    "    vocab_size = len(tokenizer.word_index) + 1\n",
    "    \n",
    "    \"\"\"\n",
    "    ex:\n",
    "    [desc] = ['man in black is sitting next to modern art structure in front of glass building']\n",
    "    tokenizer.texts_to_sequences([desc]) -> \n",
    "              [[8, 1, 10, 5, 48, 77, 16, 2354, 873, 375, 1, 39, 7, 584, 127]]\n",
    "    \"\"\"\n",
    "    # integer encode the description\n",
    "    seq = tokenizer.texts_to_sequences([desc])[0]\n",
    "    \n",
    "    # split one sequence into multiple X,y pairs\n",
    "    for i in range(1, len(seq)):\n",
    "        # select\n",
    "        in_seq, out_seq = seq[:i], seq[i]\n",
    "        # pad input sequence\n",
    "        in_seq = pad_sequences([in_seq], maxlen=max_length)[0]\n",
    "        # encode output sequence\n",
    "        out_seq = to_categorical([out_seq], num_classes=vocab_size)[0]\n",
    "        # store\n",
    "        Ximages.append(image)\n",
    "        XSeq.append(in_seq)\n",
    "        y.append(out_seq)\n",
    "    # Ximages, XSeq, y = array(Ximages), array(XSeq), array(y)\n",
    "    return [Ximages, XSeq, y]"
   ]
  },
  {
   "cell_type": "markdown",
   "metadata": {},
   "source": [
    "## Fit Model\n",
    "\n",
    "The model is based on the example laid out in the paper [“Show and Tell: A Neural Image Caption Generator“](https://arxiv.org/abs/1411.4555), 2015.\n",
    "\n",
    "The model involves three parts:\n",
    "\n",
    "* **Photo Feature Extractor**. This is a 16-layer VGG model pre-trained on the ImageNet dataset. We have pre-processed the photos with a the VGG model (without the top) and will use the extracted features predicted by this model as input.\n",
    "* **Sequence Processor**. This is a word embedding layer for handling the text input, followed by an LSTM layer. The LSTM output is interpreted by a Dense layer one output at a time.\n",
    "* **Interpreter (for lack of a better name)**. Both the feature extractor and sequence processor output a fixed-length vector that is the length of a maximum sequence. These are concatenated together and processed by an LSTM and Dense layer before a final prediction is made.\n",
    "\n",
    "A conservative number of neurons is used in the base model. Specifically, a 128 Dense layer after the feature extractor, a 50-dimensionality word embedding followed by a 256 unit LSTM and 128 neuron Dense after the sequence processor, and finally a 500 unit LSTM followed by a 500 neuron Dense at the end of the network.\n",
    "\n",
    "The model predicts a probability distribution across the vocabulary, therefore a softmax activation function is used and a categorical cross entropy loss function is minimized while fitting the network.\n",
    "\n",
    "The function `define_model()` defines the baseline model, given the size of the vocabulary and the maximum length of photo descriptions. The Keras functional API is used to define the model as it provides the flexibility needed to define a model that takes two input streams and combines them."
   ]
  },
  {
   "cell_type": "code",
   "execution_count": 14,
   "metadata": {
    "collapsed": true
   },
   "outputs": [],
   "source": [
    "# define experiment\n",
    "model_name = 'baseline1'\n",
    "verbose = 2\n",
    "n_epochs = 50\n",
    "n_photos_per_update = 2\n",
    "n_batches_per_epoch = int(len(train) / n_photos_per_update)\n",
    "n_repeats = 3"
   ]
  },
  {
   "cell_type": "code",
   "execution_count": 15,
   "metadata": {
    "collapsed": true
   },
   "outputs": [],
   "source": [
    "# define the captioning model\n",
    "def define_model(vocab_size, max_length):\n",
    "    # feature extractor (encoder)\n",
    "    inputs1 = Input(shape=(7, 7, 512))\n",
    "    fe1 = GlobalMaxPooling2D()(inputs1)\n",
    "    fe2 = Dense(128, activation='relu')(fe1)\n",
    "    fe3 = RepeatVector(max_length)(fe2)\n",
    "    # embedding\n",
    "    inputs2 = Input(shape=(max_length,))\n",
    "    emb2 = Embedding(vocab_size, 50, mask_zero=True)(inputs2)\n",
    "    emb3 = LSTM(256, return_sequences=True)(emb2)\n",
    "    emb4 = TimeDistributed(Dense(128, activation='relu'))(emb3)\n",
    "    # merge inputs\n",
    "    merged = concatenate([fe3, emb4])\n",
    "    # language model (decoder)\n",
    "    lm2 = LSTM(500)(merged)\n",
    "    lm3 = Dense(500, activation='relu')(lm2)\n",
    "    outputs = Dense(vocab_size, activation='softmax')(lm3)\n",
    "    # tie it together [image, seq] [word]\n",
    "    model = Model(inputs=[inputs1, inputs2], outputs=outputs)\n",
    "    model.compile(loss='categorical_crossentropy', optimizer='adam', metrics=['accuracy'])\n",
    "    print(model.summary())\n",
    "    plot_model(model, show_shapes=True, to_file='plot.png')\n",
    "\n",
    "    return model"
   ]
  },
  {
   "cell_type": "code",
   "execution_count": 16,
   "metadata": {},
   "outputs": [
    {
     "name": "stdout",
     "output_type": "stream",
     "text": [
      "__________________________________________________________________________________________________\n",
      "Layer (type)                    Output Shape         Param #     Connected to                     \n",
      "==================================================================================================\n",
      "input_2 (InputLayer)            (None, 7, 7, 512)    0                                            \n",
      "__________________________________________________________________________________________________\n",
      "input_3 (InputLayer)            (None, 25)           0                                            \n",
      "__________________________________________________________________________________________________\n",
      "global_max_pooling2d_1 (GlobalM (None, 512)          0           input_2[0][0]                    \n",
      "__________________________________________________________________________________________________\n",
      "embedding_1 (Embedding)         (None, 25, 50)       18300       input_3[0][0]                    \n",
      "__________________________________________________________________________________________________\n",
      "dense_1 (Dense)                 (None, 128)          65664       global_max_pooling2d_1[0][0]     \n",
      "__________________________________________________________________________________________________\n",
      "lstm_1 (LSTM)                   (None, 25, 256)      314368      embedding_1[0][0]                \n",
      "__________________________________________________________________________________________________\n",
      "repeat_vector_1 (RepeatVector)  (None, 25, 128)      0           dense_1[0][0]                    \n",
      "__________________________________________________________________________________________________\n",
      "time_distributed_1 (TimeDistrib (None, 25, 128)      32896       lstm_1[0][0]                     \n",
      "__________________________________________________________________________________________________\n",
      "concatenate_1 (Concatenate)     (None, 25, 256)      0           repeat_vector_1[0][0]            \n",
      "                                                                 time_distributed_1[0][0]         \n",
      "__________________________________________________________________________________________________\n",
      "lstm_2 (LSTM)                   (None, 500)          1514000     concatenate_1[0][0]              \n",
      "__________________________________________________________________________________________________\n",
      "dense_3 (Dense)                 (None, 500)          250500      lstm_2[0][0]                     \n",
      "__________________________________________________________________________________________________\n",
      "dense_4 (Dense)                 (None, 366)          183366      dense_3[0][0]                    \n",
      "==================================================================================================\n",
      "Total params: 2,379,094\n",
      "Trainable params: 2,379,094\n",
      "Non-trainable params: 0\n",
      "__________________________________________________________________________________________________\n",
      "None\n"
     ]
    },
    {
     "data": {
      "image/png": "[encoded data removed]",
      "text/plain": [
       "<IPython.core.display.Image object>"
      ]
     },
     "execution_count": 16,
     "metadata": {},
     "output_type": "execute_result"
    }
   ],
   "source": [
    "from IPython.display import Image\n",
    "\n",
    "define_model(vocab_size, max_length)\n",
    "Image('plot.png')"
   ]
  },
  {
   "cell_type": "markdown",
   "metadata": {},
   "source": [
    "We will train the model using a data generator. This is strictly not required given that the captions and extracted photo features can probably fit into memory as a single dataset. Nevertheless, it is good practice for when you come to train the final model on the entire dataset.\n",
    "\n",
    "A generator will yield a result when called. In Keras, it will yield a single batch of input-output samples that are used to estimate the error gradient and update the model weights.\n",
    "\n",
    "The function `data_generator()` defines the data generator, given a dictionary of loaded photo descriptions, photo features, the tokenizer for integer encoding sequences, and the maximum sequence length in the dataset.\n",
    "\n",
    "The generator loops forever and keeps yielding batches of input-output pairs when asked. We also have a `n_step` parameter that allows us to tune how many images worth of input-output pairs to generate for each batch. The average sequence has 10 words, that is 10 input-output pairs, and a good batch size might be 30 samples, which is about 2-to-3 images worth."
   ]
  },
  {
   "cell_type": "code",
   "execution_count": 17,
   "metadata": {
    "collapsed": true
   },
   "outputs": [],
   "source": [
    "# data generator, intended to be used in a call to model.fit_generator()\n",
    "def data_generator(descriptions, features, tokenizer, max_length, n_step):\n",
    "    # loop until we finish training\n",
    "    while 1:\n",
    "        # loop over photo identifiers in the dataset\n",
    "        keys = list(descriptions.keys())\n",
    "        for i in range(0, len(keys), n_step):\n",
    "            Ximages, XSeq, y = list(), list(),list()\n",
    "            for j in range(i, min(len(keys), i+n_step)):\n",
    "                image_id = keys[j]\n",
    "                # retrieve photo feature input\n",
    "                image = features[image_id][0]\n",
    "                # retrieve text input\n",
    "                desc = descriptions[image_id]\n",
    "                # generate input-output pairs\n",
    "                in_img, in_seq, out_word = create_sequences(tokenizer, desc, image, max_length)\n",
    "                for k in range(len(in_img)):\n",
    "                    Ximages.append(in_img[k])\n",
    "                    XSeq.append(in_seq[k])\n",
    "                    y.append(out_word[k])\n",
    "            # yield this batch of samples to the model\n",
    "            yield [[np.array(Ximages), np.array(XSeq)], np.array(y)]"
   ]
  },
  {
   "cell_type": "markdown",
   "metadata": {},
   "source": [
    "The model can be fit by calling `fit_generator()` and passing it to the data generator, along with all of the parameters needed. When fitting the model, we can also specify the number of batches to run per epoch and the number of epochs.\n",
    "\n",
    "`model.fit_generator(data_generator(train_descriptions, train_features, tokenizer, max_length, n_photos_per_update), steps_per_epoch=n_batches_per_epoch, epochs=n_epochs, verbose=verbose)`\n",
    "\n",
    "For these experiments, we will use 2 images per batch, 50 batches (or 100 images) per epoch, and 50 training epochs. You can experiment with different configurations in your own experiments.\n",
    "\n",
    "## Evaluate Model\n",
    "\n",
    "Now that we know how to prepare the data and define a model, we must define a test harness to evaluate a given model.\n",
    "\n",
    "We will evaluate a model by training it on the dataset, generating descriptions for all photos in the training dataset, evaluating those predictions with a cost function, and then repeating this evaluation process multiple times.\n",
    "\n",
    "The outcome will be a distribution of skill scores for the model that we can summarize by calculating the mean and standard deviation. This is the preferred way to evaluate deep learning models. See this post:\n",
    "\n",
    "* [How to Evaluate the Skill of Deep Learning Models](https://machinelearningmastery.com/evaluate-skill-deep-learning-models/)\n",
    "\n",
    "First, we need to be able to generate a description for a photo using a trained model.\n",
    "\n",
    "This involves passing in the start description token *‘startseq‘*, generating one word, then calling the model recursively with generated words as input until the end of sequence token is reached *‘endseq‘* or the maximum description length is reached.\n",
    "\n",
    "The function below named `generate_desc()` implements this behavior and generates a textual description given a trained model, and a given prepared photo as input. It calls the function `word_for_id()` in order to map an integer prediction back to a word."
   ]
  },
  {
   "cell_type": "code",
   "execution_count": 18,
   "metadata": {
    "collapsed": true
   },
   "outputs": [],
   "source": [
    "# map an integer to a word\n",
    "def word_for_id(integer, tokenizer):\n",
    "    for word, index in tokenizer.word_index.items():\n",
    "        if index == integer:\n",
    "            return word\n",
    "    return None\n",
    "\n",
    "# generate a description for an image\n",
    "def generate_desc(model, tokenizer, photo, max_length):\n",
    "    # seed the generation process\n",
    "    in_text = 'startseq'\n",
    "    # iterate over the whole length of the sequence\n",
    "    for i in range(max_length):\n",
    "        # integer encode input sequence\n",
    "        sequence = tokenizer.texts_to_sequences([in_text])[0]\n",
    "        # pad input\n",
    "        sequence = pad_sequences([sequence], maxlen=max_length)\n",
    "        # predict next word\n",
    "        yhat = model.predict([photo,sequence], verbose=0)\n",
    "        # convert probability to integer\n",
    "        yhat = np.argmax(yhat)\n",
    "        # map integer to word\n",
    "        word = word_for_id(yhat, tokenizer)\n",
    "        # stop if we cannot map the word\n",
    "        if word is None:\n",
    "            break\n",
    "        # append as input for generating the next word\n",
    "        in_text += ' ' + word\n",
    "        # stop if we predict the end of the sequence\n",
    "        if word == 'endseq':\n",
    "            break\n",
    "    return in_text"
   ]
  },
  {
   "cell_type": "markdown",
   "metadata": {},
   "source": [
    "We will generate predictions for all photos in the training dataset and in the test dataset.\n",
    "\n",
    "The function below named `evaluate_model()` will evaluate a trained model against a given dataset of photo descriptions and photo features. The actual and predicted descriptions are collected and evaluated collectively using the corpus BLEU score that summarizes how close the generated text is to the expected text."
   ]
  },
  {
   "cell_type": "code",
   "execution_count": 19,
   "metadata": {
    "collapsed": true
   },
   "outputs": [],
   "source": [
    "# evaluate the skill of the model\n",
    "def evaluate_model(model, descriptions, photos, tokenizer, max_length):\n",
    "    actual, predicted = list(), list()\n",
    "    # step over the whole set\n",
    "    for key, desc in descriptions.items():\n",
    "        # generate description\n",
    "        yhat = generate_desc(model, tokenizer, photos[key], max_length)\n",
    "        # store actual and predicted\n",
    "        actual.append([desc.split()])\n",
    "        predicted.append(yhat.split())\n",
    "    # calculate BLEU score\n",
    "    bleu = corpus_bleu(actual, predicted)\n",
    "    return bleu"
   ]
  },
  {
   "cell_type": "markdown",
   "metadata": {},
   "source": [
    "BLEU scores are used in text translation for evaluating translated text against one or more reference translations. We do in fact have access to multiple reference descriptions for each image that we could compare to, but for simplicity, we will use the first description for each photo in the dataset (e.g. the cleaned version).\n",
    "\n",
    "* [BLEU (bilingual evaluation understudy) on Wikipedia](https://en.wikipedia.org/wiki/BLEU)\n",
    "\n",
    "The NLTK Python library implements the BLEU score calculation in the [*corpus_bleu() function*](http://www.nltk.org/api/nltk.translate.html). A higher score close to 1.0 is better, a score closer to zero is worse.\n",
    "\n",
    "Finally, all we need to do is define, fit, and evaluate the model multiple times in a loop then report the final average score.\n",
    "\n",
    "Ideally, we would repeat the experiment 30 times or more, but this will take too long for our small test harness. Instead, will evaluate the model 3 times. It will be faster, but the mean score will have higher variance.\n",
    "\n",
    "Below defines the model evaluation loop. At the end of the run, the distribution of BLEU scores for the train and test sets are saved to a file."
   ]
  },
  {
   "cell_type": "code",
   "execution_count": 20,
   "metadata": {},
   "outputs": [
    {
     "name": "stdout",
     "output_type": "stream",
     "text": [
      "__________________________________________________________________________________________________\n",
      "Layer (type)                    Output Shape         Param #     Connected to                     \n",
      "==================================================================================================\n",
      "input_4 (InputLayer)            (None, 7, 7, 512)    0                                            \n",
      "__________________________________________________________________________________________________\n",
      "input_5 (InputLayer)            (None, 25)           0                                            \n",
      "__________________________________________________________________________________________________\n",
      "global_max_pooling2d_2 (GlobalM (None, 512)          0           input_4[0][0]                    \n",
      "__________________________________________________________________________________________________\n",
      "embedding_2 (Embedding)         (None, 25, 50)       18300       input_5[0][0]                    \n",
      "__________________________________________________________________________________________________\n",
      "dense_5 (Dense)                 (None, 128)          65664       global_max_pooling2d_2[0][0]     \n",
      "__________________________________________________________________________________________________\n",
      "lstm_3 (LSTM)                   (None, 25, 256)      314368      embedding_2[0][0]                \n",
      "__________________________________________________________________________________________________\n",
      "repeat_vector_2 (RepeatVector)  (None, 25, 128)      0           dense_5[0][0]                    \n",
      "__________________________________________________________________________________________________\n",
      "time_distributed_2 (TimeDistrib (None, 25, 128)      32896       lstm_3[0][0]                     \n",
      "__________________________________________________________________________________________________\n",
      "concatenate_2 (Concatenate)     (None, 25, 256)      0           repeat_vector_2[0][0]            \n",
      "                                                                 time_distributed_2[0][0]         \n",
      "__________________________________________________________________________________________________\n",
      "lstm_4 (LSTM)                   (None, 500)          1514000     concatenate_2[0][0]              \n",
      "__________________________________________________________________________________________________\n",
      "dense_7 (Dense)                 (None, 500)          250500      lstm_4[0][0]                     \n",
      "__________________________________________________________________________________________________\n",
      "dense_8 (Dense)                 (None, 366)          183366      dense_7[0][0]                    \n",
      "==================================================================================================\n",
      "Total params: 2,379,094\n",
      "Trainable params: 2,379,094\n",
      "Non-trainable params: 0\n",
      "__________________________________________________________________________________________________\n",
      "None\n",
      "Epoch 1/50\n",
      " - 20s - loss: 5.4350 - acc: 0.0881\n",
      "Epoch 2/50\n",
      " - 15s - loss: 5.1625 - acc: 0.1012\n",
      "Epoch 3/50\n",
      " - 14s - loss: 5.1508 - acc: 0.1012\n",
      "Epoch 4/50\n",
      " - 14s - loss: 5.1406 - acc: 0.1040\n",
      "Epoch 5/50\n",
      " - 14s - loss: 5.0861 - acc: 0.1012\n",
      "Epoch 6/50\n",
      " - 14s - loss: 5.0370 - acc: 0.1040\n",
      "Epoch 7/50\n",
      " - 14s - loss: 4.9934 - acc: 0.1075\n",
      "Epoch 8/50\n",
      " - 13s - loss: 4.9330 - acc: 0.1077\n",
      "Epoch 9/50\n",
      " - 13s - loss: 4.8955 - acc: 0.1186\n",
      "Epoch 10/50\n",
      " - 13s - loss: 4.8655 - acc: 0.1216\n",
      "Epoch 11/50\n",
      " - 13s - loss: 4.8040 - acc: 0.1404\n",
      "Epoch 12/50\n",
      " - 15s - loss: 4.7601 - acc: 0.1435\n",
      "Epoch 13/50\n",
      " - 14s - loss: 4.7139 - acc: 0.1444\n",
      "Epoch 14/50\n",
      " - 13s - loss: 4.6609 - acc: 0.1432\n",
      "Epoch 15/50\n",
      " - 13s - loss: 4.6348 - acc: 0.1519\n",
      "Epoch 16/50\n",
      " - 13s - loss: 4.5781 - acc: 0.1513\n",
      "Epoch 17/50\n",
      " - 14s - loss: 4.5436 - acc: 0.1570\n",
      "Epoch 18/50\n",
      " - 13s - loss: 4.4765 - acc: 0.1559\n",
      "Epoch 19/50\n",
      " - 13s - loss: 4.4549 - acc: 0.1574\n",
      "Epoch 20/50\n",
      " - 11s - loss: 4.4343 - acc: 0.1554\n",
      "Epoch 21/50\n",
      " - 10s - loss: 4.4116 - acc: 0.1557\n",
      "Epoch 22/50\n",
      " - 10s - loss: 4.3536 - acc: 0.1568\n",
      "Epoch 23/50\n",
      " - 10s - loss: 4.3375 - acc: 0.1617\n",
      "Epoch 24/50\n",
      " - 10s - loss: 4.3045 - acc: 0.1579\n",
      "Epoch 25/50\n",
      " - 10s - loss: 4.2277 - acc: 0.1629\n",
      "Epoch 26/50\n",
      " - 10s - loss: 4.2097 - acc: 0.1694\n",
      "Epoch 27/50\n",
      " - 10s - loss: 4.1470 - acc: 0.1659\n",
      "Epoch 28/50\n",
      " - 10s - loss: 4.0598 - acc: 0.1691\n",
      "Epoch 29/50\n",
      " - 11s - loss: 3.9996 - acc: 0.1684\n",
      "Epoch 30/50\n",
      " - 13s - loss: 3.9479 - acc: 0.1744\n",
      "Epoch 31/50\n",
      " - 13s - loss: 3.9369 - acc: 0.1743\n",
      "Epoch 32/50\n",
      " - 13s - loss: 3.9363 - acc: 0.1711\n",
      "Epoch 33/50\n",
      " - 13s - loss: 3.9330 - acc: 0.1706\n",
      "Epoch 34/50\n",
      " - 13s - loss: 3.8922 - acc: 0.1700\n",
      "Epoch 35/50\n",
      " - 13s - loss: 3.8793 - acc: 0.1648\n",
      "Epoch 36/50\n",
      " - 13s - loss: 3.8124 - acc: 0.1693\n",
      "Epoch 37/50\n",
      " - 13s - loss: 3.8351 - acc: 0.1739\n",
      "Epoch 38/50\n",
      " - 13s - loss: 3.6724 - acc: 0.1881\n",
      "Epoch 39/50\n",
      " - 13s - loss: 3.5775 - acc: 0.1895\n",
      "Epoch 40/50\n",
      " - 14s - loss: 3.5036 - acc: 0.1891\n",
      "Epoch 41/50\n",
      " - 15s - loss: 3.4566 - acc: 0.1927\n",
      "Epoch 42/50\n",
      " - 15s - loss: 3.4326 - acc: 0.2070\n",
      "Epoch 43/50\n",
      " - 14s - loss: 3.3720 - acc: 0.2062\n",
      "Epoch 44/50\n",
      " - 15s - loss: 3.3198 - acc: 0.2054\n",
      "Epoch 45/50\n",
      " - 15s - loss: 3.2618 - acc: 0.2121\n",
      "Epoch 46/50\n",
      " - 14s - loss: 3.2068 - acc: 0.2174\n",
      "Epoch 47/50\n",
      " - 14s - loss: 3.2145 - acc: 0.2183\n",
      "Epoch 48/50\n",
      " - 14s - loss: 3.1527 - acc: 0.2180\n",
      "Epoch 49/50\n",
      " - 15s - loss: 3.1313 - acc: 0.2161\n",
      "Epoch 50/50\n",
      " - 15s - loss: 3.1522 - acc: 0.2124\n"
     ]
    },
    {
     "name": "stderr",
     "output_type": "stream",
     "text": [
      "C:\\Anaconda\\lib\\site-packages\\nltk\\translate\\bleu_score.py:490: UserWarning: \n",
      "Corpus/Sentence contains 0 counts of 4-gram overlaps.\n",
      "BLEU scores might be undesirable; use SmoothingFunction().\n",
      "  warnings.warn(_msg)\n"
     ]
    },
    {
     "name": "stdout",
     "output_type": "stream",
     "text": [
      ">1: train=0.024529864806482237 test=0.08660580952555154\n",
      "__________________________________________________________________________________________________\n",
      "Layer (type)                    Output Shape         Param #     Connected to                     \n",
      "==================================================================================================\n",
      "input_6 (InputLayer)            (None, 7, 7, 512)    0                                            \n",
      "__________________________________________________________________________________________________\n",
      "input_7 (InputLayer)            (None, 25)           0                                            \n",
      "__________________________________________________________________________________________________\n",
      "global_max_pooling2d_3 (GlobalM (None, 512)          0           input_6[0][0]                    \n",
      "__________________________________________________________________________________________________\n",
      "embedding_3 (Embedding)         (None, 25, 50)       18300       input_7[0][0]                    \n",
      "__________________________________________________________________________________________________\n",
      "dense_9 (Dense)                 (None, 128)          65664       global_max_pooling2d_3[0][0]     \n",
      "__________________________________________________________________________________________________\n",
      "lstm_5 (LSTM)                   (None, 25, 256)      314368      embedding_3[0][0]                \n",
      "__________________________________________________________________________________________________\n",
      "repeat_vector_3 (RepeatVector)  (None, 25, 128)      0           dense_9[0][0]                    \n",
      "__________________________________________________________________________________________________\n",
      "time_distributed_3 (TimeDistrib (None, 25, 128)      32896       lstm_5[0][0]                     \n",
      "__________________________________________________________________________________________________\n",
      "concatenate_3 (Concatenate)     (None, 25, 256)      0           repeat_vector_3[0][0]            \n",
      "                                                                 time_distributed_3[0][0]         \n",
      "__________________________________________________________________________________________________\n",
      "lstm_6 (LSTM)                   (None, 500)          1514000     concatenate_3[0][0]              \n",
      "__________________________________________________________________________________________________\n",
      "dense_11 (Dense)                (None, 500)          250500      lstm_6[0][0]                     \n",
      "__________________________________________________________________________________________________\n",
      "dense_12 (Dense)                (None, 366)          183366      dense_11[0][0]                   \n",
      "==================================================================================================\n",
      "Total params: 2,379,094\n",
      "Trainable params: 2,379,094\n",
      "Non-trainable params: 0\n",
      "__________________________________________________________________________________________________\n",
      "None\n",
      "Epoch 1/50\n",
      " - 16s - loss: 5.4492 - acc: 0.0840\n",
      "Epoch 2/50\n",
      " - 13s - loss: 5.1828 - acc: 0.1012\n",
      "Epoch 3/50\n",
      " - 13s - loss: 5.1665 - acc: 0.1012\n",
      "Epoch 4/50\n",
      " - 13s - loss: 5.1404 - acc: 0.1012\n",
      "Epoch 5/50\n",
      " - 13s - loss: 5.1109 - acc: 0.1012\n",
      "Epoch 6/50\n",
      " - 13s - loss: 5.0925 - acc: 0.1012\n",
      "Epoch 7/50\n",
      " - 14s - loss: 5.0650 - acc: 0.1012\n",
      "Epoch 8/50\n",
      " - 13s - loss: 5.0440 - acc: 0.1012\n",
      "Epoch 9/50\n",
      " - 13s - loss: 5.0133 - acc: 0.1012\n",
      "Epoch 10/50\n",
      " - 13s - loss: 4.9977 - acc: 0.1086\n",
      "Epoch 11/50\n",
      " - 13s - loss: 4.9619 - acc: 0.1144\n",
      "Epoch 12/50\n",
      " - 13s - loss: 4.9124 - acc: 0.1209\n",
      "Epoch 13/50\n",
      " - 13s - loss: 4.8657 - acc: 0.1295\n",
      "Epoch 14/50\n",
      " - 15s - loss: 4.8091 - acc: 0.1356\n",
      "Epoch 15/50\n",
      " - 13s - loss: 4.7487 - acc: 0.1339\n",
      "Epoch 16/50\n",
      " - 13s - loss: 4.6710 - acc: 0.1412\n",
      "Epoch 17/50\n",
      " - 13s - loss: 4.6149 - acc: 0.1494\n",
      "Epoch 18/50\n",
      " - 13s - loss: 4.5486 - acc: 0.1518\n",
      "Epoch 19/50\n",
      " - 12s - loss: 4.4793 - acc: 0.1472\n",
      "Epoch 20/50\n",
      " - 12s - loss: 4.4901 - acc: 0.1380\n",
      "Epoch 21/50\n",
      " - 13s - loss: 4.4441 - acc: 0.1570\n",
      "Epoch 22/50\n",
      " - 12s - loss: 4.4260 - acc: 0.1503\n",
      "Epoch 23/50\n",
      " - 13s - loss: 4.3926 - acc: 0.1520\n",
      "Epoch 24/50\n",
      " - 13s - loss: 4.3483 - acc: 0.1588\n",
      "Epoch 25/50\n",
      " - 13s - loss: 4.2881 - acc: 0.1574\n",
      "Epoch 26/50\n",
      " - 13s - loss: 4.2829 - acc: 0.1533\n",
      "Epoch 27/50\n",
      " - 13s - loss: 4.2155 - acc: 0.1559\n",
      "Epoch 28/50\n",
      " - 13s - loss: 4.1946 - acc: 0.1594\n",
      "Epoch 29/50\n",
      " - 13s - loss: 4.1335 - acc: 0.1579\n",
      "Epoch 30/50\n",
      " - 13s - loss: 4.1943 - acc: 0.1602\n",
      "Epoch 31/50\n",
      " - 13s - loss: 4.2072 - acc: 0.1626\n",
      "Epoch 32/50\n",
      " - 15s - loss: 4.1241 - acc: 0.1576\n",
      "Epoch 33/50\n",
      " - 20s - loss: 4.1088 - acc: 0.1535\n",
      "Epoch 34/50\n",
      " - 24s - loss: 4.0480 - acc: 0.1643\n",
      "Epoch 35/50\n",
      " - 22s - loss: 3.9795 - acc: 0.1650\n",
      "Epoch 36/50\n",
      " - 16s - loss: 3.9214 - acc: 0.1728\n",
      "Epoch 37/50\n",
      " - 17s - loss: 3.8426 - acc: 0.1678\n",
      "Epoch 38/50\n",
      " - 17s - loss: 3.7544 - acc: 0.1760\n",
      "Epoch 39/50\n",
      " - 16s - loss: 3.7539 - acc: 0.1788\n",
      "Epoch 40/50\n",
      " - 16s - loss: 3.7025 - acc: 0.1722\n",
      "Epoch 41/50\n",
      " - 18s - loss: 3.6286 - acc: 0.1883\n",
      "Epoch 42/50\n",
      " - 17s - loss: 3.5807 - acc: 0.1889\n",
      "Epoch 43/50\n",
      " - 16s - loss: 3.4958 - acc: 0.2012\n",
      "Epoch 44/50\n",
      " - 17s - loss: 3.4597 - acc: 0.1902\n",
      "Epoch 45/50\n",
      " - 16s - loss: 3.4066 - acc: 0.2002\n",
      "Epoch 46/50\n",
      " - 15s - loss: 3.3442 - acc: 0.2152\n",
      "Epoch 47/50\n",
      " - 17s - loss: 3.3212 - acc: 0.2049\n",
      "Epoch 48/50\n",
      " - 16s - loss: 3.2002 - acc: 0.2337\n",
      "Epoch 49/50\n",
      " - 17s - loss: 3.1219 - acc: 0.2251\n",
      "Epoch 50/50\n",
      " - 18s - loss: 3.1037 - acc: 0.2324\n",
      ">2: train=0.030172315994819694 test=0.07053150009747038\n",
      "__________________________________________________________________________________________________\n",
      "Layer (type)                    Output Shape         Param #     Connected to                     \n",
      "==================================================================================================\n",
      "input_8 (InputLayer)            (None, 7, 7, 512)    0                                            \n",
      "__________________________________________________________________________________________________\n",
      "input_9 (InputLayer)            (None, 25)           0                                            \n",
      "__________________________________________________________________________________________________\n",
      "global_max_pooling2d_4 (GlobalM (None, 512)          0           input_8[0][0]                    \n",
      "__________________________________________________________________________________________________\n",
      "embedding_4 (Embedding)         (None, 25, 50)       18300       input_9[0][0]                    \n",
      "__________________________________________________________________________________________________\n",
      "dense_13 (Dense)                (None, 128)          65664       global_max_pooling2d_4[0][0]     \n",
      "__________________________________________________________________________________________________\n",
      "lstm_7 (LSTM)                   (None, 25, 256)      314368      embedding_4[0][0]                \n",
      "__________________________________________________________________________________________________\n",
      "repeat_vector_4 (RepeatVector)  (None, 25, 128)      0           dense_13[0][0]                   \n",
      "__________________________________________________________________________________________________\n",
      "time_distributed_4 (TimeDistrib (None, 25, 128)      32896       lstm_7[0][0]                     \n",
      "__________________________________________________________________________________________________\n",
      "concatenate_4 (Concatenate)     (None, 25, 256)      0           repeat_vector_4[0][0]            \n",
      "                                                                 time_distributed_4[0][0]         \n",
      "__________________________________________________________________________________________________\n",
      "lstm_8 (LSTM)                   (None, 500)          1514000     concatenate_4[0][0]              \n",
      "__________________________________________________________________________________________________\n",
      "dense_15 (Dense)                (None, 500)          250500      lstm_8[0][0]                     \n",
      "__________________________________________________________________________________________________\n",
      "dense_16 (Dense)                (None, 366)          183366      dense_15[0][0]                   \n",
      "==================================================================================================\n",
      "Total params: 2,379,094\n",
      "Trainable params: 2,379,094\n",
      "Non-trainable params: 0\n",
      "__________________________________________________________________________________________________\n",
      "None\n"
     ]
    },
    {
     "name": "stdout",
     "output_type": "stream",
     "text": [
      "Epoch 1/50\n",
      " - 17s - loss: 5.4470 - acc: 0.0907\n",
      "Epoch 2/50\n",
      " - 12s - loss: 5.1821 - acc: 0.1012\n",
      "Epoch 3/50\n",
      " - 13s - loss: 5.1489 - acc: 0.1012\n",
      "Epoch 4/50\n",
      " - 12s - loss: 5.0826 - acc: 0.1012\n",
      "Epoch 5/50\n",
      " - 21s - loss: 5.0649 - acc: 0.1062\n",
      "Epoch 6/50\n",
      " - 21s - loss: 5.0080 - acc: 0.1041\n",
      "Epoch 7/50\n",
      " - 12s - loss: 4.9703 - acc: 0.1052\n",
      "Epoch 8/50\n",
      " - 19s - loss: 4.9666 - acc: 0.1138\n",
      "Epoch 9/50\n",
      " - 20s - loss: 4.8860 - acc: 0.1181\n",
      "Epoch 10/50\n",
      " - 14s - loss: 4.8191 - acc: 0.1212\n",
      "Epoch 11/50\n",
      " - 16s - loss: 4.7314 - acc: 0.1314\n",
      "Epoch 12/50\n",
      " - 15s - loss: 4.7094 - acc: 0.1334\n",
      "Epoch 13/50\n",
      " - 13s - loss: 4.6336 - acc: 0.1440\n",
      "Epoch 14/50\n",
      " - 13s - loss: 4.5505 - acc: 0.1555\n",
      "Epoch 15/50\n",
      " - 13s - loss: 4.5061 - acc: 0.1552\n",
      "Epoch 16/50\n",
      " - 13s - loss: 4.4469 - acc: 0.1395\n",
      "Epoch 17/50\n",
      " - 13s - loss: 4.3720 - acc: 0.1467\n",
      "Epoch 18/50\n",
      " - 13s - loss: 4.2726 - acc: 0.1522\n",
      "Epoch 19/50\n",
      " - 13s - loss: 4.2523 - acc: 0.1491\n",
      "Epoch 20/50\n",
      " - 13s - loss: 4.1762 - acc: 0.1509\n",
      "Epoch 21/50\n",
      " - 12s - loss: 4.0698 - acc: 0.1676\n",
      "Epoch 22/50\n",
      " - 13s - loss: 4.0294 - acc: 0.1584\n",
      "Epoch 23/50\n",
      " - 13s - loss: 3.9645 - acc: 0.1641\n",
      "Epoch 24/50\n",
      " - 13s - loss: 3.9859 - acc: 0.1463\n",
      "Epoch 25/50\n",
      " - 13s - loss: 4.0390 - acc: 0.1472\n",
      "Epoch 26/50\n",
      " - 13s - loss: 3.8452 - acc: 0.1663\n",
      "Epoch 27/50\n",
      " - 13s - loss: 3.6751 - acc: 0.1787\n",
      "Epoch 28/50\n",
      " - 12s - loss: 3.5545 - acc: 0.1914\n",
      "Epoch 29/50\n",
      " - 12s - loss: 3.4814 - acc: 0.1958\n",
      "Epoch 30/50\n",
      " - 13s - loss: 3.3995 - acc: 0.2056\n",
      "Epoch 31/50\n",
      " - 13s - loss: 3.3182 - acc: 0.2054\n",
      "Epoch 32/50\n",
      " - 13s - loss: 3.2635 - acc: 0.2111\n",
      "Epoch 33/50\n",
      " - 12s - loss: 3.1738 - acc: 0.2247\n",
      "Epoch 34/50\n",
      " - 12s - loss: 3.0996 - acc: 0.2248\n",
      "Epoch 35/50\n",
      " - 12s - loss: 3.0486 - acc: 0.2381\n",
      "Epoch 36/50\n",
      " - 12s - loss: 2.9859 - acc: 0.2458\n",
      "Epoch 37/50\n",
      " - 11s - loss: 2.9765 - acc: 0.2446\n",
      "Epoch 38/50\n",
      " - 10s - loss: 2.8906 - acc: 0.2653\n",
      "Epoch 39/50\n",
      " - 11s - loss: 2.8506 - acc: 0.2714\n",
      "Epoch 40/50\n",
      " - 12s - loss: 2.8138 - acc: 0.2655\n",
      "Epoch 41/50\n",
      " - 12s - loss: 2.6407 - acc: 0.2957\n",
      "Epoch 42/50\n",
      " - 12s - loss: 2.5133 - acc: 0.3058\n",
      "Epoch 43/50\n",
      " - 12s - loss: 2.3922 - acc: 0.3491\n",
      "Epoch 44/50\n",
      " - 12s - loss: 2.3663 - acc: 0.3383\n",
      "Epoch 45/50\n",
      " - 12s - loss: 2.3251 - acc: 0.3439\n",
      "Epoch 46/50\n",
      " - 12s - loss: 2.2562 - acc: 0.3747\n",
      "Epoch 47/50\n",
      " - 12s - loss: 2.2120 - acc: 0.3726\n",
      "Epoch 48/50\n",
      " - 12s - loss: 2.0982 - acc: 0.3904\n",
      "Epoch 49/50\n",
      " - 11s - loss: 2.0536 - acc: 0.4013\n",
      "Epoch 50/50\n",
      " - 11s - loss: 1.9464 - acc: 0.4271\n",
      ">3: train=0.11514472333109044 test=0.07630590820500661\n"
     ]
    }
   ],
   "source": [
    "# run experiment\n",
    "train_results, test_results = list(), list()\n",
    "for i in range(n_repeats):\n",
    "    # define the model\n",
    "    model = define_model(vocab_size, max_length)\n",
    "    # fit model\n",
    "    model.fit_generator(data_generator(train_descriptions, train_features, tokenizer, max_length, n_photos_per_update),\n",
    "                        steps_per_epoch=n_batches_per_epoch, epochs=n_epochs, verbose=verbose)\n",
    "    # evaluate model on training data\n",
    "    train_score = evaluate_model(model, train_descriptions, train_features, tokenizer, max_length)\n",
    "    test_score = evaluate_model(model, test_descriptions, test_features, tokenizer, max_length)\n",
    "    # store\n",
    "    train_results.append(train_score)\n",
    "    test_results.append(test_score)\n",
    "    print('>{}: train={} test={}'.format((i+1), train_score, test_score))\n",
    "    \n"
   ]
  },
  {
   "cell_type": "code",
   "execution_count": 21,
   "metadata": {},
   "outputs": [
    {
     "name": "stdout",
     "output_type": "stream",
     "text": [
      "          train      test\n",
      "count  3.000000  3.000000\n",
      "mean   0.056616  0.077814\n",
      "std    0.050766  0.008143\n",
      "min    0.024530  0.070532\n",
      "25%    0.027351  0.073419\n",
      "50%    0.030172  0.076306\n",
      "75%    0.072659  0.081456\n",
      "max    0.115145  0.086606\n"
     ]
    }
   ],
   "source": [
    "# save results to file\n",
    "path = \"D:/Program/dataset/Flickr8K/\"\n",
    "df = pd.DataFrame()\n",
    "df['train'] = train_results\n",
    "df['test'] = test_results\n",
    "print(df.describe())\n",
    "df.to_csv(path+model_name+'.csv', index=False)\n",
    "\n",
    "#save model\n",
    "model.save(path+\"baseline_model.h5\")"
   ]
  },
  {
   "cell_type": "markdown",
   "metadata": {
    "collapsed": true
   },
   "source": [
    "At the end of the run, a mean BLEU of 0.06 is reported on the training set and 0.06 on the test set. Results are stored in baseline1.csv.\n",
    "\n",
    "This provides a baseline model for comparison to alternate configurations.\n",
    "\n",
    "## “A” versus “A” Test\n",
    "Before we start testing variations of the model, it is important to get an idea of whether or not the test harness is stable.\n",
    "\n",
    "That is, whether the summarizing skill of the model over 5 runs is sufficient to control for the stochastic nature of the model.\n",
    "\n",
    "We can get an idea of this by running the experiment again in what is called an A vs A test in A/B testing land. We would expect to get an equivalent result if we ran the same experiment again; if we don’t, perhaps additional repeats would be required to control for the stochastic nature of the method and on the dataset.\n",
    "\n",
    "###  run the algorithm again\n",
    "\n",
    "## Generate Photo Captions\n",
    "\n",
    "We expect the model is under-trained and maybe even under provisioned, but can it generate any kind of readable text at all?\n",
    "\n",
    "It is important that the baseline model have some modicum of capability so that we can relate the BLEU scores of the baseline to an idea of what kind of quality of descriptions are being generated.\n",
    "\n",
    "Let’s train a single model and generate a few descriptions from the train and test sets as a sanity check.\n",
    "\n",
    "Change the number of repeats to 1 and the name of the run to *‘baseline_generate‘*."
   ]
  },
  {
   "cell_type": "code",
   "execution_count": 22,
   "metadata": {
    "collapsed": true
   },
   "outputs": [],
   "source": [
    "model_name = 'baseline_generate'\n",
    "n_repeats = 1"
   ]
  },
  {
   "cell_type": "markdown",
   "metadata": {},
   "source": [
    "Then update the evaluate_model() function to only evaluate the first 5 photos in the dataset and print the descriptions, as follows."
   ]
  },
  {
   "cell_type": "code",
   "execution_count": 23,
   "metadata": {
    "collapsed": true
   },
   "outputs": [],
   "source": [
    "# evaluate the skill of the model\n",
    "def evaluate_model(model, descriptions, photos, tokenizer, max_length):\n",
    "    actual, predicted = list(), list()\n",
    "    # step over the whole set\n",
    "    for key, desc in descriptions.items():\n",
    "        # generate description\n",
    "        yhat = generate_desc(model, tokenizer, photos[key], max_length)\n",
    "        # store actual and predicted\n",
    "        actual.append([desc.split()])\n",
    "        predicted.append(yhat.split())\n",
    "        print('Actual:    {}'.format(desc))\n",
    "        print('Predicted: {}'.format(yhat))\n",
    "        if len(actual) >= 5:\n",
    "            break\n",
    "    # calculate BLEU score\n",
    "    bleu = corpus_bleu(actual, predicted)\n",
    "    return bleu"
   ]
  },
  {
   "cell_type": "code",
   "execution_count": 24,
   "metadata": {},
   "outputs": [
    {
     "name": "stdout",
     "output_type": "stream",
     "text": [
      "Dataset: 6000\n",
      "Train=100, Test=100\n",
      "Descriptions: train=100, test=100\n",
      "Photos: train=100, test=100\n"
     ]
    }
   ],
   "source": [
    "# load train set\n",
    "filename = 'D:/Program/dataset/Flickr8K/Flickr8k_text/Flickr_8k.trainImages.txt'\n",
    "dataset = load_set(filename)\n",
    "print('Dataset: {}'.format(len(dataset)))\n",
    "# train-test split\n",
    "train, test = train_test_split(dataset)\n",
    "print('Train={}, Test={}'.format(len(train), len(test)))\n",
    "# descriptions\n",
    "train_descriptions = load_clean_descriptions('D:/Program/dataset/Flickr8K/descriptions.txt', train)\n",
    "test_descriptions = load_clean_descriptions('D:/Program/dataset/Flickr8K/descriptions.txt', test)\n",
    "print('Descriptions: train={}, test={}'.format(len(train_descriptions), len(test_descriptions)))\n",
    "# photo features\n",
    "train_features = load_photo_features('D:/Program/dataset/Flickr8K/features.pkl', train)\n",
    "test_features = load_photo_features('D:/Program/dataset/Flickr8K/features.pkl', test)\n",
    "print('Photos: train={}, test={}'.format(len(train_features), len(test_features)))"
   ]
  },
  {
   "cell_type": "code",
   "execution_count": 25,
   "metadata": {},
   "outputs": [
    {
     "name": "stdout",
     "output_type": "stream",
     "text": [
      "Actual:    startseq child in pink dress is climbing up set of stairs in an entry way endseq\n",
      "Predicted: startseq boy are are are on on night endseq\n",
      "Actual:    startseq black dog and spotted dog are fighting endseq\n",
      "Predicted: startseq grey and and and black dog and and little and little and little and little and little and little and little and little and little\n",
      "Actual:    startseq little girl covered in paint sits in front of painted rainbow with her hands in bowl endseq\n",
      "Predicted: startseq boy falling shorts shorts shorts shorts shorts shorts shorts shorts shorts shorts shorts shorts shorts shorts shorts shorts shorts shorts shorts shorts shorts shorts shorts\n",
      "Actual:    startseq man lays on bench while his dog sits by him endseq\n",
      "Predicted: startseq black black white in in in the the endseq\n",
      "Actual:    startseq man in an orange hat starring at something endseq\n",
      "Predicted: startseq boy shorts shorts shorts shorts shorts shorts shorts shorts shorts shorts shorts shorts shorts shorts shorts shorts shorts shorts shorts shorts shorts shorts shorts shorts\n"
     ]
    },
    {
     "name": "stderr",
     "output_type": "stream",
     "text": [
      "C:\\Anaconda\\lib\\site-packages\\nltk\\translate\\bleu_score.py:490: UserWarning: \n",
      "Corpus/Sentence contains 0 counts of 4-gram overlaps.\n",
      "BLEU scores might be undesirable; use SmoothingFunction().\n",
      "  warnings.warn(_msg)\n"
     ]
    },
    {
     "data": {
      "text/plain": [
       "0.07124227760752015"
      ]
     },
     "execution_count": 25,
     "metadata": {},
     "output_type": "execute_result"
    }
   ],
   "source": [
    "trainset_score = evaluate_model(model, train_descriptions, train_features, tokenizer, max_length)\n",
    "trainset_score"
   ]
  },
  {
   "cell_type": "code",
   "execution_count": 26,
   "metadata": {},
   "outputs": [
    {
     "name": "stdout",
     "output_type": "stream",
     "text": [
      "Actual:    startseq two men are sitting on the ground and going through their backpacks endseq\n",
      "Predicted: startseq boy of of of of of are are on night endseq\n",
      "Actual:    startseq child leaping from bed to bed behind the back of man endseq\n",
      "Predicted: startseq boy falling shorts shorts shorts shorts shorts shorts shorts shorts shorts shorts shorts shorts shorts shorts shorts shorts shorts shorts shorts shorts shorts shorts shorts\n",
      "Actual:    startseq bridge through high green plants man and woman on it endseq\n",
      "Predicted: startseq group an across across stone stone night endseq\n",
      "Actual:    startseq family gathered at painted van endseq\n",
      "Predicted: startseq man in playing the the near the endseq\n",
      "Actual:    startseq blond woman poses with person in pink costume endseq\n",
      "Predicted: startseq girl in in yellow yellow yellow the sword endseq\n"
     ]
    },
    {
     "name": "stderr",
     "output_type": "stream",
     "text": [
      "C:\\Anaconda\\lib\\site-packages\\nltk\\translate\\bleu_score.py:490: UserWarning: \n",
      "Corpus/Sentence contains 0 counts of 2-gram overlaps.\n",
      "BLEU scores might be undesirable; use SmoothingFunction().\n",
      "  warnings.warn(_msg)\n"
     ]
    },
    {
     "data": {
      "text/plain": [
       "0.6529942057256104"
      ]
     },
     "execution_count": 26,
     "metadata": {},
     "output_type": "execute_result"
    }
   ],
   "source": [
    "testset_score = evaluate_model(model, test_descriptions, test_features, tokenizer, max_length)\n",
    "testset_score"
   ]
  },
  {
   "cell_type": "code",
   "execution_count": 27,
   "metadata": {},
   "outputs": [
    {
     "name": "stdout",
     "output_type": "stream",
     "text": [
      "Dataset: 1000\n",
      "Train=100, Test=100\n",
      "Descriptions: train=100, test=100\n",
      "Photos: train=100, test=100\n"
     ]
    }
   ],
   "source": [
    "# load test set\n",
    "filename = 'D:/Program/dataset/Flickr8K/Flickr8k_text/Flickr_8k.testImages.txt'\n",
    "dataset = load_set(filename)\n",
    "print('Dataset: {}'.format(len(dataset)))\n",
    "# train-test split\n",
    "train, test = train_test_split(dataset)\n",
    "print('Train={}, Test={}'.format(len(train), len(test)))\n",
    "# descriptions\n",
    "train_descriptions = load_clean_descriptions('D:/Program/dataset/Flickr8K/descriptions.txt', train)\n",
    "test_descriptions = load_clean_descriptions('D:/Program/dataset/Flickr8K/descriptions.txt', test)\n",
    "print('Descriptions: train={}, test={}'.format(len(train_descriptions), len(test_descriptions)))\n",
    "# photo features\n",
    "train_features = load_photo_features('D:/Program/dataset/Flickr8K/features.pkl', train)\n",
    "test_features = load_photo_features('D:/Program/dataset/Flickr8K/features.pkl', test)\n",
    "print('Photos: train={}, test={}'.format(len(train_features), len(test_features)))"
   ]
  },
  {
   "cell_type": "code",
   "execution_count": 28,
   "metadata": {},
   "outputs": [
    {
     "name": "stdout",
     "output_type": "stream",
     "text": [
      "Actual:    startseq blond woman in blue shirt appears to wait for ride endseq\n",
      "Predicted: startseq girl in in swinging picture endseq\n",
      "Actual:    startseq boy in his blue swim shorts at the beach endseq\n",
      "Predicted: startseq boy in in in yellow his water endseq\n",
      "Actual:    startseq lady and man with no shirt sit on dock endseq\n",
      "Predicted: startseq boy boxer playing on the water endseq\n",
      "Actual:    startseq closeup of white dog that is laying its head on its paws endseq\n",
      "Predicted: startseq grey dog dog walks walks sand beach endseq\n",
      "Actual:    startseq boy with toy gun endseq\n",
      "Predicted: startseq girl in in yellow yellow the picture endseq\n"
     ]
    },
    {
     "name": "stderr",
     "output_type": "stream",
     "text": [
      "C:\\Anaconda\\lib\\site-packages\\nltk\\translate\\bleu_score.py:490: UserWarning: \n",
      "Corpus/Sentence contains 0 counts of 4-gram overlaps.\n",
      "BLEU scores might be undesirable; use SmoothingFunction().\n",
      "  warnings.warn(_msg)\n"
     ]
    },
    {
     "data": {
      "text/plain": [
       "0.11968868864173303"
      ]
     },
     "execution_count": 28,
     "metadata": {},
     "output_type": "execute_result"
    }
   ],
   "source": [
    "trainset_score = evaluate_model(model, train_descriptions, train_features, tokenizer, max_length)\n",
    "trainset_score"
   ]
  },
  {
   "cell_type": "code",
   "execution_count": 29,
   "metadata": {},
   "outputs": [
    {
     "name": "stdout",
     "output_type": "stream",
     "text": [
      "Actual:    startseq man and girl sit on the ground and eat endseq\n",
      "Predicted: startseq girl in in blue the endseq\n",
      "Actual:    startseq children participate in sport involving swine among spectators endseq\n",
      "Predicted: startseq boy standing standing standing the by by endseq\n",
      "Actual:    startseq girl kisses her mother goodbye before she waits with the other children to start school endseq\n",
      "Predicted: startseq boy in in in yellow on near near endseq\n",
      "Actual:    startseq mountain climber looks down from the summit endseq\n",
      "Predicted: startseq man in people backed the the endseq\n",
      "Actual:    startseq two boys in field kicking soccer ball endseq\n",
      "Predicted: startseq boy girls walking walking backed road road endseq\n"
     ]
    },
    {
     "name": "stderr",
     "output_type": "stream",
     "text": [
      "C:\\Anaconda\\lib\\site-packages\\nltk\\translate\\bleu_score.py:490: UserWarning: \n",
      "Corpus/Sentence contains 0 counts of 2-gram overlaps.\n",
      "BLEU scores might be undesirable; use SmoothingFunction().\n",
      "  warnings.warn(_msg)\n"
     ]
    },
    {
     "data": {
      "text/plain": [
       "0.5480502654574257"
      ]
     },
     "execution_count": 29,
     "metadata": {},
     "output_type": "execute_result"
    }
   ],
   "source": [
    "testset_score = evaluate_model(model, test_descriptions, test_features, tokenizer, max_length)\n",
    "testset_score"
   ]
  },
  {
   "cell_type": "markdown",
   "metadata": {},
   "source": [
    "We can see that the descriptions are not perfect, some are a little rough, but generally the model is generating somewhat readable text. A good starting point for improvement.\n",
    "\n",
    "Next, let’s look at some experiments to vary the size or capacity of different sub-models."
   ]
  },
  {
   "cell_type": "code",
   "execution_count": null,
   "metadata": {
    "collapsed": true
   },
   "outputs": [],
   "source": []
  },
  {
   "cell_type": "code",
   "execution_count": null,
   "metadata": {
    "collapsed": true
   },
   "outputs": [],
   "source": []
  },
  {
   "cell_type": "code",
   "execution_count": null,
   "metadata": {
    "collapsed": true
   },
   "outputs": [],
   "source": []
  },
  {
   "cell_type": "code",
   "execution_count": null,
   "metadata": {
    "collapsed": true
   },
   "outputs": [],
   "source": []
  },
  {
   "cell_type": "code",
   "execution_count": null,
   "metadata": {
    "collapsed": true
   },
   "outputs": [],
   "source": []
  },
  {
   "cell_type": "code",
   "execution_count": null,
   "metadata": {
    "collapsed": true
   },
   "outputs": [],
   "source": []
  },
  {
   "cell_type": "code",
   "execution_count": null,
   "metadata": {
    "collapsed": true
   },
   "outputs": [],
   "source": []
  },
  {
   "cell_type": "code",
   "execution_count": null,
   "metadata": {
    "collapsed": true
   },
   "outputs": [],
   "source": []
  },
  {
   "cell_type": "markdown",
   "metadata": {},
   "source": [
    "# Dataset copyright\n",
    "\n",
    "Please cite M. Hodosh, P. Young and J. Hockenmaier (2013) \"Framing Image Description as a Ranking Task: Data, Models and Evaluation Metrics\", Journal of Artificial Intelligence Research, Volume 47, pages 853-899 http://www.jair.org/papers/paper3994.html when discussing our results"
   ]
  },
  {
   "cell_type": "code",
   "execution_count": null,
   "metadata": {
    "collapsed": true
   },
   "outputs": [],
   "source": []
  }
 ],
 "metadata": {
  "kernelspec": {
   "display_name": "Python 3",
   "language": "python",
   "name": "python3"
  },
  "language_info": {
   "codemirror_mode": {
    "name": "ipython",
    "version": 3
   },
   "file_extension": ".py",
   "mimetype": "text/x-python",
   "name": "python",
   "nbconvert_exporter": "python",
   "pygments_lexer": "ipython3",
   "version": "3.6.2"
  }
 },
 "nbformat": 4,
 "nbformat_minor": 2
}
