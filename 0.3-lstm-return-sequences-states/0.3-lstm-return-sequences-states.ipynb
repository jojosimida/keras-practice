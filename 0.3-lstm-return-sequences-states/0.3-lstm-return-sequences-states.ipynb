{
 "cells": [
  {
   "cell_type": "markdown",
   "metadata": {},
   "source": [
    "# Understand the Difference Between Return Sequences and Return States for LSTMs in Keras\n",
    "\n",
    "The Keras API provides access to both return sequences and return state. The use and difference between these data can be confusing when designing sophisticated recurrent neural network models, such as the encoder-decoder model.\n",
    "\n",
    "Summary:\n",
    "* That return sequences return the hidden state output for each input time step.\n",
    "* That return state returns the hidden state output and cell state for the last input time step.\n",
    "* That return sequences and return state can be used at the same time.\n",
    "\n",
    "The Long Short-Term Memory, or LSTM, is a recurrent neural network that is comprised of internal gates.\n",
    "\n",
    "Unlike other recurrent neural networks, the network’s internal gates allow the model to be trained successfully using backpropagation through time, or BPTT, and avoid the vanishing gradients problem.\n",
    "\n",
    "In the Keras deep learning library, LSTM layers can be created using the LSTM() class.\n",
    "\n",
    "Creating a layer of LSTM memory units allows you to specify the number of memory units within the layer.\n",
    "\n",
    "Each unit or cell within the layer has an internal cell state, often abbreviated as *“c“*, and outputs a hidden state, often abbreviated as *“h“*.\n",
    "\n",
    "![](https://imgur.com/nXBgbtq.png)"
   ]
  },
  {
   "cell_type": "markdown",
   "metadata": {},
   "source": [
    "The Keras API allows you to access these data, which can be useful or even required when developing sophisticated recurrent neural network architectures, such as the encoder-decoder model.\n"
   ]
  },
  {
   "cell_type": "code",
   "execution_count": 1,
   "metadata": {},
   "outputs": [
    {
     "name": "stderr",
     "output_type": "stream",
     "text": [
      "Using TensorFlow backend.\n"
     ]
    },
    {
     "data": {
      "text/plain": [
       "'2.1.2'"
      ]
     },
     "execution_count": 1,
     "metadata": {},
     "output_type": "execute_result"
    }
   ],
   "source": [
    "import keras\n",
    "keras.__version__"
   ]
  },
  {
   "cell_type": "markdown",
   "metadata": {},
   "source": [
    "## Return Sequences\n",
    "Each LSTM cell will output one hidden state *h* for each input.\n",
    "> h = LSTM(X)\n",
    "\n",
    "We can demonstrate this in Keras with a very small model with a single LSTM layer that itself contains a single LSTM cell.\n",
    "In this example, we will have one input sample with 3 time steps and one feature observed at each time step:\n",
    "> timestep_1 = 0.1\n",
    "\n",
    "> timestep_2 = 0.2\n",
    "\n",
    "> timestep_3 = 0.3"
   ]
  },
  {
   "cell_type": "code",
   "execution_count": 2,
   "metadata": {},
   "outputs": [
    {
     "name": "stdout",
     "output_type": "stream",
     "text": [
      "[[-0.06489331]]\n"
     ]
    }
   ],
   "source": [
    "from keras.models import Model\n",
    "from keras.layers import Input\n",
    "from keras.layers import LSTM\n",
    "import numpy as np\n",
    "\n",
    "# define model\n",
    "inputs1 = Input(shape=(3, 1))\n",
    "lstm1 = LSTM(1)(inputs1)\n",
    "model = Model(inputs=inputs1, outputs=lstm1)\n",
    "\n",
    "# define input data\n",
    "# The input tensor format required by the LSTM model is:\n",
    "# (batch_size，timesteps，input_features)\n",
    "data = np.array([0.1, 0.2, 0.3]).reshape((1,3,1))\n",
    "\n",
    "# make and show prediction\n",
    "print(model.predict(data))"
   ]
  },
  {
   "cell_type": "markdown",
   "metadata": {},
   "source": [
    "Running the example outputs a single hidden state for the input sequence with 3 time steps.\n",
    "\n",
    "It is possible to access the hidden state output for each input time step.\n",
    "\n",
    "This can be done by setting the `return_sequences` attribute to `True` when defining the LSTM layer, as follows:\n",
    "> LSTM(1, return_sequences=True)"
   ]
  },
  {
   "cell_type": "code",
   "execution_count": 3,
   "metadata": {},
   "outputs": [
    {
     "name": "stdout",
     "output_type": "stream",
     "text": [
      "[[[-0.01621807]\n",
      "  [-0.04534798]\n",
      "  [-0.08408501]]]\n"
     ]
    }
   ],
   "source": [
    "from keras.models import Model\n",
    "from keras.layers import Input\n",
    "from keras.layers import LSTM\n",
    "import numpy as np\n",
    "\n",
    "# define model\n",
    "inputs1 = Input(shape=(3, 1))\n",
    "lstm1 = LSTM(1, return_sequences=True)(inputs1)\n",
    "model = Model(inputs=inputs1, outputs=lstm1)\n",
    "\n",
    "# define input data\n",
    "data = np.array([0.1, 0.2, 0.3]).reshape((1,3,1))\n",
    "\n",
    "# make and show prediction\n",
    "print(model.predict(data))"
   ]
  },
  {
   "cell_type": "markdown",
   "metadata": {},
   "source": [
    "Running the example returns a sequence of 3 values, one hidden state output for each input time step for the single LSTM cell in the layer.\n",
    "\n",
    "You must set `return_sequences=True` when stacking LSTM layers so that the second LSTM layer has a three-dimensional sequence input. For more details, see the post:\n",
    "* [Stacked Long Short-Term Memory Networks](https://machinelearningmastery.com/stacked-long-short-term-memory-networks/)\n",
    "\n",
    "You may also need to access the sequence of hidden state outputs when predicting a sequence of outputs with a Dense output layer wrapped in a TimeDistributed layer. See this post for more details:\n",
    "\n",
    "* [How to Use the TimeDistributed Layer for Long Short-Term Memory Networks in Python](https://machinelearningmastery.com/timedistributed-layer-for-long-short-term-memory-networks-in-python/)"
   ]
  },
  {
   "cell_type": "markdown",
   "metadata": {},
   "source": [
    "## Return States\n",
    "The output of an LSTM cell or layer of cells is called the hidden state.\n",
    "\n",
    "This is confusing, because each LSTM cell retains an internal state that is not output, called the cell state, or *c*.\n",
    "\n",
    "Generally, we do not need to access the cell state unless we are developing sophisticated models where subsequent layers may need to have their cell state initialized with the final cell state of another layer, such as in an encoder-decoder model.\n",
    "\n",
    "Keras provides the `return_state` argument to the LSTM layer that will provide access to the hidden state output (`state_h`) and the cell state (`state_c`). For example:\n",
    "> lstm1, state_h, state_c = LSTM(1, return_state=True)\n",
    "\n",
    "This may look confusing because both `lstm1` and `state_h` refer to the same hidden state output. The reason for these two tensors being separate will become clear in the next section.\n",
    "\n",
    "We can demonstrate access to the hidden and cell states of the cells in the LSTM layer with a worked example listed below."
   ]
  },
  {
   "cell_type": "code",
   "execution_count": 4,
   "metadata": {},
   "outputs": [
    {
     "name": "stdout",
     "output_type": "stream",
     "text": [
      "[array([[ 0.05934551]], dtype=float32), array([[ 0.05934551]], dtype=float32), array([[ 0.13478732]], dtype=float32)]\n"
     ]
    }
   ],
   "source": [
    "from keras.models import Model\n",
    "from keras.layers import Input\n",
    "from keras.layers import LSTM\n",
    "import numpy as np\n",
    "\n",
    "# define model\n",
    "inputs1 = Input(shape=(3, 1))\n",
    "lstm1, state_h, state_c = LSTM(1, return_state=True)(inputs1)\n",
    "model = Model(inputs=inputs1, outputs=[lstm1, state_h, state_c])\n",
    "\n",
    "# define input data\n",
    "data = np.array([0.1, 0.2, 0.3]).reshape((1,3,1))\n",
    "\n",
    "# make and show prediction\n",
    "print(model.predict(data))"
   ]
  },
  {
   "cell_type": "markdown",
   "metadata": {},
   "source": [
    "Running the example returns 3 arrays:\n",
    "\n",
    "1. The LSTM hidden state output for the last time step.\n",
    "2. The LSTM hidden state output for the last time step (again).\n",
    "3. The LSTM cell state for the last time step.\n",
    "\n",
    "The hidden state and the cell state could in turn be used to initialize the states of another LSTM layer with the same number of cells."
   ]
  },
  {
   "cell_type": "markdown",
   "metadata": {},
   "source": [
    "## Return States and Sequences\n",
    "We can access both the sequence of hidden state and the cell states at the same time.\n",
    "\n",
    "This can be done by configuring the LSTM layer to both return sequences and return states.\n",
    "> lstm_1, state_h, state_c = LSTM(1, return_sequences=True, return_state=True)\n",
    "\n"
   ]
  },
  {
   "cell_type": "code",
   "execution_count": 5,
   "metadata": {},
   "outputs": [
    {
     "name": "stdout",
     "output_type": "stream",
     "text": [
      "[array([[[ 0.02139024],\n",
      "        [ 0.06493985],\n",
      "        [ 0.13029268]]], dtype=float32), array([[ 0.13029268]], dtype=float32), array([[ 0.23715121]], dtype=float32)]\n"
     ]
    }
   ],
   "source": [
    "from keras.models import Model\n",
    "from keras.layers import Input\n",
    "from keras.layers import LSTM\n",
    "import numpy as np\n",
    "\n",
    "# define model\n",
    "inputs1 = Input(shape=(3, 1))\n",
    "lstm1, state_h, state_c = LSTM(1, return_sequences=True, return_state=True)(inputs1)\n",
    "model = Model(inputs=inputs1, outputs=[lstm1, state_h, state_c])\n",
    "\n",
    "# define input data\n",
    "data = np.array([0.1, 0.2, 0.3]).reshape((1,3,1))\n",
    "\n",
    "# make and show prediction\n",
    "print(model.predict(data))"
   ]
  },
  {
   "cell_type": "markdown",
   "metadata": {},
   "source": [
    "Running the example, we can see now why the LSTM output tensor and hidden state output tensor are declared separably.\n",
    "\n",
    "The layer returns the hidden state for each input time step, then separately, the hidden state output for the last time step and the cell state for the last input time step.\n",
    "\n",
    "This can be confirmed by seeing that the last value in the returned sequences (first array) matches the value in the hidden state (second array)."
   ]
  },
  {
   "cell_type": "markdown",
   "metadata": {},
   "source": [
    "# Reference \n",
    "* [Understand the Difference Between Return Sequences and Return States for LSTMs in Keras](https://machinelearningmastery.com/return-sequences-and-return-states-for-lstms-in-keras/)\n",
    "* [A ten-minute introduction to sequence-to-sequence learning in Keras](https://blog.keras.io/a-ten-minute-introduction-to-sequence-to-sequence-learning-in-keras.html)"
   ]
  },
  {
   "cell_type": "code",
   "execution_count": null,
   "metadata": {
    "collapsed": true
   },
   "outputs": [],
   "source": []
  }
 ],
 "metadata": {
  "kernelspec": {
   "display_name": "Python 3",
   "language": "python",
   "name": "python3"
  },
  "language_info": {
   "codemirror_mode": {
    "name": "ipython",
    "version": 3
   },
   "file_extension": ".py",
   "mimetype": "text/x-python",
   "name": "python",
   "nbconvert_exporter": "python",
   "pygments_lexer": "ipython3",
   "version": "3.6.2"
  }
 },
 "nbformat": 4,
 "nbformat_minor": 2
}
